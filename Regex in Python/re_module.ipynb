{
 "cells": [
  {
   "cell_type": "code",
   "execution_count": 2,
   "metadata": {},
   "outputs": [
    {
     "name": "stdout",
     "output_type": "stream",
     "text": [
      "['A', 'ASCII', 'DEBUG', 'DOTALL', 'I', 'IGNORECASE', 'L', 'LOCALE', 'M', 'MULTILINE', 'Match', 'Pattern', 'RegexFlag', 'S', 'Scanner', 'T', 'TEMPLATE', 'U', 'UNICODE', 'VERBOSE', 'X', '_MAXCACHE', '__all__', '__builtins__', '__cached__', '__doc__', '__file__', '__loader__', '__name__', '__package__', '__spec__', '__version__', '_cache', '_compile', '_compile_repl', '_expand', '_locale', '_pickle', '_special_chars_map', '_subx', 'compile', 'copyreg', 'enum', 'error', 'escape', 'findall', 'finditer', 'fullmatch', 'functools', 'match', 'purge', 'search', 'split', 'sre_compile', 'sre_parse', 'sub', 'subn', 'template']\n"
     ]
    }
   ],
   "source": [
    "import re\n",
    "'''\n",
    "Regular Expression is a sequence of characters that forms a search pattern in a String.\n",
    "In another words this is scheme for Advance Search operation on string.\n",
    "The \"re\" package provides several methods to actually perform queries on an input string\n",
    "1. re.search() : Returns a Match object if there is a match anywhere in the string\n",
    "2. re.match() : returns a match object on success, None on failure\n",
    "3. re.findall() : Returns a list containing all matches\n",
    "4. re.sub() : Replaces one or many matches with a string\n",
    "5. re.split() : Returns a list where the string has been split at each match\n",
    "6. re.compile() : We can combine a regular expression pattern into pattern objects,\n",
    "                  which can be used for pattern matching.\n",
    "                  It also helps to search a pattern again without rewriting it'''\n",
    "\n",
    "# Python has a built-in package called re, which can be used to work with Regular Expressions.\n",
    "# Import the re module:\n",
    "# import re\n",
    "print(dir(re))"
   ]
  },
  {
   "cell_type": "code",
   "execution_count": 2,
   "metadata": {},
   "outputs": [
    {
     "name": "stdout",
     "output_type": "stream",
     "text": [
      "<re.Match object; span=(0, 6), match='python'>\n",
      "<re.Match object; span=(7, 13), match='is the'>\n",
      "None\n",
      "<re.Match object; span=(0, 13), match='python is the'>\n",
      "<re.Match object; span=(0, 6), match='python'>\n",
      "0\n",
      "6\n",
      "(0, 6)\n",
      "python\n",
      "()\n"
     ]
    }
   ],
   "source": [
    "# Python has a built-in package called re, which can be used to work with Regular Expressions.\n",
    "# Import the re module:\n",
    "# import re\n",
    "\n",
    "import re\n",
    "# 1. search() : Returns a Match object if there is a match anywhere in the string\n",
    "st = 'python is the best language'\n",
    "res = re.search('python', st)\n",
    "print(res)  # <re.Match object; span=(0, 6), match='python'>\n",
    "\n",
    "res = re.search('is the', st)\n",
    "print(res)  # <re.Match object; span=(7, 13), match='is the'>\n",
    "\n",
    "res = re.search('best is', st)\n",
    "print(res)  # None\n",
    "\n",
    "# meta characters\n",
    "res = re.search('(.*)is the', st)\n",
    "print(res)  # <re.Match object; span=(0, 13), match='python is the'>\n",
    "\n",
    "res = re.search('P|python', st)\n",
    "print(res)  # <re.Match object; span=(0, 6), match='python'>\n",
    "\n",
    "print(res.start())  # start s=index\n",
    "print(res.end())  # end index\n",
    "print(res.span())  # tuple of start and end index of searched pattern\n",
    "print(res.group())  # return match pattern string if there is no groups in expression\n",
    "print(res.groups())  # return if groups found"
   ]
  },
  {
   "cell_type": "code",
   "execution_count": 14,
   "metadata": {},
   "outputs": [
    {
     "name": "stdout",
     "output_type": "stream",
     "text": [
      "<re.Match object; span=(0, 9), match='python is'>\n",
      "python is\n",
      "python\n",
      " is\n"
     ]
    }
   ],
   "source": [
    "# 1. search() : Returns a Match object if there is a match anywhere in the string\n",
    "st = 'python is the best language'\n",
    "res = re.search('(python)(.{})', st)\n",
    "print(res)  # <re.Match object; span=(0, 6), match='python'>\n",
    "\n",
    "print(res.group())\n",
    "for i in res.groups():\n",
    "    print(i)"
   ]
  },
  {
   "cell_type": "code",
   "execution_count": 22,
   "metadata": {},
   "outputs": [
    {
     "name": "stdout",
     "output_type": "stream",
     "text": [
      "[3, 6, 8, 9]\n",
      "[3, 9]\n"
     ]
    }
   ],
   "source": [
    "# filter() \n",
    "# def apna_fun(x):\n",
    "\n",
    "lst = [3, 6, 8, 9]\n",
    "print(lst)\n",
    "out = list(filter(lambda x: x%2 == 1, lst))\n",
    "print(out)"
   ]
  }
 ],
 "metadata": {
  "interpreter": {
   "hash": "ac63e7d2902d829a95718f514f583b39cb52f10e7c5524becb094a341f2ea3ca"
  },
  "kernelspec": {
   "display_name": "Python 3.10.1 64-bit (windows store)",
   "language": "python",
   "name": "python3"
  },
  "language_info": {
   "codemirror_mode": {
    "name": "ipython",
    "version": 3
   },
   "file_extension": ".py",
   "mimetype": "text/x-python",
   "name": "python",
   "nbconvert_exporter": "python",
   "pygments_lexer": "ipython3",
   "version": "3.10.1"
  },
  "orig_nbformat": 4
 },
 "nbformat": 4,
 "nbformat_minor": 2
}
