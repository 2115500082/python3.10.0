{
 "cells": [
  {
   "cell_type": "code",
   "execution_count": 1,
   "metadata": {},
   "outputs": [],
   "source": [
    "#  How do I remove all non alphanumeric characters from a string?\n"
   ]
  },
  {
   "cell_type": "code",
   "execution_count": null,
   "metadata": {},
   "outputs": [],
   "source": [
    "# What is Regular Expression to validate Email?"
   ]
  },
  {
   "cell_type": "code",
   "execution_count": 26,
   "metadata": {},
   "outputs": [],
   "source": [
    "# Name an animal whose name consists of 3 letters alphabet and the middle letter is the vowel a\n",
    "\n",
    "ht =  \"^[a-z]a[a-z]$\"\n"
   ]
  },
  {
   "cell_type": "code",
   "execution_count": 27,
   "metadata": {},
   "outputs": [],
   "source": [
    "# How to find words ending with ing\n",
    "st = input()\n",
    "pt = r'\\b[a-z]*ing\\b'\n",
    "\n",
    "\n"
   ]
  },
  {
   "cell_type": "code",
   "execution_count": 48,
   "metadata": {},
   "outputs": [
    {
     "name": "stdout",
     "output_type": "stream",
     "text": [
      "['rate', 'base', 'mate', 'gla']\n"
     ]
    }
   ],
   "source": [
    "# find all words starting with non-vowel and end with a vowel (using regex).\n",
    "# st = input('enter the word')\n",
    "\n",
    "st = 'python rate base mate gla'\n",
    "\n",
    "pt = r'\\b[^aeiou ]\\w*[aeiou]\\b'\n",
    "\n",
    "out = re.findall(pt, st)\n",
    "print(out)\n",
    "\n",
    "\n",
    "# if re.search(pt, st):\n",
    "#     print(st)\n"
   ]
  },
  {
   "cell_type": "code",
   "execution_count": 34,
   "metadata": {},
   "outputs": [
    {
     "name": "stdout",
     "output_type": "stream",
     "text": [
      "<re.Match object; span=(14, 16), match='pa'>\n"
     ]
    }
   ],
   "source": [
    "import re\n",
    "k = 'python is the pa'\n",
    "out = re.search('pas*', k)\n",
    "print(out)"
   ]
  }
 ],
 "metadata": {
  "interpreter": {
   "hash": "ac63e7d2902d829a95718f514f583b39cb52f10e7c5524becb094a341f2ea3ca"
  },
  "kernelspec": {
   "display_name": "Python 3.10.1 64-bit (windows store)",
   "language": "python",
   "name": "python3"
  },
  "language_info": {
   "codemirror_mode": {
    "name": "ipython",
    "version": 3
   },
   "file_extension": ".py",
   "mimetype": "text/x-python",
   "name": "python",
   "nbconvert_exporter": "python",
   "pygments_lexer": "ipython3",
   "version": "3.10.1"
  },
  "orig_nbformat": 4
 },
 "nbformat": 4,
 "nbformat_minor": 2
}
