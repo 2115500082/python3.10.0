{
 "cells": [
  {
   "cell_type": "code",
   "execution_count": 1,
   "metadata": {},
   "outputs": [],
   "source": [
    "# import module \n",
    "import re"
   ]
  },
  {
   "cell_type": "code",
   "execution_count": null,
   "metadata": {},
   "outputs": [],
   "source": [
    "# Alternative\n",
    "# Eg\n",
    "\"cat|mat\"  == \"cat\" or \"mat\"\n",
    "\"python|jython\" == \"python\" or \"jython\"\n",
    "\n",
    "# Grouping \n",
    "# Eg\n",
    "\"gr(e|a)y\" == \"grey\" or \"gray\"\n",
    "\"ra(mil|n(ny|el))\" == \"ramil\" or \"ranny\" or \"ranel\"\n",
    "\n",
    "\n"
   ]
  },
  {
   "cell_type": "code",
   "execution_count": null,
   "metadata": {},
   "outputs": [],
   "source": [
    "# Quantifiaction \n",
    "\n",
    "# ? => zero or one of the preceding element\n",
    "# Eg:\n",
    "    \"rani?el\"  ==  \"raniel\" or \"ranel\"\n",
    "    \"colou?r\"  == \"colour\" or \"color\"    \n",
    "\n",
    "# * => zero or more of the preceding \n",
    "# Eg:\n",
    "    \"fo*ot\"  == \"foot\" or \"fooot\" or \"foooot\"\n",
    "    \"94*9\"   ==  \"99\" or \"944449\"...\n",
    "# + => one or more of the preceding element\n",
    "# Eg:\n",
    "    \"to+fan\"  == \"tofan\" or \"toooofan\"\n",
    "    \"36+40\"   == \"3640\" or \"36666640\"\n",
    "# {m, n} == m to n times of the preceding element\n",
    "# Eg:\n",
    "    \"go{2,3}gle\"  == \"google\" or \"gooogle\"\n",
    "    \"6{3}\"  == \"666\"\n",
    "    \"s{2,}\"  == \"ss\" or \"sss\"  or \"ssss\" ...\n",
    "\n",
    "\n"
   ]
  },
  {
   "cell_type": "code",
   "execution_count": null,
   "metadata": {},
   "outputs": [],
   "source": [
    "# Anchors \n",
    "# ^ => matches the starting position with in the string\n",
    "# Eg:\n",
    "    \"^obje\"  == \"object\"  or \"objection\"\n",
    "\n",
    "# $ => matches the ending position with in the string \n",
    "    \"gram$\" == \"program\" or \"kilogram\"\n",
    "    \"2022\"  ==  \"20/01/2022\" or \"01/01/2022\"\n",
    "    \n",
    "\n"
   ]
  },
  {
   "cell_type": "code",
   "execution_count": null,
   "metadata": {},
   "outputs": [],
   "source": [
    "#Meta-characters\n",
    "# .(dot) => match any single character\n",
    "# Eg:\n",
    "    \"bat.\"  == \"bat\" or \"bats\" or \"bata\" \n",
    "    \"87.1\"  == \"8741\" or \"8751\" or \"8761\" ...\n",
    "# [] => matches a single character that is contained with in the bracket\n",
    "# Eg\n",
    "    \"b[xyz]\" == \"bx\"  or \"by\" or \"bz\"\n",
    "    \"[aeiou]\" == \"any vowel\"\n",
    "    \"[0123456789]\" == \"any digit\" \n",
    "# [-] => matches a single character that is contained within the specified range\n",
    "# Eg:\n",
    "    \"[a-c]\"  == \"a\" or \"b\" or \"c\"\n",
    "    \"[a-zA-Z]\" == \"all letters(upper and lower)\"\n",
    "# [^] == matches the single character that is not contained within the brackets\n",
    "# Eg:\n",
    "    \"[^aeiou]\" == \"any non-vowel\"\n",
    "    \"[^0-9]\" == \"any non-digit\" \n",
    "    \"[^xyz]\"  == \"any character, but not in x, y, z\" \n",
    "      \n"
   ]
  },
  {
   "cell_type": "code",
   "execution_count": null,
   "metadata": {},
   "outputs": [],
   "source": [
    "# # chaacter classes\n",
    "# # character classes specifies a group of characters to match in a string\n",
    "# '''\n",
    "# Character\tDescription\tExample\tTry it\n",
    "# \\A\tReturns a match if the specified characters are at the beginning of the string\t\"\\AThe\"\t\n",
    "# \\b\tReturns a match where the specified characters are at the beginning or at the end of a word\tr\"\\bain\"\n",
    "# r\"ain\\b\"\t\n",
    "# \\B\tReturns a match where the specified characters are present, but NOT at the beginning (or at the end) of a word\tr\"\\Bain\"\n",
    "# r\"ain\\B\"\t\n",
    "# \\d\tReturns a match where the string contains digits (numbers from 0-9)\t\"\\d\"\t\n",
    "# \\D\tReturns a match where the string DOES NOT contain digits\t\"\\D\"\t\n",
    "# \\s\tReturns a match where the string contains a white space character\t\"\\s\"\t\n",
    "# \\S\tReturns a match where the string DOES NOT contain a white space character\t\"\\S\"\t\n",
    "# \\w\tReturns a match where the string contains any word characters (characters from a to Z, digits from 0-9, and the underscore _ character)\t\"\\w\"\t\n",
    "# \\W\tReturns a match where the string DOES NOT contain any word characters\t\"\\W\"\t\n",
    "# \\Z\tReturns a match if the specified characters are at the end of the string\t\"Spain\\Z\""
   ]
  },
  {
   "cell_type": "code",
   "execution_count": 12,
   "metadata": {},
   "outputs": [
    {
     "name": "stdout",
     "output_type": "stream",
     "text": [
      "<re.Match object; span=(0, 18), match='python is the best'>\n"
     ]
    },
    {
     "data": {
      "text/plain": [
       "('best',)"
      ]
     },
     "execution_count": 12,
     "metadata": {},
     "output_type": "execute_result"
    }
   ],
   "source": [
    "st = 'python is the best language only python'\n",
    "res = re.search('python.*(best)', st)\n",
    "print(res)\n",
    "\n",
    "res.groups()"
   ]
  },
  {
   "cell_type": "code",
   "execution_count": 17,
   "metadata": {},
   "outputs": [
    {
     "data": {
      "text/plain": [
       "['amirkhan1092@gmail.com', 'mandeep.singh@gla.ac.in']"
      ]
     },
     "execution_count": 17,
     "metadata": {},
     "output_type": "execute_result"
    }
   ],
   "source": [
    "st = 'hello my email id is amirkhan1092@gmail.com and my friend email is mandeep.singh@gla.ac.in'\n",
    "re.findall(\"[a-zA-z-_.0-9]+@[a-zA-z-_.0-9]*\", st)"
   ]
  },
  {
   "cell_type": "code",
   "execution_count": 29,
   "metadata": {},
   "outputs": [
    {
     "name": "stdout",
     "output_type": "stream",
     "text": [
      "valid\n"
     ]
    }
   ],
   "source": [
    "email = input()\n",
    "regx = '^[a-z0-9]+[\\._]?[a-z0-9]+[@][a-z]+[\\._]?[a-z]+[\\._]?[a-z]+$'\n",
    "out = re.search(regx, email)\n",
    "if out:\n",
    "    print('valid')\n",
    "else:\n",
    "    print('Not valid')"
   ]
  },
  {
   "cell_type": "code",
   "execution_count": null,
   "metadata": {},
   "outputs": [],
   "source": [
    "st = 'hello python class'\n",
    "\n",
    "re.search('hon\\B')"
   ]
  },
  {
   "cell_type": "code",
   "execution_count": 37,
   "metadata": {},
   "outputs": [],
   "source": [
    "import re "
   ]
  },
  {
   "cell_type": "code",
   "execution_count": 51,
   "metadata": {},
   "outputs": [
    {
     "name": "stdout",
     "output_type": "stream",
     "text": [
      "['python', 'Python']\n"
     ]
    }
   ],
   "source": [
    "st = 'python is the best language is Python'\n",
    "\n",
    "out = re.findall('Python|python', st)\n",
    "\n",
    "print(out)\n",
    "# if out:\n",
    "#     print('match found')\n",
    "# else:\n",
    "#     print('Not Found')    "
   ]
  },
  {
   "cell_type": "code",
   "execution_count": 89,
   "metadata": {},
   "outputs": [
    {
     "name": "stdout",
     "output_type": "stream",
     "text": [
      "not found\n"
     ]
    }
   ],
   "source": [
    "st = 'the python is ge The best language with online'\n",
    "out = re.search('in..', st)\n",
    "print('match found') if out else print('not found')"
   ]
  },
  {
   "cell_type": "code",
   "execution_count": null,
   "metadata": {},
   "outputs": [],
   "source": [
    "email = input(\"Enter the email id\")\n",
    "\n",
    "out = re.search('logic here?', email)\n",
    "\n",
    "if out:\n",
    "    print('Email id is valid')\n",
    "else:\n",
    "    print('Email id not valid')    "
   ]
  },
  {
   "cell_type": "code",
   "execution_count": 98,
   "metadata": {},
   "outputs": [
    {
     "name": "stdout",
     "output_type": "stream",
     "text": [
      "Enter the integer numbers \n",
      "Enter the integer numbers \n",
      "Enter the integer numbers \n",
      "120 <class 'int'>\n"
     ]
    }
   ],
   "source": [
    "# read number from user \n",
    "while True:\n",
    "    try:\n",
    "        num = int(input('Enter the number '))\n",
    "        print(num, type(num))\n",
    "    except Exception as e:\n",
    "        print('Enter the integer numbers ', e)   \n",
    "    else:\n",
    "        break     "
   ]
  },
  {
   "cell_type": "code",
   "execution_count": 106,
   "metadata": {},
   "outputs": [
    {
     "name": "stdout",
     "output_type": "stream",
     "text": [
      "(3, 6, 7, 8, 3, 6, 7, 8, 3, 6, 7, 8, 3, 6, 7, 8, 3, 6, 7, 8, 3, 6, 7, 8, 3, 6, 7, 8, 3, 6, 7, 8, 3, 6, 7, 8, 3, 6, 7, 8, 3, 6, 7, 8, 3, 6, 7, 8, 3, 6, 7, 8, 3, 6, 7, 8, 3, 6, 7, 8, 3, 6, 7, 8, 3, 6, 7, 8, 3, 6, 7, 8, 3, 6, 7, 8, 3, 6, 7, 8) <class 'tuple'>\n"
     ]
    }
   ],
   "source": [
    "a = (3, 6, 7, 8)\n",
    "\n",
    "out =  20 * a\n",
    "\n",
    "print(out, type(out))\n"
   ]
  },
  {
   "cell_type": "code",
   "execution_count": 111,
   "metadata": {},
   "outputs": [
    {
     "ename": "TypeError",
     "evalue": "user generated exception",
     "output_type": "error",
     "traceback": [
      "\u001b[1;31m---------------------------------------------------------------------------\u001b[0m",
      "\u001b[1;31mTypeError\u001b[0m                                 Traceback (most recent call last)",
      "\u001b[1;32m~\\AppData\\Local\\Temp/ipykernel_13156/184680382.py\u001b[0m in \u001b[0;36m<module>\u001b[1;34m\u001b[0m\n\u001b[1;32m----> 1\u001b[1;33m \u001b[1;32mraise\u001b[0m \u001b[0mTypeError\u001b[0m\u001b[1;33m(\u001b[0m\u001b[1;34m\"user generated exception\"\u001b[0m\u001b[1;33m)\u001b[0m\u001b[1;33m\u001b[0m\u001b[1;33m\u001b[0m\u001b[0m\n\u001b[0m",
      "\u001b[1;31mTypeError\u001b[0m: user generated exception"
     ]
    }
   ],
   "source": [
    "raise TypeError(\"user generated exception\")"
   ]
  }
 ],
 "metadata": {
  "interpreter": {
   "hash": "ac63e7d2902d829a95718f514f583b39cb52f10e7c5524becb094a341f2ea3ca"
  },
  "kernelspec": {
   "display_name": "Python 3.10.1 64-bit (windows store)",
   "language": "python",
   "name": "python3"
  },
  "language_info": {
   "codemirror_mode": {
    "name": "ipython",
    "version": 3
   },
   "file_extension": ".py",
   "mimetype": "text/x-python",
   "name": "python",
   "nbconvert_exporter": "python",
   "pygments_lexer": "ipython3",
   "version": "3.10.1"
  },
  "orig_nbformat": 4
 },
 "nbformat": 4,
 "nbformat_minor": 2
}
