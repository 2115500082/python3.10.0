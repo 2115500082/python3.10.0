{
 "cells": [
  {
   "cell_type": "code",
   "execution_count": 1,
   "metadata": {},
   "outputs": [
    {
     "data": {
      "text/plain": [
       "\"\\nit = input()  # '{'\\ndct = it\\nwhile it != '}':\\n    it = input().strip()\\n    dct += it\\nelse:\\n    dct += '}'\\ndct = eval(dct)  # convert string into dictionary \\n\""
      ]
     },
     "execution_count": 1,
     "metadata": {},
     "output_type": "execute_result"
    }
   ],
   "source": [
    "# The Bar\n",
    "dct = {\n",
    "    0: [0, 3, 6],\n",
    "    1: [1, 4, 7],\n",
    "    2: [2, 4, 7, 5],\n",
    "    3: [3, 2, 5],\n",
    "    4: [5, 8]\n",
    "}\n",
    "\n",
    "# # real input from user\n",
    "'''\n",
    "it = input()  # '{'\n",
    "dct = it\n",
    "while it != '}':\n",
    "    it = input().strip()\n",
    "    dct += it\n",
    "else:\n",
    "    dct += '}'\n",
    "dct = eval(dct)  # convert string into dictionary \n",
    "'''\n"
   ]
  },
  {
   "cell_type": "code",
   "execution_count": 2,
   "metadata": {},
   "outputs": [
    {
     "name": "stdout",
     "output_type": "stream",
     "text": [
      "[0, 3, 6, 1, 4, 7, 2, 4, 7, 5, 3, 2, 5, 5, 8]\n"
     ]
    }
   ],
   "source": [
    "# merge all drinks in a single list\n",
    "lst = []\n",
    "for dt in dct:\n",
    "    lst.extend(dct[dt])\n",
    "print(lst)    "
   ]
  },
  {
   "cell_type": "code",
   "execution_count": 3,
   "metadata": {},
   "outputs": [
    {
     "name": "stdout",
     "output_type": "stream",
     "text": [
      "[3, 2, 1]\n",
      "3\n"
     ]
    }
   ],
   "source": [
    "# it = input()  # '{'\n",
    "# dct = it\n",
    "# while it != '}':\n",
    "#     it = input().strip()\n",
    "#     dct += it\n",
    "\n",
    "# dct = eval(dct)  # convert string into dictionary\n",
    "lst = [i for ls in dct.values() for i in ls]\n",
    "fr_lst = sorted(set([lst.count(i) for i in lst]), reverse=True)\n",
    "print(fr_lst)\n",
    "length = len(dct)\n",
    "c = 0\n",
    "if 1 in fr_lst:\n",
    "    c += 1\n",
    "    fr_lst.remove(1)\n",
    "\n",
    "for i in fr_lst:\n",
    "    c += length // i\n",
    "    length %= i    \n",
    "print(c)"
   ]
  },
  {
   "cell_type": "code",
   "execution_count": null,
   "metadata": {},
   "outputs": [],
   "source": [
    "it = input()  # '{'\n",
    "dct = it\n",
    "while it != '}':\n",
    "    it = input().strip()\n",
    "    dct += it\n",
    "\n",
    "dct = eval(dct)  # convert string into dictionary \n",
    "lst = [i for lst in dct.values() for i in lst]\n",
    "lst_freq = sorted(set([lst.count(i) for i in lst]), reverse=True)   # count of all frequency \n",
    "length = len(dct)\n",
    "c = 0\n",
    "for i in lst_freq:\n",
    "    c += length // i\n",
    "    length %= i    \n",
    "print(c)"
   ]
  },
  {
   "cell_type": "code",
   "execution_count": 25,
   "metadata": {},
   "outputs": [
    {
     "name": "stdout",
     "output_type": "stream",
     "text": [
      "[0, 1, 3, 6, 5, 1, 4, 7, 5, 2, 4, 7, 5, 3, 2, 5, 5, 8]\n"
     ]
    }
   ],
   "source": [
    "\n",
    "lst = [i for lst in dct.values() for i in lst]\n",
    "print(lst)"
   ]
  }
 ],
 "metadata": {
  "interpreter": {
   "hash": "ac63e7d2902d829a95718f514f583b39cb52f10e7c5524becb094a341f2ea3ca"
  },
  "kernelspec": {
   "display_name": "Python 3.10.1 64-bit (windows store)",
   "language": "python",
   "name": "python3"
  },
  "language_info": {
   "codemirror_mode": {
    "name": "ipython",
    "version": 3
   },
   "file_extension": ".py",
   "mimetype": "text/x-python",
   "name": "python",
   "nbconvert_exporter": "python",
   "pygments_lexer": "ipython3",
   "version": "3.10.1"
  },
  "orig_nbformat": 4
 },
 "nbformat": 4,
 "nbformat_minor": 2
}
