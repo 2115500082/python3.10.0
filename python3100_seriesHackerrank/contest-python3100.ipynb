{
 "cells": [
  {
   "cell_type": "code",
   "execution_count": null,
   "metadata": {},
   "outputs": [],
   "source": [
    "\"boolean Expression\"\n",
    "\n",
    "a = int(input())\n",
    "b = int(input())\n",
    "x = int(input())\n",
    "print(a * x + a * (1 - x))\n"
   ]
  },
  {
   "cell_type": "code",
   "execution_count": null,
   "metadata": {},
   "outputs": [],
   "source": [
    "\"valentine match\"\n",
    "\n",
    "num1 = int(input())\n",
    "num2 = int(input())\n",
    "\n",
    "out = \"'Valentine Match'\" if num1 ^ num2 == num1 + num2 else None\n",
    "\n",
    "print(out)"
   ]
  }
 ],
 "metadata": {
  "language_info": {
   "name": "python"
  },
  "orig_nbformat": 4
 },
 "nbformat": 4,
 "nbformat_minor": 2
}
