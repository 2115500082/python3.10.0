{
 "cells": [
  {
   "cell_type": "code",
   "execution_count": null,
   "metadata": {},
   "outputs": [],
   "source": [
    "\"Detest of three\"\n",
    "\n",
    "# input section\n",
    "pos = int(input('enter the position: '))\n",
    "i = 1\n",
    "\n",
    "while True:\n",
    "    if i % 3 != 0 and i % 10 != 3:\n",
    "        pos -=  1\n",
    "        if pos <= 0:\n",
    "            break\n",
    "    i += 1\n",
    "print(i)   \n",
    "\n",
    "\n",
    "seq = [1, 2, 4, 5, 7, 8, 10, 11, 14, 16, ...]"
   ]
  },
  {
   "cell_type": "code",
   "execution_count": null,
   "metadata": {},
   "outputs": [],
   "source": [
    "\"weird and Not Weird\"\n",
    "\n",
    "\n"
   ]
  }
 ],
 "metadata": {
  "language_info": {
   "name": "python"
  },
  "orig_nbformat": 4
 },
 "nbformat": 4,
 "nbformat_minor": 2
}
