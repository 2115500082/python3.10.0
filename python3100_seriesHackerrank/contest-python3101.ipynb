{
 "cells": [
  {
   "cell_type": "code",
   "execution_count": null,
   "metadata": {},
   "outputs": [],
   "source": [
    "\"Detest of three\"\n",
    "\n",
    "# input section\n",
    "pos = int(input('enter the position: '))\n",
    "i = 1\n",
    "\n",
    "while True:\n",
    "    if i % 3 != 0 and i % 10 != 3:\n",
    "        pos -=  1\n",
    "        if pos <= 0:\n",
    "            break\n",
    "    i += 1\n",
    "print(i)   \n",
    "\n",
    "\n",
    "seq = [1, 2, 4, 5, 7, 8, 10, 11, 14, 16, ...]"
   ]
  },
  {
   "cell_type": "code",
   "execution_count": 5,
   "metadata": {},
   "outputs": [
    {
     "name": "stdout",
     "output_type": "stream",
     "text": [
      "Weird\n"
     ]
    }
   ],
   "source": [
    "\"weird and Not Weird\"\n",
    "\n",
    "num = int(input(\"Enter the number \"))\n",
    "if num % 2:\n",
    "    print(\"Weird\")\n",
    "else:\n",
    "    if 2 <= num <= 5:\n",
    "        print(\"Not Weird\")\n",
    "    elif 6 <= num <= 20:\n",
    "        print(\"Weird\")\n",
    "    elif num > 20:\n",
    "        print(\"Not Weird\")\n",
    "\n"
   ]
  },
  {
   "cell_type": "code",
   "execution_count": null,
   "metadata": {},
   "outputs": [],
   "source": []
  }
 ],
 "metadata": {
  "interpreter": {
   "hash": "ac63e7d2902d829a95718f514f583b39cb52f10e7c5524becb094a341f2ea3ca"
  },
  "kernelspec": {
   "display_name": "Python 3.10.0 64-bit (windows store)",
   "name": "python3"
  },
  "language_info": {
   "codemirror_mode": {
    "name": "ipython",
    "version": 3
   },
   "file_extension": ".py",
   "mimetype": "text/x-python",
   "name": "python",
   "nbconvert_exporter": "python",
   "pygments_lexer": "ipython3",
   "version": "3.10.0"
  },
  "orig_nbformat": 4
 },
 "nbformat": 4,
 "nbformat_minor": 2
}
