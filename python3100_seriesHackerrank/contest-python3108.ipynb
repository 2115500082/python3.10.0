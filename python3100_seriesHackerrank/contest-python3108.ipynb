{
 "cells": [
  {
   "cell_type": "code",
   "execution_count": null,
   "metadata": {},
   "outputs": [],
   "source": [
    "def two_teams(sailors):\n",
    "    #replace this for solution\n",
    "    k = []\n",
    "    l = []\n",
    "    for name in sailors:\n",
    "        if sailors[name]<20 or sailors[name]>40:\n",
    "            l.append(name)\n",
    "        else:\n",
    "            k.append(name)\n",
    "    l.sort()\n",
    "    k.sort()\n",
    "    return [\n",
    "        l,\n",
    "        k\n",
    "    ]\n",
    "\n",
    "if __name__ == '__main__':\n",
    "\n",
    "    print('''[\n",
    " {},\n",
    " {}\n",
    "]'''.format(*two_teams(eval(input()))))"
   ]
  }
 ],
 "metadata": {
  "language_info": {
   "name": "python"
  },
  "orig_nbformat": 4
 },
 "nbformat": 4,
 "nbformat_minor": 2
}
