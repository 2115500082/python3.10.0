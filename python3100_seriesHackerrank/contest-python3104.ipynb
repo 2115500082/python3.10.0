{
 "cells": [
  {
   "cell_type": "code",
   "execution_count": 1,
   "metadata": {},
   "outputs": [
    {
     "name": "stdout",
     "output_type": "stream",
     "text": [
      "True\n"
     ]
    }
   ],
   "source": [
    "\"hopscotch game\"\n",
    "\n",
    "jumps = list(map(int, input().split()))  # [2,3,1,1,4]\n",
    "\n",
    "hop_jump_index = len(jumps) - 1  # 4\n",
    "\n",
    "for i in range(len(jumps)-1, -1, -1):\n",
    "    if i + jumps[i] >= hop_jump_index:\n",
    "        hop_jump_index = i\n",
    "    # print(hop_jump_index)    \n",
    "print(hop_jump_index == 0)        \n"
   ]
  },
  {
   "cell_type": "code",
   "execution_count": 2,
   "metadata": {},
   "outputs": [
    {
     "name": "stdout",
     "output_type": "stream",
     "text": [
      "THREE\n"
     ]
    }
   ],
   "source": [
    "# english word\n",
    "k = int(input()) - 1\n",
    "lst = ['ONE', 'TWO', 'THREE', 'FOUR', 'FIVE', 'SIX', 'SEVEN', 'EIGHT', 'NINE']\n",
    "\n",
    "# print('can\\'t digit covered with \" tokens' if k > len(lst) else lst[k])\n",
    "print('can\\'t digit covered with \" tokens'* (k > len(lst)) or lst[k])"
   ]
  }
 ],
 "metadata": {
  "interpreter": {
   "hash": "ac63e7d2902d829a95718f514f583b39cb52f10e7c5524becb094a341f2ea3ca"
  },
  "kernelspec": {
   "display_name": "Python 3.10.0 64-bit (windows store)",
   "language": "python",
   "name": "python3"
  },
  "language_info": {
   "codemirror_mode": {
    "name": "ipython",
    "version": 3
   },
   "file_extension": ".py",
   "mimetype": "text/x-python",
   "name": "python",
   "nbconvert_exporter": "python",
   "pygments_lexer": "ipython3",
   "version": "3.10.0"
  },
  "orig_nbformat": 4
 },
 "nbformat": 4,
 "nbformat_minor": 2
}
