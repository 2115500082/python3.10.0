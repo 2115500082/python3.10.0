{
 "cells": [
  {
   "cell_type": "code",
   "execution_count": 3,
   "metadata": {},
   "outputs": [
    {
     "name": "stdout",
     "output_type": "stream",
     "text": [
      "48 52\n"
     ]
    }
   ],
   "source": [
    "# Positive Integer Pairs\n",
    "\n",
    "P = int(input())\n",
    "X = int(input())\n",
    "\n",
    "for i in range((P//2)+1):\n",
    "    j = P - i\n",
    "    if i ^ j == X:\n",
    "        print(i, j)\n"
   ]
  },
  {
   "cell_type": "code",
   "execution_count": null,
   "metadata": {},
   "outputs": [],
   "source": [
    "# The Soap Mystery\n",
    "num = int(input())\n",
    "lst = list(map(int, input().split()))\n",
    "\n",
    "qry = int(input())\n",
    "for i in range(qry):\n",
    "    np = int(input())\n",
    "    print(len(list(filter(lambda x:np >x, lst))))"
   ]
  }
 ],
 "metadata": {
  "interpreter": {
   "hash": "ac63e7d2902d829a95718f514f583b39cb52f10e7c5524becb094a341f2ea3ca"
  },
  "kernelspec": {
   "display_name": "Python 3.10.1 64-bit (windows store)",
   "language": "python",
   "name": "python3"
  },
  "language_info": {
   "codemirror_mode": {
    "name": "ipython",
    "version": 3
   },
   "file_extension": ".py",
   "mimetype": "text/x-python",
   "name": "python",
   "nbconvert_exporter": "python",
   "pygments_lexer": "ipython3",
   "version": "3.10.1"
  },
  "orig_nbformat": 4
 },
 "nbformat": 4,
 "nbformat_minor": 2
}
