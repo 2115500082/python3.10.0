{
 "cells": [
  {
   "cell_type": "code",
   "execution_count": 1,
   "metadata": {},
   "outputs": [
    {
     "name": "stdout",
     "output_type": "stream",
     "text": [
      "False\n"
     ]
    }
   ],
   "source": [
    "# hitch words\n",
    "def chained_circle(ls):\n",
    "    var = 0\n",
    "    st = []\n",
    "    for i in ls:\n",
    "        st.append(i[0])\n",
    "    for i in ls:\n",
    "        if i[-1] in st:\n",
    "            st.remove(i[-1])\n",
    "\n",
    "    return not len(st)\n",
    "\n",
    "\n",
    "# lst = [\"chair\", \"height\", \"racket\", \"touch\", \"tunic\"]\n",
    "lst = [\"height\", \"racket\", \"touch\", \"tunic\", \"cat\"]\n",
    "# lst = [\"height\", \"racket\", \"touch\", \"tunic\", \"car\"]\n",
    "# lst = [\"height\", \"racket\", \"touch\", \"tunic\"]\n",
    "out = chained_circle(lst)\n",
    "print(out)"
   ]
  },
  {
   "cell_type": "code",
   "execution_count": 4,
   "metadata": {},
   "outputs": [
    {
     "name": "stdout",
     "output_type": "stream",
     "text": [
      "3\n"
     ]
    }
   ],
   "source": [
    "#harry to hogwarts\n",
    "num = input('Enter the four digits number ')\n",
    "count = 0\n",
    "while num != '6174':\n",
    "    x = int(''.join(sorted(num, reverse=True)))\n",
    "    y = int(''.join(sorted(num)))\n",
    "    num = str(x - y)\n",
    "    count += 1\n",
    "print(count)    "
   ]
  }
 ],
 "metadata": {
  "interpreter": {
   "hash": "ac63e7d2902d829a95718f514f583b39cb52f10e7c5524becb094a341f2ea3ca"
  },
  "kernelspec": {
   "display_name": "Python 3.10.1 64-bit (windows store)",
   "language": "python",
   "name": "python3"
  },
  "language_info": {
   "codemirror_mode": {
    "name": "ipython",
    "version": 3
   },
   "file_extension": ".py",
   "mimetype": "text/x-python",
   "name": "python",
   "nbconvert_exporter": "python",
   "pygments_lexer": "ipython3",
   "version": "3.10.1"
  },
  "orig_nbformat": 4
 },
 "nbformat": 4,
 "nbformat_minor": 2
}
