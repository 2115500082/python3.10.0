{
 "cells": [
  {
   "cell_type": "code",
   "execution_count": null,
   "metadata": {},
   "outputs": [],
   "source": [
    "\"Number of days i a month\"\n",
    "mn = int(input())\n",
    "m = [31, 28, 31, 30, 31, 30, 31, 31, 30, 31, 30, 31]\n",
    "print(m[mn-1])"
   ]
  }
 ],
 "metadata": {
  "language_info": {
   "name": "python"
  },
  "orig_nbformat": 4
 },
 "nbformat": 4,
 "nbformat_minor": 2
}
