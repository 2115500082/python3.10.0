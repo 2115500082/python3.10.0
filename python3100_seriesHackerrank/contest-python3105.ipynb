{
 "cells": [
  {
   "cell_type": "code",
   "execution_count": 1,
   "metadata": {},
   "outputs": [
    {
     "name": "stdout",
     "output_type": "stream",
     "text": [
      "28\n"
     ]
    }
   ],
   "source": [
    "\"Number of days i a month\"\n",
    "mn = int(input())\n",
    "m = [31, 28, 31, 30, 31, 30, 31, 31, 30, 31, 30, 31]\n",
    "print(m[mn-1])"
   ]
  },
  {
   "cell_type": "code",
   "execution_count": 2,
   "metadata": {},
   "outputs": [
    {
     "name": "stdout",
     "output_type": "stream",
     "text": [
      "t i m e a a y e g a a p n a t i m e a a y e g a a p n a\n"
     ]
    }
   ],
   "source": [
    "\"Gully Boy Boht Hard Question\"\n",
    "st = input()\n",
    "node = int(input())\n",
    "rp = int(input())\n",
    "\n",
    "print(*(st[node:] + st[:node]).replace(' ', '')*rp)"
   ]
  },
  {
   "cell_type": "code",
   "execution_count": 3,
   "metadata": {},
   "outputs": [
    {
     "name": "stdout",
     "output_type": "stream",
     "text": [
      "   0\n",
      "   1\n",
      "  10\n",
      "  11\n",
      " 100\n",
      " 101\n",
      " 110\n",
      " 111\n",
      "1000\n",
      "1001\n",
      "1010\n"
     ]
    }
   ],
   "source": [
    "\"binary burj khaleefa\"\n",
    "\n",
    "num = int(input())\n",
    "ln = len(bin(num)) - 2\n",
    "for i in range(num+1):\n",
    "    print(bin(i)[2:].rjust(ln))"
   ]
  }
 ],
 "metadata": {
  "interpreter": {
   "hash": "ac63e7d2902d829a95718f514f583b39cb52f10e7c5524becb094a341f2ea3ca"
  },
  "kernelspec": {
   "display_name": "Python 3.10.0 64-bit (windows store)",
   "language": "python",
   "name": "python3"
  },
  "language_info": {
   "codemirror_mode": {
    "name": "ipython",
    "version": 3
   },
   "file_extension": ".py",
   "mimetype": "text/x-python",
   "name": "python",
   "nbconvert_exporter": "python",
   "pygments_lexer": "ipython3",
   "version": "3.10.0"
  },
  "orig_nbformat": 4
 },
 "nbformat": 4,
 "nbformat_minor": 2
}
