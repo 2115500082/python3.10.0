{
 "cells": [
  {
   "cell_type": "code",
   "execution_count": null,
   "metadata": {},
   "outputs": [],
   "source": [
    "# First Non-Repating character \n",
    "\n",
    "st = input()\n",
    "kh = None\n",
    "for i in st:\n",
    "    if st.count(i) <= 1:\n",
    "        kh = i\n",
    "        break\n",
    "print(kh)   "
   ]
  }
 ],
 "metadata": {
  "language_info": {
   "name": "python"
  },
  "orig_nbformat": 4
 },
 "nbformat": 4,
 "nbformat_minor": 2
}
