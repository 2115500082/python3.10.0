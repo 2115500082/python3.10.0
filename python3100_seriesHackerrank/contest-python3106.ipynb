{
 "cells": [
  {
   "cell_type": "code",
   "execution_count": null,
   "metadata": {},
   "outputs": [],
   "source": [
    "# First Non-Repating character \n",
    "\n",
    "st = input()\n",
    "kh = None\n",
    "for i in st:\n",
    "    if st.count(i) <= 1:\n",
    "        kh = i\n",
    "        break\n",
    "print(kh)   "
   ]
  },
  {
   "cell_type": "code",
   "execution_count": null,
   "metadata": {},
   "outputs": [],
   "source": [
    "# valid parenthesis length \n",
    "# \n",
    "st = input()\n",
    "lst = [-1]\n",
    "\n",
    "mx = 0\n",
    "for i in range(len(st)):\n",
    "    if st[i] == '(':\n",
    "        lst.append(i)\n",
    "    else:\n",
    "        lst.pop()\n",
    "        if not lst:\n",
    "            lst.append(i)\n",
    "        else:\n",
    "            mx = max(mx, i-lst[-1])\n",
    "print(mx)            \n",
    " "
   ]
  }
 ],
 "metadata": {
  "language_info": {
   "name": "python"
  },
  "orig_nbformat": 4
 },
 "nbformat": 4,
 "nbformat_minor": 2
}
