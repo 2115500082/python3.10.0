{
 "cells": [
  {
   "cell_type": "code",
   "execution_count": null,
   "metadata": {},
   "outputs": [],
   "source": [
    "# First Non-Repating character \n",
    "\n",
    "st = input()\n",
    "kh = None\n",
    "for i in st:\n",
    "    if st.count(i) <= 1:\n",
    "        kh = i\n",
    "        break\n",
    "print(kh)   "
   ]
  },
  {
   "cell_type": "code",
   "execution_count": null,
   "metadata": {},
   "outputs": [],
   "source": [
    "# valid parenthesis length \n",
    "# \n",
    "st = input()\n",
    "lst = [-1]\n",
    "\n",
    "mx = 0\n",
    "for i in range(len(st)):\n",
    "    if st[i] == '(':\n",
    "        lst.append(i)\n",
    "    else:\n",
    "        lst.pop()\n",
    "        if not lst:\n",
    "            lst.append(i)\n",
    "        else:\n",
    "            mx = max(mx, i-lst[-1])\n",
    "print(mx)            \n",
    " "
   ]
  },
  {
   "cell_type": "code",
   "execution_count": 5,
   "metadata": {},
   "outputs": [
    {
     "name": "stdout",
     "output_type": "stream",
     "text": [
      "     A\n",
      "    BABBBABB\n",
      "   BBBABBBBBBBABBBBBBBBBABBBBB\n",
      "  BBBBBBABBBBBBBBBBBBBABBBBBBBBBBBBBBBABBBBBBBBBBBBBBBBBABBBBBBBBB\n",
      " BBBBBBBBBBABBBBBBBBBBBBBBBBBBBBBABBBBBBBBBBBBBBBBBBBBBBBABBBBBBBBBBBBBBBBBBBBBBBBBABBBBBBBBBBBBBBBBBBBBBBBBBBBABBBBBBBBBBBBBB\n",
      "BBBBBBBBBBBBBBBABBBBBBBBBBBBBBBBBBBBBBBBBBBBBBBABBBBBBBBBBBBBBBBBBBBBBBBBBBBBBBBBABBBBBBBBBBBBBBBBBBBBBBBBBBBBBBBBBBBABBBBBBBBBBBBBBBBBBBBBBBBBBBBBBBBBBBBBABBBBBBBBBBBBBBBBBBBBBBBBBBBBBBBBBBBBBBBABBBBBBBBBBBBBBBBBBBB\n"
     ]
    }
   ],
   "source": [
    "row = 6\n",
    "kh = 'A'\n",
    "t = 65\n",
    "for i in range(1, row+1):\n",
    "    for j in range(1, row-i+1):\n",
    "        print(' ',end='')\n",
    "    \n",
    "    for k in range(1, i+1):\n",
    "        print(kh, end='')\n",
    "        k1 = ord(kh) + 1\n",
    "        kh = chr(k1) + kh + chr(k1)\n",
    "    \n",
    "    print()    "
   ]
  },
  {
   "cell_type": "code",
   "execution_count": 7,
   "metadata": {},
   "outputs": [
    {
     "name": "stdout",
     "output_type": "stream",
     "text": [
      "hello python 123\n",
      "123\n"
     ]
    }
   ],
   "source": [
    "# \n",
    "st = input()  # sequence of words \n",
    "lst = st.split()\n",
    "print(st)\n",
    "for i in lst:\n",
    "    if i.isdigit():\n",
    "        print(i)\n"
   ]
  },
  {
   "cell_type": "code",
   "execution_count": 10,
   "metadata": {},
   "outputs": [
    {
     "name": "stdout",
     "output_type": "stream",
     "text": [
      " *****\n",
      "  ****\n",
      "   ***\n",
      "    **\n",
      "     *\n",
      "      \n"
     ]
    }
   ],
   "source": [
    "rows = 10\n",
    "for i in range(1, row+1):\n",
    "    for j in range(1, i+1):\n",
    "        print(' ', end='')\n",
    "    for j in range(1, row-i+1):\n",
    "        print('*', end='')  \n",
    "    for j in range(1, i+1):\n",
    "        print(' ', end='')\n",
    "    for j in range(1, row-i+1):\n",
    "        print('*', end='')  \n",
    "    print()"
   ]
  }
 ],
 "metadata": {
  "interpreter": {
   "hash": "ac63e7d2902d829a95718f514f583b39cb52f10e7c5524becb094a341f2ea3ca"
  },
  "kernelspec": {
   "display_name": "Python 3.10.0 64-bit (windows store)",
   "language": "python",
   "name": "python3"
  },
  "language_info": {
   "codemirror_mode": {
    "name": "ipython",
    "version": 3
   },
   "file_extension": ".py",
   "mimetype": "text/x-python",
   "name": "python",
   "nbconvert_exporter": "python",
   "pygments_lexer": "ipython3",
   "version": "3.10.0"
  },
  "orig_nbformat": 4
 },
 "nbformat": 4,
 "nbformat_minor": 2
}
