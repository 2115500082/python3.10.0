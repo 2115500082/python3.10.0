{
 "cells": [
  {
   "cell_type": "code",
   "execution_count": null,
   "metadata": {},
   "outputs": [],
   "source": [
    "\"Positive Integer pairs\"\n",
    "P = int(input())\n",
    "X = int(input())\n",
    "\n",
    "for i in range((P//2)+1):  # if we use loop upto P repeat the vice versa condition \n",
    "    j = P - i\n",
    "    if i ^ j == X:\n",
    "        print(i, j)"
   ]
  },
  {
   "cell_type": "code",
   "execution_count": 5,
   "metadata": {},
   "outputs": [
    {
     "name": "stdout",
     "output_type": "stream",
     "text": [
      "ehpl\n"
     ]
    }
   ],
   "source": [
    "\"Adjacent characters\"\n",
    "# input section and initialization \n",
    "st = input()\n",
    "out = ''\n",
    "\n",
    "# logic section\n",
    "ln = len(st)\n",
    "if ln % 2:\n",
    "    out = 'Odd length.'  \n",
    "else:\n",
    "    for i in range(0, ln, 2):\n",
    "        out += st[i:i+2][::-1]\n",
    "\n",
    "# output section    \n",
    "print(out)"
   ]
  }
 ],
 "metadata": {
  "interpreter": {
   "hash": "31f2aee4e71d21fbe5cf8b01ff0e069b9275f58929596ceb00d14d90e3e16cd6"
  },
  "kernelspec": {
   "display_name": "Python 3.6.9 64-bit",
   "name": "python3"
  },
  "language_info": {
   "codemirror_mode": {
    "name": "ipython",
    "version": 3
   },
   "file_extension": ".py",
   "mimetype": "text/x-python",
   "name": "python",
   "nbconvert_exporter": "python",
   "pygments_lexer": "ipython3",
   "version": "3.6.9"
  },
  "orig_nbformat": 4
 },
 "nbformat": 4,
 "nbformat_minor": 2
}
