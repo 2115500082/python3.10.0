{
 "cells": [
  {
   "cell_type": "code",
   "execution_count": 4,
   "metadata": {},
   "outputs": [
    {
     "name": "stdout",
     "output_type": "stream",
     "text": [
      "2\n"
     ]
    }
   ],
   "source": [
    "# floor division \n",
    "\n",
    "\n",
    "# Complete the 'floor_function' function below.\n",
    "#\n",
    "# The function is expected to return an INTEGER.\n",
    "# The function accepts INTEGER_ARRAY board as parameter.\n",
    "#\n",
    "\n",
    "def floor_function(board):\n",
    "    # Write your code here\n",
    "    sum = 0\n",
    "    c = 0\n",
    "    while sum<=board[0]:\n",
    "        sum = sum + board[1]\n",
    "        c+=1\n",
    "    return c-1\n",
    "\n",
    "inp = [11, 5]\n",
    "print(floor_function(inp))"
   ]
  },
  {
   "cell_type": "code",
   "execution_count": 6,
   "metadata": {},
   "outputs": [
    {
     "name": "stdout",
     "output_type": "stream",
     "text": [
      "\"ab_kh_/3\"\n"
     ]
    }
   ],
   "source": [
    "def filter_string(st):\n",
    "    # Write your code here and return output\n",
    "    srp = '\"'\n",
    "    for i in st:\n",
    "        if i.isalnum() or i == '/':\n",
    "            srp += i\n",
    "        else:\n",
    "            if srp[-1:] != '_':\n",
    "                srp += '_'\n",
    "    srp += '\"'            \n",
    "    return srp \n",
    "\n",
    "\n",
    "out = filter_string(\"ab++kh%/3\")\n",
    "print(out)\n"
   ]
  }
 ],
 "metadata": {
  "interpreter": {
   "hash": "ac63e7d2902d829a95718f514f583b39cb52f10e7c5524becb094a341f2ea3ca"
  },
  "kernelspec": {
   "display_name": "Python 3.10.1 64-bit (windows store)",
   "language": "python",
   "name": "python3"
  },
  "language_info": {
   "codemirror_mode": {
    "name": "ipython",
    "version": 3
   },
   "file_extension": ".py",
   "mimetype": "text/x-python",
   "name": "python",
   "nbconvert_exporter": "python",
   "pygments_lexer": "ipython3",
   "version": "3.10.1"
  },
  "orig_nbformat": 4
 },
 "nbformat": 4,
 "nbformat_minor": 2
}
