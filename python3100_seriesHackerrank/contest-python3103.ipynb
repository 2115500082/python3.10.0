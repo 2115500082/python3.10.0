{
 "cells": [
  {
   "cell_type": "code",
   "execution_count": 3,
   "metadata": {},
   "outputs": [
    {
     "name": "stdout",
     "output_type": "stream",
     "text": [
      "ourshon\n"
     ]
    }
   ],
   "source": [
    "\"Stream Flow\"\n",
    "st = input(\"Enter the string \")\n",
    "rt = int(input('Enter the rotation '))\n",
    "\n",
    "for i in range(rt):\n",
    "    st = st[1:] + st[0]\n",
    "print(st)    \n"
   ]
  },
  {
   "cell_type": "code",
   "execution_count": 4,
   "metadata": {},
   "outputs": [
    {
     "name": "stdout",
     "output_type": "stream",
     "text": [
      "0\n",
      "7\n",
      "2\n"
     ]
    }
   ],
   "source": [
    "\"Days2Years\"\n",
    "days = int(input(\"Enter the number of days\"))\n",
    "\n",
    "yrs = days // 365\n",
    "days %= 365\n",
    "weeks = days // 7\n",
    "\n",
    "days %= 7\n",
    "print(yrs)\n",
    "print(weeks)\n",
    "print(days)\n"
   ]
  },
  {
   "cell_type": "code",
   "execution_count": 5,
   "metadata": {},
   "outputs": [
    {
     "name": "stdout",
     "output_type": "stream",
     "text": [
      "[0, 1, 0, 1, 0]\n"
     ]
    }
   ],
   "source": [
    "# \"Even Odd Array\"\n",
    "\n",
    "num = int(input())\n",
    "lst = list(map(int, input().split()))\n",
    "out_list = [i%2 for i in lst]\n",
    "\n",
    "print(*out_list)\n"
   ]
  }
 ],
 "metadata": {
  "interpreter": {
   "hash": "ac63e7d2902d829a95718f514f583b39cb52f10e7c5524becb094a341f2ea3ca"
  },
  "kernelspec": {
   "display_name": "Python 3.10.0 64-bit (windows store)",
   "name": "python3"
  },
  "language_info": {
   "codemirror_mode": {
    "name": "ipython",
    "version": 3
   },
   "file_extension": ".py",
   "mimetype": "text/x-python",
   "name": "python",
   "nbconvert_exporter": "python",
   "pygments_lexer": "ipython3",
   "version": "3.10.0"
  },
  "orig_nbformat": 4
 },
 "nbformat": 4,
 "nbformat_minor": 2
}
