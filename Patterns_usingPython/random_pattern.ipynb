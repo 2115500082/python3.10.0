{
 "cells": [
  {
   "cell_type": "code",
   "execution_count": 3,
   "metadata": {},
   "outputs": [
    {
     "name": "stdout",
     "output_type": "stream",
     "text": [
      "*****\n",
      "****\n",
      "***\n",
      "**\n",
      "*\n"
     ]
    }
   ],
   "source": [
    "\"\"\"\n",
    "*\n",
    "**\n",
    "***\n",
    "****\n",
    "\"\"\"\n",
    "row = int(input('Enter the number of lines '))\n",
    "for i in range(row, 0, -1):\n",
    "    print('*'*i)\n"
   ]
  },
  {
   "cell_type": "code",
   "execution_count": null,
   "metadata": {},
   "outputs": [],
   "source": []
  },
  {
   "cell_type": "code",
   "execution_count": 13,
   "metadata": {},
   "outputs": [
    {
     "name": "stdout",
     "output_type": "stream",
     "text": [
      "         *\n",
      "        * *\n",
      "       *   *\n",
      "      *     *\n",
      "     *       *\n",
      "    *         *\n",
      "   *           *\n",
      "  *             *\n",
      " *               *\n",
      "*******************\n"
     ]
    }
   ],
   "source": [
    "\"\"\"\n",
    "    *\n",
    "   ***\n",
    "  *****\n",
    " *******\n",
    "\"\"\"\n",
    "row = int(input())\n",
    "\n",
    "for i in range(1, row+1):\n",
    "    for j in range(1, row-i+1):\n",
    "        print(' ', end='')\n",
    "    for k in range(1, 2*i):\n",
    "        if k == 1 or k == 2*i-1 or i == row:\n",
    "            print('*', end='')\n",
    "        else:\n",
    "            print(' ', end='')    \n",
    "    print()\n"
   ]
  },
  {
   "cell_type": "code",
   "execution_count": 16,
   "metadata": {},
   "outputs": [
    {
     "name": "stdout",
     "output_type": "stream",
     "text": [
      "1\n",
      "23\n",
      "456\n",
      "78910\n"
     ]
    }
   ],
   "source": [
    "\"\"\"\n",
    "\n",
    "A\n",
    "B C\n",
    "D E F\n",
    "G H I J\n",
    "\n",
    "\"\"\"\n",
    "row = int(input())\n",
    "b = 65\n",
    "for i in range(1, row+1):\n",
    "    for j in range(1, i+1):\n",
    "        print(chr(b), end='')\n",
    "        b += 1\n",
    "    print()    "
   ]
  },
  {
   "cell_type": "code",
   "execution_count": 18,
   "metadata": {},
   "outputs": [
    {
     "name": "stdout",
     "output_type": "stream",
     "text": [
      "  0\n",
      "  1\n",
      " 10\n",
      " 11\n",
      "100\n",
      "101\n"
     ]
    }
   ],
   "source": [
    "# binary burj khaleefa\n",
    "\n",
    "\"\"\"\n",
    "5\n",
    "\n",
    "  0\n",
    "  1\n",
    " 10\n",
    " 11\n",
    "100\n",
    "101\n",
    "\n",
    "\"\"\"\n",
    "row = int(input())\n",
    "ln = len(bin(row))-2\n",
    "for i in range(row+1):\n",
    "    x = bin(i)[2:]\n",
    "    d = ln - len(x)\n",
    "    print(' '* d   +x)\n"
   ]
  },
  {
   "cell_type": "code",
   "execution_count": 14,
   "metadata": {},
   "outputs": [
    {
     "name": "stdout",
     "output_type": "stream",
     "text": [
      "         *\n",
      "        * *\n",
      "       *   *\n",
      "      *     *\n",
      "     *       *\n",
      "    *         *\n",
      "   *           *\n",
      "  *             *\n",
      " *               *\n",
      "*                 *\n"
     ]
    }
   ],
   "source": [
    "\"\"\"\n",
    "     *\n",
    "    ***\n",
    "   *****\n",
    "  *******\n",
    " *********  \n",
    "\n",
    "\"\"\"\n",
    "row = 10\n",
    "for i in range(1, row+1):\n",
    "    k = 0\n",
    "    for j in range(1, row-i+1):\n",
    "        print(' ', end='')\n",
    "    while k < 2*i-1:\n",
    "        if k == 0 or k == 2*i-2 or i == row:\n",
    "            print('*', end='') \n",
    "        else:\n",
    "            print(' ', end='')    \n",
    "        k += 1  \n",
    "    print()        "
   ]
  },
  {
   "cell_type": "code",
   "execution_count": 22,
   "metadata": {},
   "outputs": [
    {
     "name": "stdout",
     "output_type": "stream",
     "text": [
      "A \n",
      "B C \n",
      "D E F \n",
      "G H I J \n"
     ]
    }
   ],
   "source": [
    "\"\"\"\n",
    "1\n",
    "2 3\n",
    "4 5 6\n",
    "7 8 9 10\n",
    "\"\"\"\n",
    "row = 4\n",
    "k = 65\n",
    "for i in range(1, row+1):\n",
    "    for j in range(1, i+1):\n",
    "        print(chr(k), end=' ')\n",
    "        k += 1\n",
    "    print()"
   ]
  },
  {
   "cell_type": "code",
   "execution_count": null,
   "metadata": {},
   "outputs": [],
   "source": [
    "\"\"\"\n",
    "  A\n",
    " BAB\n",
    "CBABC\n",
    "\n",
    "\"\"\""
   ]
  }
 ],
 "metadata": {
  "interpreter": {
   "hash": "ac63e7d2902d829a95718f514f583b39cb52f10e7c5524becb094a341f2ea3ca"
  },
  "kernelspec": {
   "display_name": "Python 3.10.0 64-bit (windows store)",
   "language": "python",
   "name": "python3"
  },
  "language_info": {
   "codemirror_mode": {
    "name": "ipython",
    "version": 3
   },
   "file_extension": ".py",
   "mimetype": "text/x-python",
   "name": "python",
   "nbconvert_exporter": "python",
   "pygments_lexer": "ipython3",
   "version": "3.10.0"
  },
  "orig_nbformat": 4
 },
 "nbformat": 4,
 "nbformat_minor": 2
}
