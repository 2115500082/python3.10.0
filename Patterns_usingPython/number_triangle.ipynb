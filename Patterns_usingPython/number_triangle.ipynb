{
 "cells": [
  {
   "cell_type": "code",
   "execution_count": 15,
   "metadata": {},
   "outputs": [
    {
     "name": "stdout",
     "output_type": "stream",
     "text": [
      "*\n",
      "* *\n",
      "* * *\n",
      "* * * *\n",
      "* * * * *\n"
     ]
    }
   ],
   "source": [
    "\"\"\"\n",
    "*\n",
    "* * \n",
    "* * *\n",
    "* * * *\n",
    "\"\"\"\n",
    "row = int(input('Enter the number of lines '))\n",
    "for i in range(1, row+1):\n",
    "    print(*'*'*i)\n"
   ]
  },
  {
   "cell_type": "code",
   "execution_count": 23,
   "metadata": {},
   "outputs": [
    {
     "name": "stdout",
     "output_type": "stream",
     "text": [
      "         *\n",
      "        * *\n",
      "       *   *\n",
      "      *     *\n",
      "     *       *\n",
      "    *         *\n",
      "   *************\n",
      "  *             *\n",
      " *               *\n",
      "*                 *\n"
     ]
    }
   ],
   "source": [
    "\"\"\"\n",
    "     *\n",
    "    ***\n",
    "   *****\n",
    "  *******   \n",
    "\"\"\"\n",
    "row = int(input('Enter the number of lines '))\n",
    "\n",
    "for i in range(1, row+1):\n",
    "    k = 1\n",
    "    # print(' '*(row-i)+'*'*(2*i-1))\n",
    "    for j in range(1, row-i+1):\n",
    "        print(' ', end='')\n",
    "    while k <= 2*i-1:\n",
    "        if k == 1 or k == 2*i-1 or i == row-3:\n",
    "            print('*', end='') \n",
    "        else:\n",
    "            print(' ', end='')    \n",
    "        k+= 1\n",
    "    print()\n",
    "         \n",
    "\n",
    "\n"
   ]
  },
  {
   "cell_type": "code",
   "execution_count": 26,
   "metadata": {},
   "outputs": [
    {
     "data": {
      "text/plain": [
       "'yfg100ssfxffc'"
      ]
     },
     "execution_count": 26,
     "metadata": {},
     "output_type": "execute_result"
    }
   ],
   "source": [
    "'yfg%dssfxffc' % 100"
   ]
  },
  {
   "cell_type": "markdown",
   "metadata": {},
   "source": []
  },
  {
   "cell_type": "code",
   "execution_count": 14,
   "metadata": {},
   "outputs": [
    {
     "name": "stdout",
     "output_type": "stream",
     "text": [
      "h\n",
      "e\n",
      "l\n",
      "l\n",
      "o\n"
     ]
    }
   ],
   "source": [
    "lst = 'hello'\n",
    "print(*lst, sep='\\n')"
   ]
  }
 ],
 "metadata": {
  "interpreter": {
   "hash": "ac63e7d2902d829a95718f514f583b39cb52f10e7c5524becb094a341f2ea3ca"
  },
  "kernelspec": {
   "display_name": "Python 3.10.0 64-bit (windows store)",
   "language": "python",
   "name": "python3"
  },
  "language_info": {
   "codemirror_mode": {
    "name": "ipython",
    "version": 3
   },
   "file_extension": ".py",
   "mimetype": "text/x-python",
   "name": "python",
   "nbconvert_exporter": "python",
   "pygments_lexer": "ipython3",
   "version": "3.10.0"
  },
  "orig_nbformat": 4
 },
 "nbformat": 4,
 "nbformat_minor": 2
}
