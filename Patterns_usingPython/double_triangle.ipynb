{
 "cells": [
  {
   "cell_type": "code",
   "execution_count": 2,
   "metadata": {},
   "outputs": [
    {
     "name": "stdout",
     "output_type": "stream",
     "text": [
      "         *         *\n",
      "        **        **\n",
      "       ***       ***\n",
      "      ****      ****\n",
      "     *****     *****\n",
      "    ******    ******\n",
      "   *******   *******\n",
      "  ********  ********\n",
      " ********* *********\n",
      "********************\n"
     ]
    }
   ],
   "source": [
    "row = int(input())\n",
    "for i in range(1, row+1):\n",
    "    for j in range(1, row-i+1):\n",
    "        print(' ', end='')\n",
    "    for k in range(1, i+1):\n",
    "        print('*', end='')\n",
    "    for j in range(1, row-i+1):\n",
    "        print(' ', end='')\n",
    "    for k in range(1, i+1):\n",
    "        print('*', end='')\n",
    "    print()    \n",
    "\n"
   ]
  },
  {
   "cell_type": "code",
   "execution_count": 2,
   "metadata": {},
   "outputs": [
    {
     "name": "stdout",
     "output_type": "stream",
     "text": [
      "*                  *\n",
      "**                **\n",
      "***              ***\n",
      "****            ****\n",
      "*****          *****\n",
      "******        ******\n",
      "*******      *******\n",
      "********    ********\n",
      "*********  *********\n",
      "********************\n",
      "********************\n",
      "*********  *********\n",
      "********    ********\n",
      "*******      *******\n",
      "******        ******\n",
      "*****          *****\n",
      "****            ****\n",
      "***              ***\n",
      "**                **\n",
      "*                  *\n"
     ]
    }
   ],
   "source": [
    "# butter fly\n",
    "row = 10\n",
    "for i in range(1, row+1):\n",
    "    for j in range(1, i+1):\n",
    "        print('*', end='')\n",
    "    for k in range(1, row-i+1):\n",
    "        print(' ', end='')\n",
    "    for k in range(1, row-i+1):\n",
    "        print(' ', end='')\n",
    "    for j in range(1, i+1):\n",
    "        print('*', end='')  \n",
    "    print()   \n",
    "for i in range(row, 0, -1):\n",
    "    for j in range(1, i+1):\n",
    "        print('*', end='')\n",
    "    for k in range(1, row-i+1):\n",
    "        print(' ', end='')\n",
    "    for k in range(1, row-i+1):\n",
    "        print(' ', end='')\n",
    "    for j in range(1, i+1):\n",
    "        print('*', end='')  \n",
    "    print()          "
   ]
  },
  {
   "cell_type": "code",
   "execution_count": null,
   "metadata": {},
   "outputs": [],
   "source": []
  }
 ],
 "metadata": {
  "interpreter": {
   "hash": "ac63e7d2902d829a95718f514f583b39cb52f10e7c5524becb094a341f2ea3ca"
  },
  "kernelspec": {
   "display_name": "Python 3.10.0 64-bit (windows store)",
   "language": "python",
   "name": "python3"
  },
  "language_info": {
   "codemirror_mode": {
    "name": "ipython",
    "version": 3
   },
   "file_extension": ".py",
   "mimetype": "text/x-python",
   "name": "python",
   "nbconvert_exporter": "python",
   "pygments_lexer": "ipython3",
   "version": "3.10.0"
  },
  "orig_nbformat": 4
 },
 "nbformat": 4,
 "nbformat_minor": 2
}
