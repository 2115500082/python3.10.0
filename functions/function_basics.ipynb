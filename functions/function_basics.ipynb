{
 "cells": [
  {
   "cell_type": "code",
   "execution_count": 10,
   "metadata": {},
   "outputs": [
    {
     "name": "stdout",
     "output_type": "stream",
     "text": [
      "12\n"
     ]
    }
   ],
   "source": [
    "# LCM: lowest common multiple \n",
    "\n",
    "num1 = 6\n",
    "num2 = 4\n",
    "\n",
    "# multiple of 6: 6 12 18 24 30 36.....\n",
    "# multiple of 4: 4 8 12 16 20 24.....\n",
    "# LCM is 12\n",
    "mx = max(num1, num2)\n",
    "while 1:\n",
    "    if mx % num1 == 0 and mx % num2 == 0:\n",
    "        lcm = mx\n",
    "        break\n",
    "    mx += 1\n",
    "print(lcm)        "
   ]
  },
  {
   "cell_type": "code",
   "execution_count": 9,
   "metadata": {},
   "outputs": [
    {
     "name": "stdout",
     "output_type": "stream",
     "text": [
      "2\n"
     ]
    }
   ],
   "source": [
    "# GCD greates common divisor or HCF: Highest common factor\n",
    "\n",
    "num1 = 6\n",
    "num2 = 4\n",
    "gcd = 1\n",
    "i = 1\n",
    "mn = min(num1, num2)\n",
    "while i < mn:\n",
    "    if num1 % i == 0 and num2 % i == 0:\n",
    "        gcd = i\n",
    "    i += 1    \n",
    "print(gcd)\n",
    "\n"
   ]
  },
  {
   "cell_type": "code",
   "execution_count": null,
   "metadata": {},
   "outputs": [],
   "source": [
    "# relation between gcd and lcm \n",
    "# gcd * lcm = a * b\n",
    "# gcd = a * b // lcm\n",
    " "
   ]
  }
 ],
 "metadata": {
  "interpreter": {
   "hash": "ac63e7d2902d829a95718f514f583b39cb52f10e7c5524becb094a341f2ea3ca"
  },
  "kernelspec": {
   "display_name": "Python 3.10.0 64-bit (windows store)",
   "language": "python",
   "name": "python3"
  },
  "language_info": {
   "codemirror_mode": {
    "name": "ipython",
    "version": 3
   },
   "file_extension": ".py",
   "mimetype": "text/x-python",
   "name": "python",
   "nbconvert_exporter": "python",
   "pygments_lexer": "ipython3",
   "version": "3.10.0"
  },
  "orig_nbformat": 4
 },
 "nbformat": 4,
 "nbformat_minor": 2
}
