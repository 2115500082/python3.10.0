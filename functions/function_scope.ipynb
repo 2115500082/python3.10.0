{
 "cells": [
  {
   "cell_type": "code",
   "execution_count": null,
   "metadata": {},
   "outputs": [],
   "source": [
    "def fun():\n",
    "    a = 10  # local variable \n",
    "\n",
    "a = 23\n",
    "fun()\n",
    "\n",
    "print(a) \n",
    "\n",
    "# variable scope :\n",
    "\"\"\"\n",
    "1. local variable : \n",
    "2. global variable \n",
    "3. nonlocal \n",
    "\"\"\""
   ]
  },
  {
   "cell_type": "code",
   "execution_count": 3,
   "metadata": {},
   "outputs": [
    {
     "name": "stdout",
     "output_type": "stream",
     "text": [
      "10\n",
      "10\n"
     ]
    }
   ],
   "source": [
    "\n",
    "def fun():\n",
    "    global var\n",
    "    print(var)\n",
    "    var = 10\n",
    "var = 0\n",
    "fun()\n",
    "print(var)\n"
   ]
  },
  {
   "cell_type": "code",
   "execution_count": 4,
   "metadata": {},
   "outputs": [
    {
     "name": "stdout",
     "output_type": "stream",
     "text": [
      "0\n",
      "40\n",
      "40\n",
      "100\n"
     ]
    }
   ],
   "source": [
    "def outer():\n",
    "    def inner1():\n",
    "        a = 10  # local \n",
    "    def inner2():\n",
    "        nonlocal a \n",
    "        a = 40\n",
    "    def inner3():\n",
    "        global a\n",
    "        a = 100\n",
    "    a = 0  # nonlocal variable \n",
    "    inner1()\n",
    "    print(a)\n",
    "    inner2()\n",
    "    print(a)\n",
    "    inner3()\n",
    "    print(a)\n",
    "a = 1 # global variable \n",
    "outer()\n",
    "print(a)"
   ]
  },
  {
   "cell_type": "code",
   "execution_count": null,
   "metadata": {},
   "outputs": [],
   "source": [
    "def add():\n",
    "    a = 12  # local \n",
    "    def inner1():\n",
    "        global a\n",
    "        a = 10\n",
    "    inner1()\n",
    "    print(a)\n",
    "\n",
    "a = 100 # global \n",
    "add()\n",
    "print(a)"
   ]
  },
  {
   "cell_type": "code",
   "execution_count": null,
   "metadata": {},
   "outputs": [],
   "source": []
  }
 ],
 "metadata": {
  "interpreter": {
   "hash": "ac63e7d2902d829a95718f514f583b39cb52f10e7c5524becb094a341f2ea3ca"
  },
  "kernelspec": {
   "display_name": "Python 3.10.1 64-bit (windows store)",
   "language": "python",
   "name": "python3"
  },
  "language_info": {
   "codemirror_mode": {
    "name": "ipython",
    "version": 3
   },
   "file_extension": ".py",
   "mimetype": "text/x-python",
   "name": "python",
   "nbconvert_exporter": "python",
   "pygments_lexer": "ipython3",
   "version": "3.10.1"
  },
  "orig_nbformat": 4
 },
 "nbformat": 4,
 "nbformat_minor": 2
}
