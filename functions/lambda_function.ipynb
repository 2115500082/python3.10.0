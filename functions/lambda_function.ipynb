{
 "cells": [
  {
   "cell_type": "code",
   "execution_count": 4,
   "metadata": {},
   "outputs": [
    {
     "name": "stdout",
     "output_type": "stream",
     "text": [
      "9\n"
     ]
    }
   ],
   "source": [
    "# lambda: anonymous function \n",
    "\n",
    "def add(a, b):\n",
    "    return a + b\n",
    "add = lambda a, b: a + b\n",
    "\n",
    "out = add(3, 6)\n",
    "print(out)\n",
    "\n",
    "\n"
   ]
  },
  {
   "cell_type": "code",
   "execution_count": null,
   "metadata": {},
   "outputs": [],
   "source": [
    "a = 10\n",
    "b = 30\n",
    "mx = a if a > b else b\n",
    "\n",
    "print(mx)       \n",
    "\n"
   ]
  },
  {
   "cell_type": "code",
   "execution_count": 9,
   "metadata": {},
   "outputs": [
    {
     "name": "stdout",
     "output_type": "stream",
     "text": [
      "['priyanka', 'ravi', 'adi', 'adity']\n"
     ]
    }
   ],
   "source": [
    "# sorting list of string \n",
    "\n",
    "lst = ['adity', 'ravi', 'adi', 'priyanka']\n",
    "lst.sort(key=lambda x:x[-1])\n",
    "print(lst)"
   ]
  },
  {
   "cell_type": "code",
   "execution_count": null,
   "metadata": {},
   "outputs": [],
   "source": [
    "# sorting with ascii-weight\n",
    "\n",
    "lst = ['adity', 'ravi', 'adi', 'priyanka']\n",
    "lst.sort(key=lambda x: sum([ord(i) for i in x]))\n",
    "print(lst)"
   ]
  },
  {
   "cell_type": "code",
   "execution_count": 11,
   "metadata": {},
   "outputs": [
    {
     "name": "stdout",
     "output_type": "stream",
     "text": [
      "[18, 0, 2, 5, 18]\n"
     ]
    }
   ],
   "source": [
    "\n",
    "marks = [23, 5, 7, 10, 23]\n",
    "lst = list(map(lambda x:x-5, marks))\n",
    "print(lst)    \n"
   ]
  },
  {
   "cell_type": "code",
   "execution_count": 15,
   "metadata": {},
   "outputs": [
    {
     "name": "stdout",
     "output_type": "stream",
     "text": [
      "[0, 1, 5, 7, 13]\n"
     ]
    }
   ],
   "source": [
    "# \n",
    "marks = [5, 6, 10, 12, 18]\n",
    "lst = list(map(lambda x:x-5  , marks))\n",
    "print(lst)    "
   ]
  },
  {
   "cell_type": "code",
   "execution_count": null,
   "metadata": {},
   "outputs": [],
   "source": [
    "def fun():\n",
    "    a = 10  # nonlocal\n",
    "    def fun1():\n",
    "        a = 100\n",
    "    def fun2():\n",
    "        nonlocal a\n",
    "        a = 12\n",
    "    def fun3():\n",
    "        global a\n",
    "        a = 89\n",
    "\n",
    "    fun1()\n",
    "    print(a)\n",
    "    fun2()\n",
    "    print(a)\n",
    "    fun3()\n",
    "    print(a)            \n",
    "\n",
    "\n",
    "a = 0  # global \n",
    "fun()\n",
    "print(a)"
   ]
  },
  {
   "cell_type": "code",
   "execution_count": 4,
   "metadata": {},
   "outputs": [
    {
     "name": "stdout",
     "output_type": "stream",
     "text": [
      "7\n"
     ]
    }
   ],
   "source": [
    "# anonymous function \n",
    "# def add(a, b):\n",
    "#     return a + b\n",
    "\n",
    "add = lambda a, b : a + b\n",
    "out = add(2, 5)\n",
    "print(out)"
   ]
  },
  {
   "cell_type": "code",
   "execution_count": 7,
   "metadata": {},
   "outputs": [
    {
     "name": "stdout",
     "output_type": "stream",
     "text": [
      "Before sorting  ['hello', 'aakash', 'ravi', 'abhi']\n",
      "after sorting ['aakash', 'ravi', 'abhi', 'hello']\n"
     ]
    }
   ],
   "source": [
    "\n",
    "lst = ['hello', 'aakash', 'ravi', 'abhi']\n",
    "print('Before sorting ', lst)\n",
    "\n",
    "lst.sort(key=lambda x: sum( [ord(i) for i in x]) )\n",
    "\n",
    "print('after sorting', lst)\n"
   ]
  },
  {
   "cell_type": "code",
   "execution_count": 10,
   "metadata": {},
   "outputs": [
    {
     "name": "stdout",
     "output_type": "stream",
     "text": [
      "[1, 3, 5, 6, 120]\n"
     ]
    }
   ],
   "source": [
    "\n",
    "lst = [3, 5, 7, 8, 122]\n",
    "out = list(map(lambda x: x - 2, lst))\n",
    "print(out)"
   ]
  }
 ],
 "metadata": {
  "interpreter": {
   "hash": "ac63e7d2902d829a95718f514f583b39cb52f10e7c5524becb094a341f2ea3ca"
  },
  "kernelspec": {
   "display_name": "Python 3.10.1 64-bit (windows store)",
   "language": "python",
   "name": "python3"
  },
  "language_info": {
   "codemirror_mode": {
    "name": "ipython",
    "version": 3
   },
   "file_extension": ".py",
   "mimetype": "text/x-python",
   "name": "python",
   "nbconvert_exporter": "python",
   "pygments_lexer": "ipython3",
   "version": "3.10.1"
  },
  "orig_nbformat": 4
 },
 "nbformat": 4,
 "nbformat_minor": 2
}
