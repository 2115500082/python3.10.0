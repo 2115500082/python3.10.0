{
 "cells": [
  {
   "cell_type": "code",
   "execution_count": 5,
   "metadata": {},
   "outputs": [
    {
     "name": "stdout",
     "output_type": "stream",
     "text": [
      "\n",
      "\n",
      "    Name : Ravi\n",
      "    Section : 43\n",
      "    Class Roll Number : O AIML\n",
      "    College : GLA\n",
      "    \n"
     ]
    }
   ],
   "source": [
    "\n"
   ]
  },
  {
   "cell_type": "code",
   "execution_count": 27,
   "metadata": {},
   "outputs": [],
   "source": [
    "def info(**dct):\n",
    "    # print(dct, type(dct))\n",
    "    for i in dct.copy():\n",
    "        dct[i.lower()] = dct.pop(i)\n",
    "\n",
    "    tp = f'''\n",
    "\n",
    "    Name : {dct.get('name')}\n",
    "    Section : {dct.get('sec')}\n",
    "    Class Roll Number : {dct.get('rolln')}\n",
    "    College : {dct.get('clg')}\n",
    "    '''\n",
    "    return tp"
   ]
  },
  {
   "cell_type": "code",
   "execution_count": 29,
   "metadata": {},
   "outputs": [
    {
     "name": "stdout",
     "output_type": "stream",
     "text": [
      "\n",
      "\n",
      "    Name : divyanshu\n",
      "    Section : None\n",
      "    Class Roll Number : 43\n",
      "    College : GLA\n",
      "    \n"
     ]
    }
   ],
   "source": [
    "\n",
    "out = info(NamE='divyanshu', rolln='43', cpi=8.5, cLg='GLA')\n",
    "print(out)"
   ]
  }
 ],
 "metadata": {
  "interpreter": {
   "hash": "ac63e7d2902d829a95718f514f583b39cb52f10e7c5524becb094a341f2ea3ca"
  },
  "kernelspec": {
   "display_name": "Python 3.10.1 64-bit (windows store)",
   "language": "python",
   "name": "python3"
  },
  "language_info": {
   "codemirror_mode": {
    "name": "ipython",
    "version": 3
   },
   "file_extension": ".py",
   "mimetype": "text/x-python",
   "name": "python",
   "nbconvert_exporter": "python",
   "pygments_lexer": "ipython3",
   "version": "3.10.1"
  },
  "orig_nbformat": 4
 },
 "nbformat": 4,
 "nbformat_minor": 2
}
