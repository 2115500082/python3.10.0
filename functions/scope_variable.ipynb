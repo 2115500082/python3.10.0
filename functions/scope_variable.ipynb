{
 "cells": [
  {
   "cell_type": "code",
   "execution_count": null,
   "metadata": {},
   "outputs": [],
   "source": [
    "# scope of the variable \n",
    "\"\"\"\n",
    "1. global\n",
    "2. local\n",
    "3. nonlocal\n",
    "\"\"\""
   ]
  },
  {
   "cell_type": "code",
   "execution_count": 4,
   "metadata": {},
   "outputs": [
    {
     "name": "stdout",
     "output_type": "stream",
     "text": [
      "34\n"
     ]
    }
   ],
   "source": [
    "def change():\n",
    "    def local_fun():\n",
    "        b = 100\n",
    "    def non_local_fun():\n",
    "        nonlocal b\n",
    "        b = 0\n",
    "    def global_fun():\n",
    "        global b\n",
    "        b = 1\n",
    "    b = 20\n",
    "    local_fun()\n",
    "    print(b)\n",
    "    non_local_fun()\n",
    "    print(b)\n",
    "    global_fun()\n",
    "    print(b)            \n",
    "\n",
    "b = 45  # global scope\n",
    "change()\n",
    "print(b)"
   ]
  }
 ],
 "metadata": {
  "interpreter": {
   "hash": "ac63e7d2902d829a95718f514f583b39cb52f10e7c5524becb094a341f2ea3ca"
  },
  "kernelspec": {
   "display_name": "Python 3.10.1 64-bit (windows store)",
   "language": "python",
   "name": "python3"
  },
  "language_info": {
   "codemirror_mode": {
    "name": "ipython",
    "version": 3
   },
   "file_extension": ".py",
   "mimetype": "text/x-python",
   "name": "python",
   "nbconvert_exporter": "python",
   "pygments_lexer": "ipython3",
   "version": "3.10.1"
  },
  "orig_nbformat": 4
 },
 "nbformat": 4,
 "nbformat_minor": 2
}
