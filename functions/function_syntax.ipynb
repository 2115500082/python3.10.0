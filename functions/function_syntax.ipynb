{
 "cells": [
  {
   "cell_type": "code",
   "execution_count": 10,
   "metadata": {},
   "outputs": [],
   "source": [
    "# function: block of code use to solve specific problem\n",
    "\n",
    "\"\"\"\n",
    "\n",
    "syntax :\n",
    "\n",
    "def fucntion_name(argv):\n",
    "    # function body\n",
    "\n",
    "\"\"\" \n",
    "\n",
    "def lcm(num1, num2):\n",
    "\n",
    "\n",
    "\n",
    "    mx = max(num1, num2)\n",
    "    while 1:\n",
    "\n",
    "        if mx % num1 == 0 and mx % num2 == 0:\n",
    "            return mx\n",
    "            break\n",
    "        mx += 1 \n"
   ]
  },
  {
   "cell_type": "code",
   "execution_count": 13,
   "metadata": {},
   "outputs": [
    {
     "name": "stdout",
     "output_type": "stream",
     "text": [
      "22\n"
     ]
    }
   ],
   "source": [
    "# lcm :  lowest common multiple\n",
    "   \n",
    "# main\n",
    "num1 = 4\n",
    "num2 = 6\n",
    "out = lcm(num1, num2)\n",
    "print(out+10)\n",
    "\n"
   ]
  },
  {
   "cell_type": "code",
   "execution_count": 43,
   "metadata": {},
   "outputs": [],
   "source": [
    "# fucntion with no return and argv\n",
    "def my_info(name, sec, college, mob):\n",
    "    st = f'''\n",
    "    My name is {name}\n",
    "    Section {sec}\n",
    "    University {college}\n",
    "    Mobile number is {mob}'''\n",
    "    return st"
   ]
  },
  {
   "cell_type": "code",
   "execution_count": 63,
   "metadata": {},
   "outputs": [],
   "source": [
    "# function: block of code use to solve the specific problem \n",
    "def my_info(name, sec, clg, mob):\n",
    "    st = f'''\n",
    "    My name: {name}\n",
    "    Section: {sec}\n",
    "    University: {clg}\n",
    "    Mobile : {mob}'''\n",
    "    return st\n"
   ]
  },
  {
   "cell_type": "code",
   "execution_count": 66,
   "metadata": {},
   "outputs": [
    {
     "name": "stdout",
     "output_type": "stream",
     "text": [
      "\n",
      "    My name: divyanshu\n",
      "    Section: O AIML\n",
      "    University: GLA\n",
      "    Mobile : 4854984849584\n"
     ]
    }
   ],
   "source": [
    "# main\n",
    "lst = ['divyanshu', 'O AIML', 'GLA', '4854984849584']\n",
    "out = my_info(*lst)\n",
    "print(out)\n"
   ]
  },
  {
   "cell_type": "code",
   "execution_count": null,
   "metadata": {},
   "outputs": [],
   "source": [
    "# gcd \n",
    "def gcd(num1, num2):\n",
    "    # logic here and return \n",
    "    return\n",
    "\n",
    "def lcm(num1, num2):\n",
    "    # logic here and return \n",
    "    return\n",
    "\n"
   ]
  },
  {
   "cell_type": "code",
   "execution_count": 67,
   "metadata": {},
   "outputs": [
    {
     "name": "stdout",
     "output_type": "stream",
     "text": [
      "*          *\n",
      "**        **\n",
      "***      ***\n",
      "****    ****\n",
      "*****  *****\n",
      "************\n"
     ]
    }
   ],
   "source": [
    "a = 6\n",
    "for i in range(1, a+1):\n",
    "    for j in range(1, a*2+1):\n",
    "        if j <= i or j>=(2*a-i+1):\n",
    "            print('*', end='')\n",
    "        else:\n",
    "            print(end=' ')\n",
    "    print()            \n"
   ]
  },
  {
   "cell_type": "code",
   "execution_count": 1,
   "metadata": {},
   "outputs": [],
   "source": [
    "def prime(a):\n",
    "    c = 0\n",
    "    for i in range(1, a+1):\n",
    "        if a % i == 0:\n",
    "            c = c + 1\n",
    "    if c == 2:\n",
    "        return 'prime number '\n",
    "    else:\n",
    "        return  'Not a prime number ' "
   ]
  },
  {
   "cell_type": "code",
   "execution_count": null,
   "metadata": {},
   "outputs": [],
   "source": [
    "# function \n",
    "num = int(input('Enter the positive integer number '))\n",
    "result = prime(num)\n",
    "print(result)   "
   ]
  }
 ],
 "metadata": {
  "interpreter": {
   "hash": "ac63e7d2902d829a95718f514f583b39cb52f10e7c5524becb094a341f2ea3ca"
  },
  "kernelspec": {
   "display_name": "Python 3.10.0 64-bit (windows store)",
   "language": "python",
   "name": "python3"
  },
  "language_info": {
   "codemirror_mode": {
    "name": "ipython",
    "version": 3
   },
   "file_extension": ".py",
   "mimetype": "text/x-python",
   "name": "python",
   "nbconvert_exporter": "python",
   "pygments_lexer": "ipython3",
   "version": "3.10.1"
  },
  "orig_nbformat": 4
 },
 "nbformat": 4,
 "nbformat_minor": 2
}
