{
 "cells": [
  {
   "cell_type": "code",
   "execution_count": 37,
   "metadata": {},
   "outputs": [],
   "source": [
    "# type of arguments\n",
    "def sub(a=0, b=0):\n",
    "    \"function for substraction of two numbers\"\n",
    "    return a + b\n"
   ]
  },
  {
   "cell_type": "code",
   "execution_count": 38,
   "metadata": {},
   "outputs": [
    {
     "name": "stdout",
     "output_type": "stream",
     "text": [
      "0\n"
     ]
    }
   ],
   "source": [
    "# doc\n",
    "out = sub()\n",
    "print(out)"
   ]
  },
  {
   "cell_type": "code",
   "execution_count": 19,
   "metadata": {},
   "outputs": [],
   "source": [
    "# default argv\n",
    "def add(a, b=0):\n",
    "    \"function for addition\"\n",
    "    return a + b"
   ]
  },
  {
   "cell_type": "code",
   "execution_count": 20,
   "metadata": {},
   "outputs": [
    {
     "name": "stdout",
     "output_type": "stream",
     "text": [
      "1\n"
     ]
    }
   ],
   "source": [
    "# main\n",
    "out = add(1)\n",
    "print(out)"
   ]
  },
  {
   "cell_type": "code",
   "execution_count": 28,
   "metadata": {},
   "outputs": [],
   "source": [
    "# optional positional argv \n",
    "def add(*b):\n",
    "    \"function for addition\"\n",
    "\n",
    "    return sum(b)"
   ]
  },
  {
   "cell_type": "code",
   "execution_count": 31,
   "metadata": {},
   "outputs": [
    {
     "name": "stdout",
     "output_type": "stream",
     "text": [
      "14\n"
     ]
    }
   ],
   "source": [
    "out = add(1, 3, 4, 6)\n",
    "print(out)"
   ]
  },
  {
   "cell_type": "code",
   "execution_count": 34,
   "metadata": {},
   "outputs": [],
   "source": [
    "\n",
    "# optional positional argv with required \n",
    "def add(*b, a=1):\n",
    "    \"function for addition\"\n",
    "    return sum(b)/a"
   ]
  },
  {
   "cell_type": "code",
   "execution_count": 38,
   "metadata": {},
   "outputs": [
    {
     "name": "stdout",
     "output_type": "stream",
     "text": [
      "14.0\n"
     ]
    }
   ],
   "source": [
    "out = add(2, 4,3, 5, a=1)\n",
    "print(out)"
   ]
  },
  {
   "cell_type": "code",
   "execution_count": 6,
   "metadata": {},
   "outputs": [
    {
     "data": {
      "text/plain": [
       "'Return the Unicode code point for a one-character string.'"
      ]
     },
     "execution_count": 6,
     "metadata": {},
     "output_type": "execute_result"
    }
   ],
   "source": [
    "ord.__doc__"
   ]
  },
  {
   "cell_type": "code",
   "execution_count": 2,
   "metadata": {},
   "outputs": [
    {
     "name": "stdout",
     "output_type": "stream",
     "text": [
      "100\n"
     ]
    }
   ],
   "source": [
    "def fun(y:int)->int:\n",
    "    return 100\n",
    "\n",
    "out = fun(29)\n",
    "print(out)\n"
   ]
  },
  {
   "cell_type": "code",
   "execution_count": 4,
   "metadata": {},
   "outputs": [
    {
     "name": "stdout",
     "output_type": "stream",
     "text": [
      "12\n"
     ]
    }
   ],
   "source": [
    "# function: block of code to solve the specific problem \n",
    "def lcm_fun(num1, num2):\n",
    "    m =  max(num1, num2)\n",
    "    while 1:\n",
    "        if m % num1 == 0 and m % num2 == 0:\n",
    "            return m\n",
    "        m += 1\n",
    "\n",
    "# main code \n",
    "num1 = 4\n",
    "num2 = 6\n",
    "lcm = lcm_fun(num1, num2)\n",
    "print(lcm)\n"
   ]
  },
  {
   "cell_type": "code",
   "execution_count": 41,
   "metadata": {},
   "outputs": [
    {
     "name": "stdout",
     "output_type": "stream",
     "text": [
      "Area 24 and Perimeter 20\n"
     ]
    }
   ],
   "source": [
    "# lcm_gcd\n",
    "def area_peri(l, b):\n",
    "    a = l * b\n",
    "    p = 2 * (l + b)\n",
    "    return a, p\n",
    "\n",
    "area, peri = area_peri(int(input()), int(input()))\n",
    "print(f'Area {area} and Perimeter {peri}')   \n",
    "\n"
   ]
  },
  {
   "cell_type": "code",
   "execution_count": null,
   "metadata": {},
   "outputs": [],
   "source": [
    "def power(a,b):\n",
    "    r=1\n",
    "    for i in range(b):\n",
    "        r*=a\n",
    "    return r\n",
    "print(power(2,3))"
   ]
  },
  {
   "cell_type": "code",
   "execution_count": 28,
   "metadata": {},
   "outputs": [],
   "source": [
    "# \n",
    "\n",
    "def info(**dct):\n",
    "    # print(dct, type(dct))\n",
    "    tp = f'''\n",
    "    Name : {dct.get('name')}\n",
    "    Roll Number : {dct.get('rolln')}\n",
    "    CPI : {dct.get('cpi')}\n",
    "    College : {dct.get('clg')}\n",
    "    '''\n",
    "    return tp"
   ]
  },
  {
   "cell_type": "code",
   "execution_count": 24,
   "metadata": {},
   "outputs": [
    {
     "data": {
      "text/plain": [
       "'Ravi'"
      ]
     },
     "execution_count": 24,
     "metadata": {},
     "output_type": "execute_result"
    }
   ],
   "source": [
    "dct = {'name': 'Ravi', 'rollno': 55}\n",
    "lst = ['Ravi', 55]\n",
    "\n",
    "lst[0]\n",
    "dct['name']"
   ]
  },
  {
   "cell_type": "code",
   "execution_count": 35,
   "metadata": {},
   "outputs": [
    {
     "name": "stdout",
     "output_type": "stream",
     "text": [
      "\n",
      "    Name : None\n",
      "    Roll Number : None\n",
      "    CPI : None\n",
      "    College : None\n",
      "    \n"
     ]
    }
   ],
   "source": [
    "result = info(Name='Amit')\n",
    "print(result)"
   ]
  },
  {
   "cell_type": "code",
   "execution_count": 23,
   "metadata": {},
   "outputs": [
    {
     "name": "stdout",
     "output_type": "stream",
     "text": [
      "9\n"
     ]
    }
   ],
   "source": [
    "def optional_sum(*c):\n",
    "    s = 0\n",
    "    for i in c:\n",
    "        s += i\n",
    "    return s    \n",
    "\n",
    "out = optional_sum(3, 6)\n",
    "print(out)\n",
    "\n"
   ]
  },
  {
   "cell_type": "code",
   "execution_count": 36,
   "metadata": {},
   "outputs": [
    {
     "name": "stdout",
     "output_type": "stream",
     "text": [
      "<class 'type'>\n"
     ]
    }
   ],
   "source": [
    "print(type(type(int)))"
   ]
  }
 ],
 "metadata": {
  "interpreter": {
   "hash": "ac63e7d2902d829a95718f514f583b39cb52f10e7c5524becb094a341f2ea3ca"
  },
  "kernelspec": {
   "display_name": "Python 3.10.0 64-bit (windows store)",
   "language": "python",
   "name": "python3"
  },
  "language_info": {
   "codemirror_mode": {
    "name": "ipython",
    "version": 3
   },
   "file_extension": ".py",
   "mimetype": "text/x-python",
   "name": "python",
   "nbconvert_exporter": "python",
   "pygments_lexer": "ipython3",
   "version": "3.10.1"
  },
  "orig_nbformat": 4
 },
 "nbformat": 4,
 "nbformat_minor": 2
}
