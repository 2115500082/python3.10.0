{
 "cells": [
  {
   "cell_type": "code",
   "execution_count": 5,
   "metadata": {},
   "outputs": [
    {
     "name": "stdout",
     "output_type": "stream",
     "text": [
      "2\n"
     ]
    }
   ],
   "source": [
    "h = map(int, input().split())\n",
    "mx = max([h.count(i) for i in h])\n",
    "print(mx)    \n"
   ]
  },
  {
   "cell_type": "code",
   "execution_count": 9,
   "metadata": {},
   "outputs": [
    {
     "name": "stdout",
     "output_type": "stream",
     "text": [
      "*        *\n",
      "**      **\n",
      "***    ***\n",
      "****  ****\n",
      "**********\n"
     ]
    }
   ],
   "source": [
    "num = int(input())\n",
    "for i in range(1, num+1):\n",
    "    print('*'*i + ' '*((num-i)*2)  + '*'*i)"
   ]
  },
  {
   "cell_type": "code",
   "execution_count": 5,
   "metadata": {},
   "outputs": [
    {
     "name": "stdout",
     "output_type": "stream",
     "text": [
      "['Haya' 'Maryam' 'Fatema']\n"
     ]
    }
   ],
   "source": [
    "import numpy as np\n",
    "\n",
    "\n",
    "names = np.array([\"Reem\" , \"Salah\" , \"Haya\" , \"Maryam\" , \"Fatema\"])\n",
    "\n",
    "print(names[[2,3,4]])"
   ]
  },
  {
   "cell_type": "code",
   "execution_count": 17,
   "metadata": {},
   "outputs": [
    {
     "name": "stdout",
     "output_type": "stream",
     "text": [
      "[array([1, 3, 4, 5])]\n"
     ]
    }
   ],
   "source": [
    "arr = np.array([1, 3, 4, 5])\n",
    "print([arr])"
   ]
  }
 ],
 "metadata": {
  "interpreter": {
   "hash": "6fd5d17f89328c3b072a96f6b1992bc24e08c15e7c7e5cf33f422471cdc1cbe3"
  },
  "kernelspec": {
   "display_name": "Python 3.7.7 64-bit ('tf': conda)",
   "language": "python",
   "name": "python3"
  },
  "language_info": {
   "codemirror_mode": {
    "name": "ipython",
    "version": 3
   },
   "file_extension": ".py",
   "mimetype": "text/x-python",
   "name": "python",
   "nbconvert_exporter": "python",
   "pygments_lexer": "ipython3",
   "version": "3.7.2"
  },
  "orig_nbformat": 4
 },
 "nbformat": 4,
 "nbformat_minor": 2
}
