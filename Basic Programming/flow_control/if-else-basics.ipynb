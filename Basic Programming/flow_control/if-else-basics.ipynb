{
 "cells": [
  {
   "cell_type": "code",
   "execution_count": 2,
   "metadata": {},
   "outputs": [
    {
     "name": "stdout",
     "output_type": "stream",
     "text": [
      "Number is negative \n"
     ]
    }
   ],
   "source": [
    "\n",
    "num = int(input('Enter the number value -'))\n",
    "if num > 0:\n",
    "    print('Number is positive ')\n",
    "elif num == 0:\n",
    "    print('Number is zero')    \n",
    "else:    \n",
    "    print('Number is negative ')\n",
    "\n"
   ]
  },
  {
   "cell_type": "code",
   "execution_count": 3,
   "metadata": {},
   "outputs": [
    {
     "name": "stdout",
     "output_type": "stream",
     "text": [
      "Underflow condition\n",
      "filled height 9.936305732484076\n",
      "remaining height 0.063694267515924\n"
     ]
    }
   ],
   "source": [
    "# water tank problem \n",
    "h = 10\n",
    "r = 5\n",
    "F = 15\n",
    "\n",
    "t = int(input('Enter the time '))\n",
    "\n",
    "Vwtr = F * t\n",
    "Vtank = 3.14 * r ** 2 * h\n",
    "\n",
    "if Vwtr > Vtank:\n",
    "    print('Overflow condtion')\n",
    "    print('Overflow volume', Vwtr - Vtank)\n",
    "elif Vwtr == Vtank:\n",
    "    print(\"Tank full \")\n",
    "else:\n",
    "    print(\"Underflow condition\")\n",
    "    ht = Vwtr / (3.14 * r ** 2)\n",
    "    hr = h - ht \n",
    "    print('filled height', ht)\n",
    "    print('remaining height', hr)       \n",
    "\n"
   ]
  }
 ],
 "metadata": {
  "interpreter": {
   "hash": "ac63e7d2902d829a95718f514f583b39cb52f10e7c5524becb094a341f2ea3ca"
  },
  "kernelspec": {
   "display_name": "Python 3.10.0 64-bit (windows store)",
   "name": "python3"
  },
  "language_info": {
   "codemirror_mode": {
    "name": "ipython",
    "version": 3
   },
   "file_extension": ".py",
   "mimetype": "text/x-python",
   "name": "python",
   "nbconvert_exporter": "python",
   "pygments_lexer": "ipython3",
   "version": "3.10.0"
  },
  "orig_nbformat": 4
 },
 "nbformat": 4,
 "nbformat_minor": 2
}
