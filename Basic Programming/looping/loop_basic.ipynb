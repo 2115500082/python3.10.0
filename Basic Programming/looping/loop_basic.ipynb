# iterate over the sequential data 

st = 'hello'
for i in st:
    print('hi')

