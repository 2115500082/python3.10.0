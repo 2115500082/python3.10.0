{
 "cells": [
  {
   "cell_type": "code",
   "execution_count": 4,
   "metadata": {},
   "outputs": [
    {
     "name": "stdout",
     "output_type": "stream",
     "text": [
      "6\n"
     ]
    }
   ],
   "source": [
    "# prime number :  using for loop\n",
    "num = 12\n",
    "c = 0\n",
    "for i in range(1, num+1):\n",
    "    if num % i == 0: \n",
    "        c = c + 1\n",
    "if c == 2:\n",
    "    print('Prime Number ')\n",
    "else:\n",
    "    print(\"Not a Prime number \")\n",
    "\n"
   ]
  },
  {
   "cell_type": "code",
   "execution_count": 6,
   "metadata": {},
   "outputs": [
    {
     "name": "stdout",
     "output_type": "stream",
     "text": [
      "1\n",
      "5\n"
     ]
    }
   ],
   "source": [
    "# prime number: while loop\n",
    "num = 5\n",
    "i = 1\n",
    "count=0\n",
    "while num >= i:\n",
    "    if num % i == 0:\n",
    "        count+=1\n",
    "    i += 1    \n",
    "if (count==2):\n",
    "    print(\"no..is prime\")\n",
    "else:\n",
    "    print(\"no..is not prime\")"
   ]
  },
  {
   "cell_type": "code",
   "execution_count": 8,
   "metadata": {},
   "outputs": [
    {
     "name": "stdout",
     "output_type": "stream",
     "text": [
      "3\n"
     ]
    }
   ],
   "source": [
    "num = 153\n",
    "num = str(num)  # '153'\n",
    "\n",
    "ln = len(num)\n",
    "s = 0\n",
    "for i in num:\n",
    "    s += int(i) ** ln\n",
    "if s == int(num):\n",
    "    print('Armstrong number ')\n",
    "\n",
    "\n"
   ]
  }
 ],
 "metadata": {
  "interpreter": {
   "hash": "ac63e7d2902d829a95718f514f583b39cb52f10e7c5524becb094a341f2ea3ca"
  },
  "kernelspec": {
   "display_name": "Python 3.10.0 64-bit (windows store)",
   "language": "python",
   "name": "python3"
  },
  "language_info": {
   "codemirror_mode": {
    "name": "ipython",
    "version": 3
   },
   "file_extension": ".py",
   "mimetype": "text/x-python",
   "name": "python",
   "nbconvert_exporter": "python",
   "pygments_lexer": "ipython3",
   "version": "3.10.0"
  },
  "orig_nbformat": 4
 },
 "nbformat": 4,
 "nbformat_minor": 2
}
