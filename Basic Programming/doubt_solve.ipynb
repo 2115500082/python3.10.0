{
 "cells": [
  {
   "cell_type": "code",
   "execution_count": 11,
   "metadata": {},
   "outputs": [
    {
     "name": "stdout",
     "output_type": "stream",
     "text": [
      "1\n",
      "5\n",
      "h e l l o\n"
     ]
    }
   ],
   "source": [
    "num = 10\n",
    "s = 0\n",
    "for i in {1:3, 5:65, 'hello':54}:\n",
    "    if type(i) == str:\n",
    "        print(*i)\n",
    "    else:\n",
    "        print(i)        "
   ]
  },
  {
   "cell_type": "code",
   "execution_count": 20,
   "metadata": {},
   "outputs": [
    {
     "name": "stdout",
     "output_type": "stream",
     "text": [
      "{'Randy Orton': 'Red', 'Jhon Cena': 'Red', 'Dave Bautista': 'Blue'}\n",
      "{'Randy Orton': 'Red', 'Jhon Cena': 'Red', 'Dave Bautista': 'Blue'}\n",
      "['Dave Bautista', 'Jhon Cena', 'Randy Orton']\n"
     ]
    }
   ],
   "source": [
    "contestants = { 'Randy Orton': 'Red', 'Dwayne Johnson' : 'Blue' }\n",
    "contestants['Jhon Cena'] = 'Red'\n",
    "contestants['Dave Bautista'] = 'Blue'\n",
    "del contestants['Dwayne Johnson']\n",
    "print(contestants) \n",
    "out = list(contestants.__reversed__())\n",
    "print(contestants, out, sep='\\n')"
   ]
  },
  {
   "cell_type": "code",
   "execution_count": 22,
   "metadata": {},
   "outputs": [
    {
     "name": "stdout",
     "output_type": "stream",
     "text": [
      "{'name': 'Abdul', 'Section': 'W', 'Roll No': 23, 'College': 'GLA University'}\n",
      "['name', 'Section', 'Roll No', 'College']\n"
     ]
    }
   ],
   "source": [
    "# dictinary is ordered? No!\n",
    "dct = {'name':'Abdul', 'Section':'W', 'Roll No': 23, 'College': 'GLA University'}\n",
    "print(dct)\n",
    "print(list(dct))\n"
   ]
  },
  {
   "cell_type": "code",
   "execution_count": 1,
   "metadata": {},
   "outputs": [
    {
     "name": "stdout",
     "output_type": "stream",
     "text": [
      "['ravi', 20, 'rakesh', 'GLA University'] <class 'list'>\n"
     ]
    }
   ],
   "source": [
    "info = ['ravi', 20, 'rakesh', 'GLA University']\n",
    "print(info, type(info)) "
   ]
  },
  {
   "cell_type": "code",
   "execution_count": 3,
   "metadata": {},
   "outputs": [
    {
     "name": "stdout",
     "output_type": "stream",
     "text": [
      "-1\n"
     ]
    }
   ],
   "source": [
    "# number \n",
    "a = 0\n",
    "k = ~a\n",
    "print(k)"
   ]
  }
 ],
 "metadata": {
  "interpreter": {
   "hash": "ac63e7d2902d829a95718f514f583b39cb52f10e7c5524becb094a341f2ea3ca"
  },
  "kernelspec": {
   "display_name": "Python 3.10.0 64-bit (windows store)",
   "language": "python",
   "name": "python3"
  },
  "language_info": {
   "codemirror_mode": {
    "name": "ipython",
    "version": 3
   },
   "file_extension": ".py",
   "mimetype": "text/x-python",
   "name": "python",
   "nbconvert_exporter": "python",
   "pygments_lexer": "ipython3",
   "version": "3.10.0"
  },
  "orig_nbformat": 4
 },
 "nbformat": 4,
 "nbformat_minor": 2
}
