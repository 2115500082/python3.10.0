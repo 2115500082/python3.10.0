{
 "cells": [
  {
   "cell_type": "code",
   "execution_count": 1,
   "metadata": {},
   "outputs": [
    {
     "name": "stdout",
     "output_type": "stream",
     "text": [
      "Hello python language\n"
     ]
    }
   ],
   "source": [
    "# capitalize(): convert the first letter of the string into upper case\n",
    "st = 'hello python language'\n",
    "out = st.capitalize()\n",
    "print(out)"
   ]
  },
  {
   "cell_type": "code",
   "execution_count": 2,
   "metadata": {},
   "outputs": [
    {
     "name": "stdout",
     "output_type": "stream",
     "text": [
      "HELLO 123 PYTHON\n"
     ]
    }
   ],
   "source": [
    "# upper(): convert all the letters into upper.\n",
    "st = 'hello 123 python'\n",
    "out = st.upper()\n",
    "print(out)"
   ]
  },
  {
   "cell_type": "code",
   "execution_count": 4,
   "metadata": {},
   "outputs": [
    {
     "name": "stdout",
     "output_type": "stream",
     "text": [
      "hello 123 python\n"
     ]
    }
   ],
   "source": [
    "# lower(): convert all the characters(ASCII) into lower case\n",
    "st = 'helLo 123 PytHon'\n",
    "out = st.lower()\n",
    "print(out)"
   ]
  },
  {
   "cell_type": "code",
   "execution_count": 6,
   "metadata": {},
   "outputs": [
    {
     "name": "stdout",
     "output_type": "stream",
     "text": [
      "hello 123 python\n"
     ]
    }
   ],
   "source": [
    "# casefold()\n",
    "st = 'helLo 123 pytHoN'\n",
    "out = st.casefold()\n",
    "print(out)"
   ]
  },
  {
   "cell_type": "code",
   "execution_count": 9,
   "metadata": {},
   "outputs": [
    {
     "name": "stdout",
     "output_type": "stream",
     "text": [
      "Hello Python 45Programming Class Speed Of 4G\n"
     ]
    }
   ],
   "source": [
    "# title(): convert first letter of each words into upper case\n",
    "st = 'hello python 45programming class speed of 4g'\n",
    "out = st.title()\n",
    "print(out)"
   ]
  },
  {
   "cell_type": "code",
   "execution_count": 11,
   "metadata": {},
   "outputs": [
    {
     "name": "stdout",
     "output_type": "stream",
     "text": [
      "False\n"
     ]
    }
   ],
   "source": [
    "# isupper(): return True if all the char is in uppercase\n",
    "st = 'HELLo'\n",
    "out = st.isupper()\n",
    "print(out)"
   ]
  },
  {
   "cell_type": "code",
   "execution_count": 24,
   "metadata": {},
   "outputs": [
    {
     "name": "stdout",
     "output_type": "stream",
     "text": [
      "hello\n"
     ]
    }
   ],
   "source": [
    "# center(): return the centered string with fill char\n",
    "st = 'hello'\n",
    "out = st.center(0, '*')\n",
    "print(out)"
   ]
  },
  {
   "cell_type": "code",
   "execution_count": 26,
   "metadata": {},
   "outputs": [
    {
     "name": "stdout",
     "output_type": "stream",
     "text": [
      "hello*****\n"
     ]
    }
   ],
   "source": [
    "# rjust(): \n",
    "# ljust\n",
    "# zfill():\n",
    "st = 'hello'\n",
    "out = st.ljust(10, '*')\n",
    "print(out)"
   ]
  },
  {
   "cell_type": "code",
   "execution_count": 29,
   "metadata": {},
   "outputs": [
    {
     "name": "stdout",
     "output_type": "stream",
     "text": [
      "-000000000000334-434\n"
     ]
    }
   ],
   "source": [
    "st = '-334-434'\n",
    "out = st.zfill(20)\n",
    "print(out)"
   ]
  },
  {
   "cell_type": "code",
   "execution_count": 33,
   "metadata": {},
   "outputs": [
    {
     "name": "stdout",
     "output_type": "stream",
     "text": [
      "b'hello python \\xf0\\x9f\\x98\\x9d'\n"
     ]
    }
   ],
   "source": [
    "# encode(): \n",
    "st = 'hello python 😝'\n",
    "out = st.encode('utf')\n",
    "print(out)"
   ]
  },
  {
   "cell_type": "code",
   "execution_count": 37,
   "metadata": {},
   "outputs": [
    {
     "name": "stdout",
     "output_type": "stream",
     "text": [
      "hello python 😝\n"
     ]
    }
   ],
   "source": [
    "# decode(): \n",
    "\n",
    "st_e = b'hello python \\xf0\\x9f\\x98\\x9d'\n",
    "\n",
    "out = st_e.decode('utf', errors='replace')\n",
    "print(out)\n",
    "\n"
   ]
  }
 ],
 "metadata": {
  "interpreter": {
   "hash": "ac63e7d2902d829a95718f514f583b39cb52f10e7c5524becb094a341f2ea3ca"
  },
  "kernelspec": {
   "display_name": "Python 3.10.0 64-bit (windows store)",
   "language": "python",
   "name": "python3"
  },
  "language_info": {
   "codemirror_mode": {
    "name": "ipython",
    "version": 3
   },
   "file_extension": ".py",
   "mimetype": "text/x-python",
   "name": "python",
   "nbconvert_exporter": "python",
   "pygments_lexer": "ipython3",
   "version": "3.10.0"
  },
  "orig_nbformat": 4
 },
 "nbformat": 4,
 "nbformat_minor": 2
}
