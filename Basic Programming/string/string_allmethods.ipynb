{
 "cells": [
  {
   "cell_type": "code",
   "execution_count": null,
   "metadata": {},
   "outputs": [
    {
     "name": "stdout",
     "output_type": "stream",
     "text": [
      "Hello, Python String!\n"
     ]
    }
   ],
   "source": [
    "# String all methods"
   ]
  },
  {
   "cell_type": "code",
   "execution_count": 5,
   "metadata": {},
   "outputs": [
    {
     "name": "stdout",
     "output_type": "stream",
     "text": [
      "hello world, Python\n"
     ]
    }
   ],
   "source": [
    "st = 'hello world, Python'\n",
    "print(st)"
   ]
  },
  {
   "cell_type": "code",
   "execution_count": 6,
   "metadata": {},
   "outputs": [
    {
     "name": "stdout",
     "output_type": "stream",
     "text": [
      "HELLO WORLD, PYTHON\n"
     ]
    }
   ],
   "source": [
    "\n",
    "# upper() : convert all the char into upper case\n",
    "out = st.upper()\n",
    "print(out)  # HELLO WORLD, PYTHON\n"
   ]
  },
  {
   "cell_type": "code",
   "execution_count": 7,
   "metadata": {},
   "outputs": [
    {
     "name": "stdout",
     "output_type": "stream",
     "text": [
      "hello world\n"
     ]
    }
   ],
   "source": [
    "# lower()\n",
    "st = 'Hello World 232'\n",
    "out = st.lower()\n",
    "print(out)"
   ]
  },
  {
   "cell_type": "code",
   "execution_count": 8,
   "metadata": {},
   "outputs": [
    {
     "name": "stdout",
     "output_type": "stream",
     "text": [
      "Llo python\n"
     ]
    }
   ],
   "source": [
    "# capitalize(): convert the first letter of string into upper case\n",
    "st = 'hello python'\n",
    "out = st[2:].capitalize()\n",
    "print(out)"
   ]
  },
  {
   "cell_type": "code",
   "execution_count": 10,
   "metadata": {},
   "outputs": [
    {
     "name": "stdout",
     "output_type": "stream",
     "text": [
      "Hello Python Programming 5Lecture\n"
     ]
    }
   ],
   "source": [
    "# title(): \n",
    "st = 'hello python programming 5lecture'\n",
    "out = st.title()\n",
    "print(out)"
   ]
  },
  {
   "cell_type": "code",
   "execution_count": 12,
   "metadata": {},
   "outputs": [
    {
     "name": "stdout",
     "output_type": "stream",
     "text": [
      "True\n"
     ]
    }
   ],
   "source": [
    "# istitle()\n",
    "# st = 'hello python programming 5lecture'\n",
    "st = 'Hello Python Programming 5Lecture'\n",
    "out = st.istitle()\n",
    "print(out)"
   ]
  },
  {
   "cell_type": "code",
   "execution_count": 14,
   "metadata": {},
   "outputs": [
    {
     "name": "stdout",
     "output_type": "stream",
     "text": [
      "False\n"
     ]
    }
   ],
   "source": [
    "# isupper()\n",
    "st = 'Hello Python Programming 5Lecture'\n",
    "out = st.isupper()\n",
    "print(out)\n"
   ]
  },
  {
   "cell_type": "code",
   "execution_count": 21,
   "metadata": {},
   "outputs": [
    {
     "name": "stdout",
     "output_type": "stream",
     "text": [
      "['Hell', ' Pyth', 'n Pr', 'gramming 5Lecture']\n"
     ]
    }
   ],
   "source": [
    "# split()\n",
    "st = 'Hello Python Programming 5Lecture'\n",
    "out = st.split('o')\n",
    "print(out)\n"
   ]
  },
  {
   "cell_type": "code",
   "execution_count": 23,
   "metadata": {},
   "outputs": [
    {
     "name": "stdout",
     "output_type": "stream",
     "text": [
      "True\n"
     ]
    }
   ],
   "source": [
    "# startswith()\n",
    "\n",
    "st = 'hello python'\n",
    "x = 'he'\n",
    "out = st.startswith(x)\n",
    "print(out)"
   ]
  },
  {
   "cell_type": "code",
   "execution_count": 38,
   "metadata": {},
   "outputs": [
    {
     "name": "stdout",
     "output_type": "stream",
     "text": [
      "b'My ?'\n"
     ]
    }
   ],
   "source": [
    "# encode()\n",
    "\n",
    "st ='My ❤'\n",
    "out = st.encode('ascii', errors='replace')\n",
    "print(out)\n"
   ]
  },
  {
   "cell_type": "code",
   "execution_count": 36,
   "metadata": {},
   "outputs": [
    {
     "name": "stdout",
     "output_type": "stream",
     "text": [
      "My ❤\n"
     ]
    }
   ],
   "source": [
    "st = b'My \\xe2\\x9d\\xa4'\n",
    "out = st.decode('utf')\n",
    "print(out)"
   ]
  }
 ],
 "metadata": {
  "interpreter": {
   "hash": "31f2aee4e71d21fbe5cf8b01ff0e069b9275f58929596ceb00d14d90e3e16cd6"
  },
  "kernelspec": {
   "display_name": "Python 3.6.9 64-bit",
   "name": "python3"
  },
  "language_info": {
   "codemirror_mode": {
    "name": "ipython",
    "version": 3
   },
   "file_extension": ".py",
   "mimetype": "text/x-python",
   "name": "python",
   "nbconvert_exporter": "python",
   "pygments_lexer": "ipython3",
   "version": "3.6.9"
  },
  "orig_nbformat": 4
 },
 "nbformat": 4,
 "nbformat_minor": 2
}
