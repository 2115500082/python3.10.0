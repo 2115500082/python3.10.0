{
 "cells": [
  {
   "cell_type": "code",
   "execution_count": 1,
   "metadata": {},
   "outputs": [
    {
     "name": "stdout",
     "output_type": "stream",
     "text": [
      "Hello, Python String!\n"
     ]
    }
   ],
   "source": [
    "print(\"Hello, Python String!\")\n",
    "\n",
    "# www.hackerrank.com/python3100\n",
    "# www.hackerrank.com/python3101\n",
    "# www.hackerrank.com/python3102"
   ]
  },
  {
   "cell_type": "code",
   "execution_count": 3,
   "metadata": {},
   "outputs": [
    {
     "name": "stdout",
     "output_type": "stream",
     "text": [
      "1\n",
      "2\n",
      "4\n",
      "5\n",
      "7\n",
      "8\n",
      "10\n",
      "11\n",
      "14\n",
      "16\n"
     ]
    }
   ],
   "source": [
    "\"Detest of three\"\n",
    "\n",
    "# input section\n",
    "pos = int(input('enter the position: '))\n",
    "i = 1\n",
    "\n",
    "while True:\n",
    "    if i % 3 != 0 and i % 10 != 3:\n",
    "        pos -=  1\n",
    "        if pos <= 0:\n",
    "            break\n",
    "    i += 1\n",
    "print(i)   \n",
    "\n",
    "\n",
    "seq = [1, 2, 4, 5, 7, 8, 10, 11, 14, 16, ...]\n",
    "\n",
    "\n",
    "\n",
    "\n",
    "\n",
    "\n"
   ]
  }
 ],
 "metadata": {
  "interpreter": {
   "hash": "ac63e7d2902d829a95718f514f583b39cb52f10e7c5524becb094a341f2ea3ca"
  },
  "kernelspec": {
   "display_name": "Python 3.10.0 64-bit (windows store)",
   "name": "python3"
  },
  "language_info": {
   "codemirror_mode": {
    "name": "ipython",
    "version": 3
   },
   "file_extension": ".py",
   "mimetype": "text/x-python",
   "name": "python",
   "nbconvert_exporter": "python",
   "pygments_lexer": "ipython3",
   "version": "3.10.0"
  },
  "orig_nbformat": 4
 },
 "nbformat": 4,
 "nbformat_minor": 2
}
