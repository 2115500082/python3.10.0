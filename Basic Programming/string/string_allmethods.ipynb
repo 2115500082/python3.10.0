{
 "cells": [
  {
   "cell_type": "code",
   "execution_count": 1,
   "metadata": {},
   "outputs": [
    {
     "name": "stdout",
     "output_type": "stream",
     "text": [
      "Hello, Python String!\n"
     ]
    }
   ],
   "source": [
    "# String all methods\n",
    "\n",
    "# capitalize()\n",
    "# casefold()\n",
    "# center()\n",
    "# count()\n",
    "# endswith()\n",
    "# startswith()\n",
    "# index()\n",
    "# find()\n",
    "# split()\n",
    "# partition()\n",
    "# swapcase()\n",
    "# isascii()\n",
    "# format()"
   ]
  },
  {
   "cell_type": "code",
   "execution_count": 22,
   "metadata": {},
   "outputs": [
    {
     "name": "stdout",
     "output_type": "stream",
     "text": [
      "Hello python class\n"
     ]
    }
   ],
   "source": [
    "# capitalize(): convert the first letter of string into upper case\n",
    "\n",
    "st = 'hello python class'\n",
    "out = st.capitalize()\n",
    "\n",
    "print(out)"
   ]
  },
  {
   "cell_type": "code",
   "execution_count": 24,
   "metadata": {},
   "outputs": [
    {
     "name": "stdout",
     "output_type": "stream",
     "text": [
      "hello python class\n"
     ]
    }
   ],
   "source": [
    "# casefold(): convert all the char(unicode) into lower case\n",
    "st = 'hello Python CLASS'\n",
    "# out = st.casefold()\n",
    "out = st.lower()\n",
    "print(out) "
   ]
  },
  {
   "cell_type": "code",
   "execution_count": 28,
   "metadata": {},
   "outputs": [
    {
     "name": "stdout",
     "output_type": "stream",
     "text": [
      "hello python\n"
     ]
    }
   ],
   "source": [
    "# center(): return centered string \n",
    "st = 'hello python'\n",
    "out = st.center(15, \"#\")\n",
    "print(out)\n"
   ]
  },
  {
   "cell_type": "code",
   "execution_count": 31,
   "metadata": {},
   "outputs": [
    {
     "name": "stdout",
     "output_type": "stream",
     "text": [
      "1\n"
     ]
    }
   ],
   "source": [
    "#count():  count the frequency of the char or substring\n",
    "st = 'hello python'\n",
    "out = st.count('hello')\n",
    "print(out)\n"
   ]
  },
  {
   "cell_type": "code",
   "execution_count": 34,
   "metadata": {},
   "outputs": [
    {
     "name": "stdout",
     "output_type": "stream",
     "text": [
      "True\n"
     ]
    }
   ],
   "source": [
    "# endswith():\n",
    "k = 'hello world'\n",
    "out = k.endswith('ld')\n",
    "print(out)"
   ]
  },
  {
   "cell_type": "code",
   "execution_count": 39,
   "metadata": {},
   "outputs": [
    {
     "name": "stdout",
     "output_type": "stream",
     "text": [
      "4\n"
     ]
    }
   ],
   "source": [
    "# index(): return the index of the first match char or substring\n",
    "# generate the error if item or char is not found in string\n",
    "st = 'hello python'\n",
    "out = st.index('o')\n",
    "print(out)\n"
   ]
  },
  {
   "cell_type": "code",
   "execution_count": 41,
   "metadata": {},
   "outputs": [
    {
     "name": "stdout",
     "output_type": "stream",
     "text": [
      "-1\n"
     ]
    }
   ],
   "source": [
    "# find(): return the index of the first match char or substring\n",
    "# return -1 if item or char is not found in string\n",
    "st = 'hello python'\n",
    "out = st.find('z')\n",
    "print(out)"
   ]
  },
  {
   "cell_type": "code",
   "execution_count": 51,
   "metadata": {},
   "outputs": [
    {
     "name": "stdout",
     "output_type": "stream",
     "text": [
      "a 23\n",
      "b 7\n",
      "c 9\n"
     ]
    }
   ],
   "source": [
    "a, b, c = '23 7 9'.split()\n",
    "\n",
    "print('a', a)\n",
    "print('b', b)\n",
    "print('c', c)\n"
   ]
  },
  {
   "cell_type": "code",
   "execution_count": 50,
   "metadata": {},
   "outputs": [
    {
     "name": "stdout",
     "output_type": "stream",
     "text": [
      "['12', '5', '54']\n"
     ]
    }
   ],
   "source": [
    "# split(): break the string with specified pattern and return the list\n",
    "st = '12 5 54'\n",
    "out = st.split(' ')\n",
    "print(out)"
   ]
  },
  {
   "cell_type": "code",
   "execution_count": 54,
   "metadata": {},
   "outputs": [
    {
     "name": "stdout",
     "output_type": "stream",
     "text": [
      "('python class programming', '', '')\n"
     ]
    }
   ],
   "source": [
    "# partition():\n",
    "\n",
    "st = 'python class programming'\n",
    "out = st.partition(st)\n",
    "print(out)\n"
   ]
  }
 ],
 "metadata": {
  "interpreter": {
   "hash": "ac63e7d2902d829a95718f514f583b39cb52f10e7c5524becb094a341f2ea3ca"
  },
  "kernelspec": {
   "display_name": "Python 3.10.0 64-bit (windows store)",
   "name": "python3"
  },
  "language_info": {
   "codemirror_mode": {
    "name": "ipython",
    "version": 3
   },
   "file_extension": ".py",
   "mimetype": "text/x-python",
   "name": "python",
   "nbconvert_exporter": "python",
   "pygments_lexer": "ipython3",
   "version": "3.10.0"
  },
  "orig_nbformat": 4
 },
 "nbformat": 4,
 "nbformat_minor": 2
}
