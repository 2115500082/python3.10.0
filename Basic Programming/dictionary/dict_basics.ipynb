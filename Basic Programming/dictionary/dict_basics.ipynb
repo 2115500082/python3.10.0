{
 "cells": [
  {
   "cell_type": "code",
   "execution_count": 10,
   "metadata": {},
   "outputs": [
    {
     "name": "stdout",
     "output_type": "stream",
     "text": [
      "name Rakesh\n"
     ]
    }
   ],
   "source": [
    "# info = ['Aman', 33, 8.5, 'GLA University', 'Rakesh']\n",
    "info = {'name':'Aman', 'rollno':33, 'cpi':8.1, 'address':'GLA University', 'father':'Rakesh'}\n",
    "\n",
    "print('name', info['father'])\n"
   ]
  },
  {
   "cell_type": "code",
   "execution_count": 12,
   "metadata": {},
   "outputs": [
    {
     "name": "stdout",
     "output_type": "stream",
     "text": [
      "{}\n",
      "{} <class 'dict'>\n"
     ]
    }
   ],
   "source": [
    "# initialize a dict\n",
    "dt = {}\n",
    "print(dt)\n",
    "\n",
    "dt = dict()\n",
    "print(dt, type(dt))"
   ]
  },
  {
   "cell_type": "code",
   "execution_count": 13,
   "metadata": {},
   "outputs": [
    {
     "name": "stdout",
     "output_type": "stream",
     "text": [
      "{'car': ['nano', 'alto']} <class 'dict'>\n"
     ]
    }
   ],
   "source": [
    "# dictionary with single element\n",
    "dt = {'car': ['nano', 'alto']}\n",
    "print(dt, type(dt))"
   ]
  },
  {
   "cell_type": "code",
   "execution_count": 16,
   "metadata": {},
   "outputs": [
    {
     "name": "stdout",
     "output_type": "stream",
     "text": [
      "{'name': 'divyanshu', 'rollno': 33, 'cpi': 8.1, 'address': 'GLA University', 'father': 'Rakesh'}\n",
      "divyanshu\n"
     ]
    }
   ],
   "source": [
    "# unique keys in dict\n",
    "info = {'name':'Aman', 'rollno':33, 'cpi':8.1, 'father':'Rakesh', 'name':'divyanshu'}\n",
    "print(info)\n",
    "print(info['name'])"
   ]
  },
  {
   "cell_type": "code",
   "execution_count": 24,
   "metadata": {},
   "outputs": [
    {
     "name": "stdout",
     "output_type": "stream",
     "text": [
      "{'name': 'Rajeev', 'rollno': 33, 'cpi': 8.1, 'address': 'GLA University', 'father': 'Rakesh', 'mob': '9848734758'}\n"
     ]
    }
   ],
   "source": [
    "# dict is mutable \n",
    "# item assignment or item update\n",
    "\n",
    "info = {'name':'Aman', 'rollno':33, 'cpi':8.1, 'address':'GLA University', 'father':'Rakesh'}\n",
    "info['name'] = 'Rajeev'\n",
    "info['mob'] = '9848734758'\n",
    "print(info)\n",
    "\n",
    "\n"
   ]
  },
  {
   "cell_type": "code",
   "execution_count": 25,
   "metadata": {},
   "outputs": [
    {
     "name": "stdout",
     "output_type": "stream",
     "text": [
      "{'rollno': 33, 'cpi': 8.1, 'address': 'GLA University', 'father': 'Rakesh'}\n"
     ]
    }
   ],
   "source": [
    "# item deletion\n",
    "info = {'name':'Aman', 'rollno':33, 'cpi':8.1, 'address':'GLA University', 'father':'Rakesh'}\n",
    "del info['name']\n",
    "print(info)\n"
   ]
  },
  {
   "cell_type": "code",
   "execution_count": 28,
   "metadata": {},
   "outputs": [
    {
     "name": "stdout",
     "output_type": "stream",
     "text": [
      "{'rolln': [32, 44], 'name': 'Rahul', 'cpi': 8.4, 'h': 'i'}\n"
     ]
    }
   ],
   "source": [
    "# dictionary reprsantaion\n",
    "dct = [('rolln', [32, 44]), ('name', 'Rahul'), ('cpi', 8.40), 'hi']\n",
    "dct = dict(dct)\n",
    "print(dct)"
   ]
  },
  {
   "cell_type": "code",
   "execution_count": 30,
   "metadata": {},
   "outputs": [
    {
     "name": "stdout",
     "output_type": "stream",
     "text": [
      "[('rolln', [32, 44]), ('name', 'Rahul'), ('cpi', 8.4), ('h', 'i')]\n"
     ]
    }
   ],
   "source": [
    "# dictionary methods \n",
    "dct = {'rolln': [32, 44], 'name': 'Rahul', 'cpi': 8.4, 'h': 'i'}\n",
    "\n",
    "out = list(dct.items())\n",
    "\n",
    "print(out)"
   ]
  }
 ],
 "metadata": {
  "interpreter": {
   "hash": "ac63e7d2902d829a95718f514f583b39cb52f10e7c5524becb094a341f2ea3ca"
  },
  "kernelspec": {
   "display_name": "Python 3.10.0 64-bit (windows store)",
   "language": "python",
   "name": "python3"
  },
  "language_info": {
   "codemirror_mode": {
    "name": "ipython",
    "version": 3
   },
   "file_extension": ".py",
   "mimetype": "text/x-python",
   "name": "python",
   "nbconvert_exporter": "python",
   "pygments_lexer": "ipython3",
   "version": "3.10.0"
  },
  "orig_nbformat": 4
 },
 "nbformat": 4,
 "nbformat_minor": 2
}
