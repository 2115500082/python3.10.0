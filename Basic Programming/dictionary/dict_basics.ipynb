{
 "cells": [
  {
   "cell_type": "code",
   "execution_count": 10,
   "metadata": {},
   "outputs": [
    {
     "name": "stdout",
     "output_type": "stream",
     "text": [
      "name Rakesh\n"
     ]
    }
   ],
   "source": [
    "# info = ['Aman', 33, 8.5, 'GLA University', 'Rakesh']\n",
    "info = {'name':'Aman', 'rollno':33, 'cpi':8.1, 'address':'GLA University', 'father':'Rakesh'}\n",
    "\n",
    "print('name', info['father'])\n"
   ]
  },
  {
   "cell_type": "code",
   "execution_count": 41,
   "metadata": {},
   "outputs": [
    {
     "name": "stdout",
     "output_type": "stream",
     "text": [
      "54\n"
     ]
    }
   ],
   "source": [
    "# get(): return the value of the key \n",
    "dct = {'name': 'amit', 'address':'GLA', 'roll no': 33, (4, 6):54}\n",
    "out = dct.get((4, 6))\n",
    "print(out)"
   ]
  },
  {
   "cell_type": "code",
   "execution_count": 46,
   "metadata": {},
   "outputs": [
    {
     "name": "stdout",
     "output_type": "stream",
     "text": [
      "<class 'dict_items'>\n"
     ]
    }
   ],
   "source": [
    "# items(): return the raw form of dict \n",
    "dct = {'name': 'amit', 'address':'GLA', 'roll no': 33}\n",
    "out = dct.items()\n",
    "print(type(out))\n"
   ]
  },
  {
   "cell_type": "code",
   "execution_count": 44,
   "metadata": {},
   "outputs": [
    {
     "name": "stdout",
     "output_type": "stream",
     "text": [
      "{'name': 'rajat', 'address': 'GLA', 'roll no': 33, 'mob no': '9793792749'}\n"
     ]
    }
   ],
   "source": [
    "# update(): \n",
    "dct1 = {'name': 'amit', 'address':'GLA', 'roll no': 33}\n",
    "dct2 = {'name': 'rajat', 'mob no': '9793792749'}\n",
    "dct1.update(dct2)\n",
    "print(dct1)"
   ]
  },
  {
   "cell_type": "code",
   "execution_count": 12,
   "metadata": {},
   "outputs": [
    {
     "name": "stdout",
     "output_type": "stream",
     "text": [
      "{}\n",
      "{} <class 'dict'>\n"
     ]
    }
   ],
   "source": [
    "# initialize a dict\n",
    "dt = {}\n",
    "print(dt)\n",
    "\n",
    "dt = dict()\n",
    "print(dt, type(dt))"
   ]
  },
  {
   "cell_type": "code",
   "execution_count": 13,
   "metadata": {},
   "outputs": [
    {
     "name": "stdout",
     "output_type": "stream",
     "text": [
      "{'car': ['nano', 'alto']} <class 'dict'>\n"
     ]
    }
   ],
   "source": [
    "# dictionary with single element\n",
    "dt = {'car': ['nano', 'alto']}\n",
    "print(dt, type(dt))"
   ]
  },
  {
   "cell_type": "code",
   "execution_count": 16,
   "metadata": {},
   "outputs": [
    {
     "name": "stdout",
     "output_type": "stream",
     "text": [
      "{'name': 'divyanshu', 'rollno': 33, 'cpi': 8.1, 'address': 'GLA University', 'father': 'Rakesh'}\n",
      "divyanshu\n"
     ]
    }
   ],
   "source": [
    "# unique keys in dict\n",
    "info = {'name':'Aman', 'rollno':33, 'cpi':8.1, 'father':'Rakesh', 'name':'divyanshu'}\n",
    "print(info)\n",
    "print(info['name'])"
   ]
  },
  {
   "cell_type": "code",
   "execution_count": 24,
   "metadata": {},
   "outputs": [
    {
     "name": "stdout",
     "output_type": "stream",
     "text": [
      "{'name': 'Rajeev', 'rollno': 33, 'cpi': 8.1, 'address': 'GLA University', 'father': 'Rakesh', 'mob': '9848734758'}\n"
     ]
    }
   ],
   "source": [
    "# dict is mutable \n",
    "# item assignment or item update\n",
    "\n",
    "info = {'name':'Aman', 'rollno':33, 'cpi':8.1, 'address':'GLA University', 'father':'Rakesh'}\n",
    "info['name'] = 'Rajeev'\n",
    "info['mob'] = '9848734758'\n",
    "print(info)\n",
    "\n",
    "\n"
   ]
  },
  {
   "cell_type": "code",
   "execution_count": 25,
   "metadata": {},
   "outputs": [
    {
     "name": "stdout",
     "output_type": "stream",
     "text": [
      "{'rollno': 33, 'cpi': 8.1, 'address': 'GLA University', 'father': 'Rakesh'}\n"
     ]
    }
   ],
   "source": [
    "# item deletion\n",
    "info = {'name':'Aman', 'rollno':33, 'cpi':8.1, 'address':'GLA University', 'father':'Rakesh'}\n",
    "del info['name']\n",
    "print(info)\n"
   ]
  },
  {
   "cell_type": "code",
   "execution_count": 28,
   "metadata": {},
   "outputs": [
    {
     "name": "stdout",
     "output_type": "stream",
     "text": [
      "{'rolln': [32, 44], 'name': 'Rahul', 'cpi': 8.4, 'h': 'i'}\n"
     ]
    }
   ],
   "source": [
    "# dictionary reprsantaion\n",
    "dct = [('rolln', [32, 44]), ('name', 'Rahul'), ('cpi', 8.40), 'hi']\n",
    "dct = dict(dct)\n",
    "print(dct)"
   ]
  },
  {
   "cell_type": "code",
   "execution_count": 30,
   "metadata": {},
   "outputs": [
    {
     "name": "stdout",
     "output_type": "stream",
     "text": [
      "[('rolln', [32, 44]), ('name', 'Rahul'), ('cpi', 8.4), ('h', 'i')]\n"
     ]
    }
   ],
   "source": [
    "# dictionary methods \n",
    "dct = {'rolln': [32, 44], 'name': 'Rahul', 'cpi': 8.4, 'h': 'i'}\n",
    "\n",
    "out = list(dct.items())\n",
    "\n",
    "print(out)"
   ]
  },
  {
   "cell_type": "code",
   "execution_count": 2,
   "metadata": {},
   "outputs": [
    {
     "name": "stdout",
     "output_type": "stream",
     "text": [
      "{} <class 'dict'>\n"
     ]
    }
   ],
   "source": [
    "# how to initialize empty dictionary \n",
    "# dct = {}  # dictionary format\n",
    "dct = dict()  # buit-in function dict\n",
    "print(dct, type(dct))\n",
    "\n"
   ]
  },
  {
   "cell_type": "code",
   "execution_count": 4,
   "metadata": {},
   "outputs": [
    {
     "name": "stdout",
     "output_type": "stream",
     "text": [
      "amit\n",
      "{'name': 'Rakesh', 'address': 'GLA', 'roll no': 33}\n"
     ]
    }
   ],
   "source": [
    "# for the mutability \n",
    "dct = {'name': 'amit', 'address':'GLA', 'roll no': 33}\n",
    "# item update \n",
    "print(dct['name'])\n",
    "dct['name'] = 'Rakesh'\n",
    "print(dct)\n"
   ]
  },
  {
   "cell_type": "code",
   "execution_count": 5,
   "metadata": {},
   "outputs": [
    {
     "name": "stdout",
     "output_type": "stream",
     "text": [
      "{'name': 'amit', 'address': 'GLA'}\n"
     ]
    }
   ],
   "source": [
    "# for the mutability \n",
    "# item deletion \n",
    "dct = {'name': 'amit', 'address':'GLA', 'roll no': 33}\n",
    "del dct['roll no']\n",
    "print(dct)"
   ]
  },
  {
   "cell_type": "code",
   "execution_count": 10,
   "metadata": {},
   "outputs": [
    {
     "name": "stdout",
     "output_type": "stream",
     "text": [
      "{'name': 'amit', 'address': 'GLA', 'roll no': 33, 'cpi': 8.88}\n"
     ]
    }
   ],
   "source": [
    "dct = {'name': 'amit', 'address':'GLA', 'roll no': 33}\n",
    "dct['cpi'] = 8.88  # update new entry \n",
    "print(dct)\n"
   ]
  },
  {
   "cell_type": "code",
   "execution_count": 11,
   "metadata": {},
   "outputs": [
    {
     "name": "stdout",
     "output_type": "stream",
     "text": [
      "{'name': 'rajive', 'address': 'GLA', 'roll no': 33}\n"
     ]
    }
   ],
   "source": [
    "# keys are unique \n",
    "dct = {'name': 'amit', 'address':'GLA', 'roll no': 33, 'name':'rajive'}\n",
    "print(dct)\n"
   ]
  },
  {
   "cell_type": "code",
   "execution_count": 18,
   "metadata": {},
   "outputs": [
    {
     "name": "stdout",
     "output_type": "stream",
     "text": [
      "200\n"
     ]
    }
   ],
   "source": [
    "# keys are immutable in nature \n",
    "dct = {'name': ['amit', 'amar'], 'address':'GLA', 'roll no': 33, 33:100, (3, 6):200}\n",
    "print(dct[3, 6])\n"
   ]
  },
  {
   "cell_type": "code",
   "execution_count": 21,
   "metadata": {},
   "outputs": [
    {
     "name": "stdout",
     "output_type": "stream",
     "text": [
      "{}\n"
     ]
    }
   ],
   "source": [
    "# methods in dictionary object\n",
    "# clear(): remove all the item \n",
    "dct = {'name': 'amit', 'address':'GLA', 'roll no': 33}\n",
    "dct.clear()\n",
    "print(dct)"
   ]
  },
  {
   "cell_type": "code",
   "execution_count": 26,
   "metadata": {},
   "outputs": [
    {
     "name": "stdout",
     "output_type": "stream",
     "text": [
      "{'name': 'amit', 'address': 'GLA', 'roll no': 33}\n",
      "{}\n"
     ]
    }
   ],
   "source": [
    "# copy(): return the shallow copy of dict object like in list\n",
    "dct = {'name': 'amit', 'address':'GLA', 'roll no': 33}\n",
    "dct2 = dct.copy()\n",
    "dct2.clear()\n",
    "print(dct)\n",
    "print(dct2)"
   ]
  },
  {
   "cell_type": "code",
   "execution_count": 31,
   "metadata": {},
   "outputs": [
    {
     "name": "stdout",
     "output_type": "stream",
     "text": [
      "{'name': None, 'mob no': None, 'father': None, 'address': None}\n"
     ]
    }
   ],
   "source": [
    "# fromkeys(): construct a dict with key in list\n",
    "lst = ['name', 'mob no', 'father', 'address']\n",
    "out = dict.fromkeys(lst)\n",
    "print(out) "
   ]
  }
 ],
 "metadata": {
  "interpreter": {
   "hash": "ac63e7d2902d829a95718f514f583b39cb52f10e7c5524becb094a341f2ea3ca"
  },
  "kernelspec": {
   "display_name": "Python 3.10.0 64-bit (windows store)",
   "language": "python",
   "name": "python3"
  },
  "language_info": {
   "codemirror_mode": {
    "name": "ipython",
    "version": 3
   },
   "file_extension": ".py",
   "mimetype": "text/x-python",
   "name": "python",
   "nbconvert_exporter": "python",
   "pygments_lexer": "ipython3",
   "version": "3.10.0"
  },
  "orig_nbformat": 4
 },
 "nbformat": 4,
 "nbformat_minor": 2
}
