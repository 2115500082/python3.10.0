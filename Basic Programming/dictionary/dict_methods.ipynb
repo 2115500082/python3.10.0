{
 "cells": [
  {
   "cell_type": "code",
   "execution_count": 1,
   "metadata": {},
   "outputs": [
    {
     "name": "stdout",
     "output_type": "stream",
     "text": [
      "{}\n"
     ]
    }
   ],
   "source": [
    "# clear():\n",
    "dct = {'rolln': [32, 44], 'name': 'Rahul', 'cpi': 8.4, 'h': 'i'}\n",
    "dct.clear()\n",
    "print(dct)\n"
   ]
  },
  {
   "cell_type": "code",
   "execution_count": 3,
   "metadata": {},
   "outputs": [
    {
     "name": "stdout",
     "output_type": "stream",
     "text": [
      "{'rolln': [32, 44], 'name': 'Rahul', 'cpi': 8.4, 'h': 'i'}\n"
     ]
    }
   ],
   "source": [
    "# copy():\n",
    "dct = {'rolln': [32, 44], 'name': 'Rahul', 'cpi': 8.4, 'h': 'i'}\n",
    "dct2 = dct.copy()\n",
    "dct.clear()\n",
    "print(dct2)"
   ]
  },
  {
   "cell_type": "code",
   "execution_count": 7,
   "metadata": {},
   "outputs": [
    {
     "name": "stdout",
     "output_type": "stream",
     "text": [
      "{'name': None, 'rolln': None, 'cpi': None, 'mob no': None}\n"
     ]
    }
   ],
   "source": [
    "# fromkeys():\n",
    "lst = ['name', 'rolln', 'cpi', 'mob no']\n",
    "out = {}.fromkeys(lst)\n",
    "print(out)"
   ]
  },
  {
   "cell_type": "code",
   "execution_count": 17,
   "metadata": {},
   "outputs": [
    {
     "name": "stdout",
     "output_type": "stream",
     "text": [
      "4\n"
     ]
    }
   ],
   "source": [
    "# get():\n",
    "dct = {'rolln': [32, 44], 'name': 'Rahul', 'cpi': 8.4, ('h','4'): 'i'}\n",
    "out = dct.get('h','4')\n",
    "print(out)"
   ]
  },
  {
   "cell_type": "code",
   "execution_count": 20,
   "metadata": {},
   "outputs": [
    {
     "name": "stdout",
     "output_type": "stream",
     "text": [
      "['rolln', 'name', 'cpi', 'h'] <class 'list'>\n"
     ]
    }
   ],
   "source": [
    "# keys():\n",
    "dct = {'rolln': [32, 44], 'name': 'Rahul', 'cpi': 8.4, 'h': 'i'}\n",
    "out = list(dct.keys())\n",
    "print(out, type(out))\n"
   ]
  },
  {
   "cell_type": "code",
   "execution_count": 21,
   "metadata": {},
   "outputs": [
    {
     "name": "stdout",
     "output_type": "stream",
     "text": [
      "dict_values([[32, 44], 'Rahul', 8.4, 'i'])\n"
     ]
    }
   ],
   "source": [
    "# values()\n",
    "dct = {'rolln': [32, 44], 'name': 'Rahul', 'cpi': 8.4, 'h': 'i'}\n",
    "out = dct.values()\n",
    "print(out)"
   ]
  },
  {
   "cell_type": "code",
   "execution_count": 25,
   "metadata": {},
   "outputs": [
    {
     "name": "stdout",
     "output_type": "stream",
     "text": [
      "{'rolln': [32, 44], 'name': 'Rahul', 'cpi': 8.4, 'h': 'i'}\n"
     ]
    },
    {
     "ename": "KeyError",
     "evalue": "'popitem(): dictionary is empty'",
     "output_type": "error",
     "traceback": [
      "\u001b[1;31m---------------------------------------------------------------------------\u001b[0m",
      "\u001b[1;31mKeyError\u001b[0m                                  Traceback (most recent call last)",
      "\u001b[1;32m~\\AppData\\Local\\Temp/ipykernel_2940/1426809450.py\u001b[0m in \u001b[0;36m<module>\u001b[1;34m\u001b[0m\n\u001b[0;32m      6\u001b[0m \u001b[0mdct\u001b[0m\u001b[1;33m.\u001b[0m\u001b[0mpopitem\u001b[0m\u001b[1;33m(\u001b[0m\u001b[1;33m)\u001b[0m\u001b[1;33m\u001b[0m\u001b[1;33m\u001b[0m\u001b[0m\n\u001b[0;32m      7\u001b[0m \u001b[0mdct\u001b[0m\u001b[1;33m.\u001b[0m\u001b[0mpopitem\u001b[0m\u001b[1;33m(\u001b[0m\u001b[1;33m)\u001b[0m\u001b[1;33m\u001b[0m\u001b[1;33m\u001b[0m\u001b[0m\n\u001b[1;32m----> 8\u001b[1;33m \u001b[0mdct\u001b[0m\u001b[1;33m.\u001b[0m\u001b[0mpopitem\u001b[0m\u001b[1;33m(\u001b[0m\u001b[1;33m)\u001b[0m\u001b[1;33m\u001b[0m\u001b[1;33m\u001b[0m\u001b[0m\n\u001b[0m\u001b[0;32m      9\u001b[0m \u001b[0mprint\u001b[0m\u001b[1;33m(\u001b[0m\u001b[1;34m'removed item'\u001b[0m\u001b[1;33m,\u001b[0m \u001b[0mout\u001b[0m\u001b[1;33m)\u001b[0m\u001b[1;33m\u001b[0m\u001b[1;33m\u001b[0m\u001b[0m\n\u001b[0;32m     10\u001b[0m \u001b[0mprint\u001b[0m\u001b[1;33m(\u001b[0m\u001b[0mdct\u001b[0m\u001b[1;33m)\u001b[0m\u001b[1;33m\u001b[0m\u001b[1;33m\u001b[0m\u001b[0m\n",
      "\u001b[1;31mKeyError\u001b[0m: 'popitem(): dictionary is empty'"
     ]
    }
   ],
   "source": [
    "# popitem()\n",
    "dct = {'rolln': [32, 44], 'name': 'Rahul', 'cpi': 8.4, 'h': 'i'}\n",
    "print(dct)\n",
    "out = dct.popitem()\n",
    "# dct.popitem()\n",
    "# dct.popitem()\n",
    "# dct.popitem()\n",
    "# dct.popitem()\n",
    "print('removed item', out)\n",
    "print(dct)"
   ]
  },
  {
   "cell_type": "code",
   "execution_count": 27,
   "metadata": {},
   "outputs": [
    {
     "name": "stdout",
     "output_type": "stream",
     "text": [
      "Rahul\n",
      "{'rolln': [32, 44], 'cpi': 8.4, 'h': 'i'}\n"
     ]
    }
   ],
   "source": [
    "# pop():\n",
    "dct = {'rolln': [32, 44], 'name': 'Rahul', 'cpi': 8.4, 'h': 'i'}\n",
    "out = dct.pop('name')\n",
    "print(out)\n",
    "print(dct)\n"
   ]
  },
  {
   "cell_type": "code",
   "execution_count": 28,
   "metadata": {},
   "outputs": [
    {
     "name": "stdout",
     "output_type": "stream",
     "text": [
      "{'rolln': [32, 44], 'name': 'abhishek', 'cpi': 8.4, 'h': 'i', 'address': 'gla'}\n"
     ]
    }
   ],
   "source": [
    "# update()\n",
    "dct1 = {'rolln': [32, 44], 'name': 'Rahul', 'cpi': 8.4, 'h': 'i'}\n",
    "dct2 = {'name': 'abhishek', 'address': 'gla'}\n",
    "dct1.update(dct2)\n",
    "print(dct1)"
   ]
  },
  {
   "cell_type": "code",
   "execution_count": 30,
   "metadata": {},
   "outputs": [
    {
     "name": "stdout",
     "output_type": "stream",
     "text": [
      "{'rolln': [32, 44], 'name': 'Rahul', 'cpi': 8.4, 'h': 'i', 'Name': 'name btao'}\n"
     ]
    }
   ],
   "source": [
    "# setdefault()\n",
    "dct = {'rolln': [32, 44], 'name': 'Rahul', 'cpi': 8.4, 'h': 'i'}\n",
    "dct.setdefault('name', 'add name')\n",
    "print(dct)"
   ]
  },
  {
   "cell_type": "code",
   "execution_count": 18,
   "metadata": {},
   "outputs": [
    {
     "name": "stdout",
     "output_type": "stream",
     "text": [
      "[('rolln', [32, 44]), ('name', 'Rahul'), ('cpi', 8.4), ('h', 'i')]\n"
     ]
    }
   ],
   "source": [
    "# items()\n",
    "dct = {'rolln': [32, 44], 'name': 'Rahul', 'cpi': 8.4, 'h': 'i'}\n",
    "itm = list(dct.items())\n",
    "print(itm)\n",
    "\n",
    "raw_data = [('rolln', [32, 44]), ('name', 'Rahul'), ('cpi', 8.4), 'hi']\n"
   ]
  }
 ],
 "metadata": {
  "interpreter": {
   "hash": "ac63e7d2902d829a95718f514f583b39cb52f10e7c5524becb094a341f2ea3ca"
  },
  "kernelspec": {
   "display_name": "Python 3.10.0 64-bit (windows store)",
   "language": "python",
   "name": "python3"
  },
  "language_info": {
   "codemirror_mode": {
    "name": "ipython",
    "version": 3
   },
   "file_extension": ".py",
   "mimetype": "text/x-python",
   "name": "python",
   "nbconvert_exporter": "python",
   "pygments_lexer": "ipython3",
   "version": "3.10.0"
  },
  "orig_nbformat": 4
 },
 "nbformat": 4,
 "nbformat_minor": 2
}
