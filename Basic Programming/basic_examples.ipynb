{
 "cells": [
  {
   "cell_type": "code",
   "execution_count": 9,
   "metadata": {},
   "outputs": [
    {
     "name": "stdout",
     "output_type": "stream",
     "text": [
      "Sum of {num1} and {num2} is {out}\n"
     ]
    }
   ],
   "source": [
    "# standard input and output\n",
    "\n",
    "# sum of two number \n",
    "# input section \n",
    "num1 = int(input('Enter the first number '))\n",
    "num2 = int(input('Enter the second number '))\n",
    "\n",
    "# logic section\n",
    "out = num1 + num2 \n",
    "\n",
    "#output section\n",
    "print(f'Sum of {num1} and {num2} is {out}')"
   ]
  },
  {
   "cell_type": "code",
   "execution_count": 12,
   "metadata": {},
   "outputs": [
    {
     "name": "stdout",
     "output_type": "stream",
     "text": [
      "Area of circle is 31400.0\n"
     ]
    }
   ],
   "source": [
    "# area of circle \n",
    "# input section \n",
    "r = float(input('Enter the radius '))\n",
    "\n",
    "# logic section\n",
    "out = 3.14 * r ** 2\n",
    "\n",
    "# output section\n",
    "x = f\"Area of circle is {out}\" \n",
    "print(x)"
   ]
  },
  {
   "cell_type": "code",
   "execution_count": 13,
   "metadata": {},
   "outputs": [
    {
     "name": "stdout",
     "output_type": "stream",
     "text": [
      "Area is 20\n",
      "Perimeter is 24\n"
     ]
    }
   ],
   "source": [
    "# perimeter and area of rectangle \n",
    "l = int(input('Enter the length '))\n",
    "b = int(input('Enter the breadth '))\n",
    "\n",
    "area = l * b\n",
    "peri = 2 * (l + b)\n",
    "\n",
    "print(f\"Area is {area}\\nPerimeter is {peri}\")\n",
    "\n"
   ]
  }
 ],
 "metadata": {
  "interpreter": {
   "hash": "ac63e7d2902d829a95718f514f583b39cb52f10e7c5524becb094a341f2ea3ca"
  },
  "kernelspec": {
   "display_name": "Python 3.10.0 64-bit (windows store)",
   "name": "python3"
  },
  "language_info": {
   "codemirror_mode": {
    "name": "ipython",
    "version": 3
   },
   "file_extension": ".py",
   "mimetype": "text/x-python",
   "name": "python",
   "nbconvert_exporter": "python",
   "pygments_lexer": "ipython3",
   "version": "3.10.0"
  },
  "orig_nbformat": 4
 },
 "nbformat": 4,
 "nbformat_minor": 2
}
