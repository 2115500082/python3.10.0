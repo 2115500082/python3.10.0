{
 "cells": [
  {
   "cell_type": "code",
   "execution_count": null,
   "metadata": {},
   "outputs": [],
   "source": [
    "# map(): Processing Iterables Without a Loop\n",
    "\"\"\"map(): Python’s map() is a built-in function that allows you to process and transform all the items \n",
    "in an iterable without using an explicit for loop, a technique commonly known as mapping. \n",
    "map() is useful when you need to apply a transformation function to each item in an iterable and transform \n",
    "them into a new iterable.\"\"\" \n"
   ]
  },
  {
   "cell_type": "code",
   "execution_count": null,
   "metadata": {},
   "outputs": [],
   "source": [
    "# WAP to find the greatest number in a list. list is entered by the user.\n",
    "# user data:- space separated \n",
    "k = list(map(int, input().split()))\n",
    "out = max(k)\n",
    "print(out)"
   ]
  },
  {
   "cell_type": "code",
   "execution_count": 16,
   "metadata": {},
   "outputs": [
    {
     "name": "stdout",
     "output_type": "stream",
     "text": [
      "['12', '67', '89', '34', '3']\n"
     ]
    }
   ],
   "source": [
    "st = '12 67 89 34 3'\n",
    "out = st.split()\n",
    "\n",
    "new_lst = map(int, out)\n",
    "\n",
    "print(out)\n"
   ]
  },
  {
   "cell_type": "code",
   "execution_count": 12,
   "metadata": {},
   "outputs": [
    {
     "name": "stdout",
     "output_type": "stream",
     "text": [
      "[3, 5, -4.5, 3, -43, -21]\n",
      "[3, 5, 4.5, 3, 43, 21]\n"
     ]
    }
   ],
   "source": [
    "lst = [3, 5, -4.5, 3, -43, -21]\n",
    "new_lst = list(map(abs, lst))\n",
    "print(lst)\n",
    "print(new_lst)    \n",
    "\n"
   ]
  },
  {
   "cell_type": "code",
   "execution_count": 19,
   "metadata": {},
   "outputs": [
    {
     "name": "stdout",
     "output_type": "stream",
     "text": [
      "Sum of the numbers in a list 82\n"
     ]
    }
   ],
   "source": [
    "# sum(): sum up the numbers in a list\n",
    "\"\"\"\n",
    "syntax:- \n",
    "sum(iterable, start)  \n",
    "iterable : iterable can be anything list , tuples or dictionaries ,\n",
    " but most importantly it should be numbers.\n",
    "start : this start is added to the sum of \n",
    "numbers in the iterable. \n",
    "If start is not given in the syntax , it is assumed to be 0.\"\"\"\n",
    "\n",
    "lst = [3, 5, 67, 7]\n",
    "out = sum(lst)\n",
    "print(\"Sum of the numbers in a list\", out)"
   ]
  },
  {
   "cell_type": "code",
   "execution_count": 21,
   "metadata": {},
   "outputs": [
    {
     "name": "stdout",
     "output_type": "stream",
     "text": [
      "item with smallest value 1\n",
      "item with greatest value 53\n"
     ]
    }
   ],
   "source": [
    "# max()/min(): return the item with greatest/smallest value\n",
    "\n",
    "lst = [2, 4, 53, 5, 1]\n",
    "\n",
    "out1 = min(lst)\n",
    "out2 = max(lst)\n",
    "print('item with smallest value', out1)\n",
    "print('item with greatest value', out2)"
   ]
  }
 ],
 "metadata": {
  "interpreter": {
   "hash": "ac63e7d2902d829a95718f514f583b39cb52f10e7c5524becb094a341f2ea3ca"
  },
  "kernelspec": {
   "display_name": "Python 3.10.0 64-bit (windows store)",
   "language": "python",
   "name": "python3"
  },
  "language_info": {
   "codemirror_mode": {
    "name": "ipython",
    "version": 3
   },
   "file_extension": ".py",
   "mimetype": "text/x-python",
   "name": "python",
   "nbconvert_exporter": "python",
   "pygments_lexer": "ipython3",
   "version": "3.10.0"
  },
  "orig_nbformat": 4
 },
 "nbformat": 4,
 "nbformat_minor": 2
}
