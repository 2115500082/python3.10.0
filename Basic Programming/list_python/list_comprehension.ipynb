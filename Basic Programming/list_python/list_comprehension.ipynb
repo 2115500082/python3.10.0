{
 "cells": [
  {
   "cell_type": "code",
   "execution_count": 6,
   "metadata": {},
   "outputs": [
    {
     "name": "stdout",
     "output_type": "stream",
     "text": [
      "[3, 5, 7]\n"
     ]
    }
   ],
   "source": [
    "# list comprehension: the consize way to create a list\n",
    "\"\"\"\n",
    "syntax:\n",
    "[expression for i in seq if condition]\n",
    "\n",
    "\"\"\"\n",
    "\n",
    "k = [3, 5, 7, 23, 22]\n",
    "\n",
    "out = [i for i in k if i < 10]\n",
    "print(out)\n",
    "\n"
   ]
  },
  {
   "cell_type": "code",
   "execution_count": 14,
   "metadata": {},
   "outputs": [
    {
     "name": "stdout",
     "output_type": "stream",
     "text": [
      "[3, 'hello', 'hello', 'hello', 90]\n"
     ]
    }
   ],
   "source": [
    "lst = [3, 4, 75, 23, 90]\n",
    "lst[1:4] = ['hello']*3\n",
    "print(lst)"
   ]
  },
  {
   "cell_type": "code",
   "execution_count": 6,
   "metadata": {},
   "outputs": [
    {
     "name": "stdout",
     "output_type": "stream",
     "text": [
      "[2, 4, 6, 67, 35]\n",
      "[2, 4, 6]\n"
     ]
    }
   ],
   "source": [
    "\"list comprehension: consize way to create the list\"\n",
    "\n",
    "lst = [2, 4, 6, 67, 35]\n",
    "new_list = [i for i in lst if i % 2 == 0]\n",
    "print(lst)\n",
    "print(new_list)    \n",
    "\n"
   ]
  },
  {
   "cell_type": "code",
   "execution_count": 7,
   "metadata": {},
   "outputs": [
    {
     "name": "stdout",
     "output_type": "stream",
     "text": [
      "[2, 4, 5, 3, 1]\n"
     ]
    }
   ],
   "source": [
    "# remove zeros from number list\n",
    "# \n",
    "lst = [20, 4, 503, 0, 3, 112, 8080]\n",
    "lst_new = [i for i in lst if i]\n",
    "print(lst_new)\n"
   ]
  },
  {
   "cell_type": "code",
   "execution_count": null,
   "metadata": {},
   "outputs": [],
   "source": [
    "# remove zero composed numbers from number list\n",
    "lst = [20, 4, 503, 0, 3, 112, 8080]\n",
    "lst_new = [i for  i in lst if  '0' not in str(i)] \n",
    "print(lst_new)"
   ]
  },
  {
   "cell_type": "code",
   "execution_count": 18,
   "metadata": {},
   "outputs": [
    {
     "data": {
      "text/plain": [
       "str"
      ]
     },
     "execution_count": 18,
     "metadata": {},
     "output_type": "execute_result"
    }
   ],
   "source": [
    "\n",
    "st = 'hello'\n",
    "type(st)\n"
   ]
  }
 ],
 "metadata": {
  "interpreter": {
   "hash": "ac63e7d2902d829a95718f514f583b39cb52f10e7c5524becb094a341f2ea3ca"
  },
  "kernelspec": {
   "display_name": "Python 3.10.0 64-bit (windows store)",
   "language": "python",
   "name": "python3"
  },
  "language_info": {
   "codemirror_mode": {
    "name": "ipython",
    "version": 3
   },
   "file_extension": ".py",
   "mimetype": "text/x-python",
   "name": "python",
   "nbconvert_exporter": "python",
   "pygments_lexer": "ipython3",
   "version": "3.10.0"
  },
  "orig_nbformat": 4
 },
 "nbformat": 4,
 "nbformat_minor": 2
}
