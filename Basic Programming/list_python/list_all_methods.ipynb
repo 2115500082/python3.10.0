{
 "cells": [
  {
   "cell_type": "code",
   "execution_count": 3,
   "metadata": {},
   "outputs": [
    {
     "name": "stdout",
     "output_type": "stream",
     "text": [
      "[2, 4, 98, 100, 100, 'hello']\n"
     ]
    }
   ],
   "source": [
    "\"methods in a list\"\n",
    "\n",
    "#append\n",
    "\n",
    "lst = [2, 4, 98]\n",
    "lst.append(100)\n",
    "lst.append(100)\n",
    "lst.append('hello')\n",
    "print(lst)\n"
   ]
  },
  {
   "cell_type": "code",
   "execution_count": 11,
   "metadata": {},
   "outputs": [
    {
     "name": "stdout",
     "output_type": "stream",
     "text": [
      "[2, 4, 98, 'h', 'e', 'l', 'l', 'o']\n"
     ]
    }
   ],
   "source": [
    "# extend() : add element of the sequence \n",
    "\n",
    "lst = [2, 4, 98]\n",
    "lst.extend('hello')\n",
    "print(lst)"
   ]
  },
  {
   "cell_type": "code",
   "execution_count": 14,
   "metadata": {},
   "outputs": [
    {
     "name": "stdout",
     "output_type": "stream",
     "text": [
      "[2, 5, 100, 767, 102]\n"
     ]
    }
   ],
   "source": [
    "# insert: insert the element at location \n",
    "lst = [2, 5, 767]\n",
    "lst.insert(2, 100)\n",
    "lst.insert(20, 102)\n",
    "print(lst)"
   ]
  },
  {
   "cell_type": "code",
   "execution_count": 15,
   "metadata": {},
   "outputs": [
    {
     "name": "stdout",
     "output_type": "stream",
     "text": [
      "[]\n"
     ]
    }
   ],
   "source": [
    "# clear(): remove all the elements from list\n",
    "lst = [2, 4, 6, 'hello']\n",
    "lst.clear()\n",
    "print(lst)"
   ]
  },
  {
   "cell_type": "code",
   "execution_count": 19,
   "metadata": {},
   "outputs": [
    {
     "name": "stdout",
     "output_type": "stream",
     "text": [
      "[2, 4, 7, 'hello'] removed  6\n"
     ]
    }
   ],
   "source": [
    "# pop(): remove the element at position\n",
    "\n",
    "lst = [2, 4, 6, 7, 'hello']\n",
    "ele = lst.pop(2)\n",
    "print(lst, 'removed ', ele)"
   ]
  },
  {
   "cell_type": "code",
   "execution_count": 20,
   "metadata": {},
   "outputs": [
    {
     "name": "stdout",
     "output_type": "stream",
     "text": [
      "['amit', 'ravi']\n"
     ]
    }
   ],
   "source": [
    "# remove: remove the elements with value\n",
    "\n",
    "lst = ['divyansh', 'amit', 'ravi']\n",
    "lst.remove('divyansh')\n",
    "print(lst)\n"
   ]
  },
  {
   "cell_type": "code",
   "execution_count": 4,
   "metadata": {},
   "outputs": [
    {
     "name": "stdout",
     "output_type": "stream",
     "text": [
      "['hello', 33, 'python', 'programming', 100, (2+4j)]\n"
     ]
    }
   ],
   "source": [
    "# append(): adds an element at the end of the list\n",
    "lst = ['hello', 33, 'python']\n",
    "lst.append('programming')\n",
    "lst.append(100)\n",
    "lst.append(2+4j)\n",
    "print(lst)"
   ]
  },
  {
   "cell_type": "code",
   "execution_count": 16,
   "metadata": {},
   "outputs": [
    {
     "name": "stdout",
     "output_type": "stream",
     "text": [
      "[2, 5, 7, 3, 5, 7]\n"
     ]
    }
   ],
   "source": [
    "# extend(): add the elements from sequential object into a current list\n",
    "\n",
    "lst = [2, 5, 7]\n",
    "\n",
    "lst.extend([3, 5, 7])\n",
    "\n",
    "print(lst)"
   ]
  },
  {
   "cell_type": "code",
   "execution_count": 22,
   "metadata": {},
   "outputs": [
    {
     "name": "stdout",
     "output_type": "stream",
     "text": [
      "before insert value at index 2 100\n",
      "after insert value at index 2 99\n"
     ]
    }
   ],
   "source": [
    "# insert(): add the element at desired index\n",
    "lst = [2, 5, 100]\n",
    "out = lst[2]  \n",
    "print('before insert value at index 2', out)\n",
    "lst.insert(2, 99)\n",
    "out = lst[2]  \n",
    "print('after insert value at index 2', out)"
   ]
  },
  {
   "cell_type": "code",
   "execution_count": 28,
   "metadata": {},
   "outputs": [
    {
     "name": "stdout",
     "output_type": "stream",
     "text": [
      "[2, 4, 6, []]\n"
     ]
    }
   ],
   "source": [
    "# clear(): remove all the elements in a list\n",
    "lst = [2, 4, 6, [1, 4, 5]]\n",
    "lst[-1].clear()\n",
    "print(lst)\n"
   ]
  },
  {
   "cell_type": "code",
   "execution_count": 36,
   "metadata": {},
   "outputs": [
    {
     "name": "stdout",
     "output_type": "stream",
     "text": [
      "[2, 'ravi', 7] removed 100\n"
     ]
    }
   ],
   "source": [
    "# pop(): remove and return the value at the given index \n",
    "lst = [2, 'ravi', 7, 100]\n",
    "out = lst.pop(3)  # len 4\n",
    "print(lst, 'removed', out)  "
   ]
  },
  {
   "cell_type": "code",
   "execution_count": 1,
   "metadata": {},
   "outputs": [
    {
     "name": "stdout",
     "output_type": "stream",
     "text": [
      "[0, 2, 0, 0, 3, 1]\n"
     ]
    }
   ],
   "source": [
    "# remove(): remove the element by its value\n",
    "lst = [0, 1, 2, 0, 0, 3, 1]\n",
    "lst.remove(1)\n",
    "print(lst)"
   ]
  },
  {
   "cell_type": "code",
   "execution_count": 7,
   "metadata": {},
   "outputs": [
    {
     "name": "stdout",
     "output_type": "stream",
     "text": [
      "3\n"
     ]
    }
   ],
   "source": [
    "\n",
    "# index(): return the index of the element\n",
    "st = [1, 3, 5, 65]\n",
    "out = st.index(65)\n",
    "print(out)"
   ]
  },
  {
   "cell_type": "code",
   "execution_count": 10,
   "metadata": {},
   "outputs": [
    {
     "name": "stdout",
     "output_type": "stream",
     "text": [
      "0\n"
     ]
    }
   ],
   "source": [
    "# count(): frequency of the object in list\n",
    "ls = [2, 4, 6, 8, 2]\n",
    "out = ls.count(10)\n",
    "print(out)\n",
    "\n"
   ]
  },
  {
   "cell_type": "code",
   "execution_count": 17,
   "metadata": {},
   "outputs": [
    {
     "name": "stdout",
     "output_type": "stream",
     "text": [
      "id 2737479764160\n",
      "id 2737479882880\n"
     ]
    }
   ],
   "source": [
    "# copy(): return the copy of list\n",
    "a = [2, 4, 6, 7]\n",
    "b = a.copy()\n",
    "print('id', id(a))\n",
    "print('id', id(b))\n"
   ]
  },
  {
   "cell_type": "code",
   "execution_count": 20,
   "metadata": {},
   "outputs": [
    {
     "name": "stdout",
     "output_type": "stream",
     "text": [
      "[[10, 4, 64]]\n"
     ]
    }
   ],
   "source": [
    "a = [10, 4, 64]\n",
    "b = []\n",
    "\n",
    "b.append(a)\n",
    "a.clear()\n",
    "print(b)"
   ]
  },
  {
   "cell_type": "code",
   "execution_count": 16,
   "metadata": {},
   "outputs": [
    {
     "name": "stdout",
     "output_type": "stream",
     "text": [
      "2737494470976 []\n",
      "2737494470976 [100, 'h', 'i']\n"
     ]
    }
   ],
   "source": [
    "a = []\n",
    "print(id(a), a)\n",
    "a.append(100)\n",
    "a.extend('hi')\n",
    "print(id(a), a)"
   ]
  },
  {
   "cell_type": "code",
   "execution_count": 4,
   "metadata": {},
   "outputs": [
    {
     "name": "stdout",
     "output_type": "stream",
     "text": [
      "2\n"
     ]
    }
   ],
   "source": [
    "st = 'python'\n",
    "out = st.index('thon')\n",
    "print(out)"
   ]
  },
  {
   "cell_type": "code",
   "execution_count": 29,
   "metadata": {},
   "outputs": [
    {
     "name": "stdout",
     "output_type": "stream",
     "text": [
      "['212', 'mohan', 'mukund', 'neelesh', 'raj kumar']\n"
     ]
    }
   ],
   "source": [
    "# sort()\n",
    "# lst = [3, 5, 7, 100, 0, 9]\n",
    "lst = ['neelesh', '@mukund', 'mohan', 'raj kumar']\n",
    "lst.sort()\n",
    "print(lst)\n",
    "\n"
   ]
  },
  {
   "cell_type": "code",
   "execution_count": 31,
   "metadata": {},
   "outputs": [
    {
     "name": "stdout",
     "output_type": "stream",
     "text": [
      "[(3+4j), 'hi', 43, 'hello']\n"
     ]
    }
   ],
   "source": [
    "# reverse(): reverse the elements index\n",
    "lst = ['hello', 43, 'hi', 3+4j]\n",
    "lst.reverse()\n",
    "print(lst)\n"
   ]
  },
  {
   "cell_type": "code",
   "execution_count": null,
   "metadata": {},
   "outputs": [],
   "source": [
    "# len(): \n",
    "# max():\n",
    "# min():\n",
    "# sum(): \n",
    "# id():\n"
   ]
  },
  {
   "cell_type": "code",
   "execution_count": 35,
   "metadata": {},
   "outputs": [
    {
     "name": "stdout",
     "output_type": "stream",
     "text": [
      "[2, 4, 6, 7] <class 'list'>\n"
     ]
    }
   ],
   "source": [
    "k = input()  # '[2,       5,6,100]'\n",
    "out = eval(k)  # [2, 5, 6, 100]\n",
    "print(out, type(out))"
   ]
  },
  {
   "cell_type": "code",
   "execution_count": 39,
   "metadata": {},
   "outputs": [
    {
     "ename": "SyntaxError",
     "evalue": "invalid syntax. Perhaps you forgot a comma? (<string>, line 1)",
     "output_type": "error",
     "traceback": [
      "Traceback \u001b[1;36m(most recent call last)\u001b[0m:\n",
      "  File \u001b[0;32m\"C:\\Users\\Amirkhan\\AppData\\Local\\Packages\\PythonSoftwareFoundation.Python.3.10_qbz5n2kfra8p0\\LocalCache\\local-packages\\Python310\\site-packages\\IPython\\core\\interactiveshell.py\"\u001b[0m, line \u001b[0;32m3444\u001b[0m, in \u001b[0;35mrun_code\u001b[0m\n    exec(code_obj, self.user_global_ns, self.user_ns)\n",
      "\u001b[1;36m  File \u001b[1;32m\"C:\\Users\\Amirkhan\\AppData\\Local\\Temp/ipykernel_13196/1924834273.py\"\u001b[1;36m, line \u001b[1;32m1\u001b[1;36m, in \u001b[1;35m<module>\u001b[1;36m\u001b[0m\n\u001b[1;33m    lst = eval(input('Enter the list'))\u001b[0m\n",
      "\u001b[1;36m  File \u001b[1;32m\"<string>\"\u001b[1;36m, line \u001b[1;32m1\u001b[0m\n\u001b[1;33m    3 45 6 7 8\u001b[0m\n\u001b[1;37m    ^\u001b[0m\n\u001b[1;31mSyntaxError\u001b[0m\u001b[1;31m:\u001b[0m invalid syntax. Perhaps you forgot a comma?\n"
     ]
    }
   ],
   "source": [
    "lst = eval(input('Enter the list'))\n",
    "print(max(lst))\n",
    "\n"
   ]
  },
  {
   "cell_type": "code",
   "execution_count": 42,
   "metadata": {},
   "outputs": [
    {
     "name": "stdout",
     "output_type": "stream",
     "text": [
      "[12, 4, 54, 5, 6]\n"
     ]
    }
   ],
   "source": [
    "# read space separated data from user \n",
    "k = '12 4 54 5 6'\n",
    "out = k.split()\n",
    "new_k = []\n",
    "for i in out:\n",
    "    new_k.append(int(i))\n",
    "\n",
    "print(new_k)\n",
    "\n",
    "\n",
    "\n",
    "# list comprehensio\n",
    "# map in python\n",
    "\n"
   ]
  }
 ],
 "metadata": {
  "interpreter": {
   "hash": "ac63e7d2902d829a95718f514f583b39cb52f10e7c5524becb094a341f2ea3ca"
  },
  "kernelspec": {
   "display_name": "Python 3.10.0 64-bit (windows store)",
   "name": "python3"
  },
  "language_info": {
   "codemirror_mode": {
    "name": "ipython",
    "version": 3
   },
   "file_extension": ".py",
   "mimetype": "text/x-python",
   "name": "python",
   "nbconvert_exporter": "python",
   "pygments_lexer": "ipython3",
   "version": "3.10.0"
  },
  "orig_nbformat": 4
 },
 "nbformat": 4,
 "nbformat_minor": 2
}
