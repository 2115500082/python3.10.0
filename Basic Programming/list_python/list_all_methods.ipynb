{
 "cells": [
  {
   "cell_type": "code",
   "execution_count": 3,
   "metadata": {},
   "outputs": [
    {
     "name": "stdout",
     "output_type": "stream",
     "text": [
      "[2, 4, 98, 100, 100, 'hello']\n"
     ]
    }
   ],
   "source": [
    "\"methods in a list\"\n",
    "\n",
    "#append\n",
    "\n",
    "lst = [2, 4, 98]\n",
    "lst.append(100)\n",
    "lst.append(100)\n",
    "lst.append('hello')\n",
    "print(lst)\n"
   ]
  },
  {
   "cell_type": "code",
   "execution_count": 11,
   "metadata": {},
   "outputs": [
    {
     "name": "stdout",
     "output_type": "stream",
     "text": [
      "[2, 4, 98, 'h', 'e', 'l', 'l', 'o']\n"
     ]
    }
   ],
   "source": [
    "# extend() : add element of the sequence \n",
    "\n",
    "lst = [2, 4, 98]\n",
    "lst.extend('hello')\n",
    "print(lst)"
   ]
  },
  {
   "cell_type": "code",
   "execution_count": 14,
   "metadata": {},
   "outputs": [
    {
     "name": "stdout",
     "output_type": "stream",
     "text": [
      "[2, 5, 100, 767, 102]\n"
     ]
    }
   ],
   "source": [
    "# insert: insert the element at location \n",
    "lst = [2, 5, 767]\n",
    "lst.insert(2, 100)\n",
    "lst.insert(20, 102)\n",
    "print(lst)"
   ]
  },
  {
   "cell_type": "code",
   "execution_count": 15,
   "metadata": {},
   "outputs": [
    {
     "name": "stdout",
     "output_type": "stream",
     "text": [
      "[]\n"
     ]
    }
   ],
   "source": [
    "# clear(): remove all the elements from list\n",
    "lst = [2, 4, 6, 'hello']\n",
    "lst.clear()\n",
    "print(lst)"
   ]
  },
  {
   "cell_type": "code",
   "execution_count": 19,
   "metadata": {},
   "outputs": [
    {
     "name": "stdout",
     "output_type": "stream",
     "text": [
      "[2, 4, 7, 'hello'] removed  6\n"
     ]
    }
   ],
   "source": [
    "# pop(): remove the element at position\n",
    "\n",
    "lst = [2, 4, 6, 7, 'hello']\n",
    "ele = lst.pop(2)\n",
    "print(lst, 'removed ', ele)"
   ]
  },
  {
   "cell_type": "code",
   "execution_count": 20,
   "metadata": {},
   "outputs": [
    {
     "name": "stdout",
     "output_type": "stream",
     "text": [
      "['amit', 'ravi']\n"
     ]
    }
   ],
   "source": [
    "# remove: remove the elements with value\n",
    "\n",
    "lst = ['divyansh', 'amit', 'ravi']\n",
    "lst.remove('divyansh')\n",
    "print(lst)\n"
   ]
  },
  {
   "cell_type": "code",
   "execution_count": 4,
   "metadata": {},
   "outputs": [
    {
     "name": "stdout",
     "output_type": "stream",
     "text": [
      "['hello', 33, 'python', 'programming', 100, (2+4j)]\n"
     ]
    }
   ],
   "source": [
    "# append(): adds an element at the end of the list\n",
    "lst = ['hello', 33, 'python']\n",
    "lst.append('programming')\n",
    "lst.append(100)\n",
    "lst.append(2+4j)\n",
    "print(lst)"
   ]
  },
  {
   "cell_type": "code",
   "execution_count": 16,
   "metadata": {},
   "outputs": [
    {
     "name": "stdout",
     "output_type": "stream",
     "text": [
      "[2, 5, 7, 3, 5, 7]\n"
     ]
    }
   ],
   "source": [
    "# extend(): add the elements from sequential object into a current list\n",
    "\n",
    "lst = [2, 5, 7]\n",
    "\n",
    "lst.extend([3, 5, 7])\n",
    "\n",
    "print(lst)"
   ]
  },
  {
   "cell_type": "code",
   "execution_count": 22,
   "metadata": {},
   "outputs": [
    {
     "name": "stdout",
     "output_type": "stream",
     "text": [
      "before insert value at index 2 100\n",
      "after insert value at index 2 99\n"
     ]
    }
   ],
   "source": [
    "# insert(): add the element at desired index\n",
    "lst = [2, 5, 100]\n",
    "out = lst[2]  \n",
    "print('before insert value at index 2', out)\n",
    "lst.insert(2, 99)\n",
    "out = lst[2]  \n",
    "print('after insert value at index 2', out)"
   ]
  },
  {
   "cell_type": "code",
   "execution_count": 28,
   "metadata": {},
   "outputs": [
    {
     "name": "stdout",
     "output_type": "stream",
     "text": [
      "[2, 4, 6, []]\n"
     ]
    }
   ],
   "source": [
    "# clear(): remove all the elements in a list\n",
    "lst = [2, 4, 6, [1, 4, 5]]\n",
    "lst[-1].clear()\n",
    "print(lst)\n"
   ]
  },
  {
   "cell_type": "code",
   "execution_count": 36,
   "metadata": {},
   "outputs": [
    {
     "name": "stdout",
     "output_type": "stream",
     "text": [
      "[2, 'ravi', 7] removed 100\n"
     ]
    }
   ],
   "source": [
    "# pop(): remove and return the value at the given index \n",
    "lst = [2, 'ravi', 7, 100]\n",
    "out = lst.pop(3)  # len 4\n",
    "print(lst, 'removed', out)  "
   ]
  },
  {
   "cell_type": "code",
   "execution_count": 48,
   "metadata": {},
   "outputs": [
    {
     "ename": "TypeError",
     "evalue": "list.remove() takes exactly one argument (2 given)",
     "output_type": "error",
     "traceback": [
      "\u001b[1;31m---------------------------------------------------------------------------\u001b[0m",
      "\u001b[1;31mTypeError\u001b[0m                                 Traceback (most recent call last)",
      "\u001b[1;32m~\\AppData\\Local\\Temp/ipykernel_10152/3794602753.py\u001b[0m in \u001b[0;36m<module>\u001b[1;34m\u001b[0m\n\u001b[0;32m      1\u001b[0m \u001b[1;31m# remove(): remove the element by its value\u001b[0m\u001b[1;33m\u001b[0m\u001b[1;33m\u001b[0m\u001b[0m\n\u001b[0;32m      2\u001b[0m \u001b[0mlst\u001b[0m \u001b[1;33m=\u001b[0m \u001b[1;33m[\u001b[0m\u001b[1;36m0\u001b[0m\u001b[1;33m,\u001b[0m \u001b[1;36m1\u001b[0m\u001b[1;33m,\u001b[0m \u001b[1;36m2\u001b[0m\u001b[1;33m,\u001b[0m \u001b[1;36m0\u001b[0m\u001b[1;33m,\u001b[0m \u001b[1;36m0\u001b[0m\u001b[1;33m,\u001b[0m \u001b[1;36m3\u001b[0m\u001b[1;33m,\u001b[0m \u001b[1;36m1\u001b[0m\u001b[1;33m]\u001b[0m\u001b[1;33m\u001b[0m\u001b[1;33m\u001b[0m\u001b[0m\n\u001b[1;32m----> 3\u001b[1;33m \u001b[0mlst\u001b[0m\u001b[1;33m.\u001b[0m\u001b[0mremove\u001b[0m\u001b[1;33m(\u001b[0m\u001b[1;36m1\u001b[0m\u001b[1;33m,\u001b[0m \u001b[1;36m2\u001b[0m\u001b[1;33m)\u001b[0m\u001b[1;33m\u001b[0m\u001b[1;33m\u001b[0m\u001b[0m\n\u001b[0m\u001b[0;32m      4\u001b[0m \u001b[0mprint\u001b[0m\u001b[1;33m(\u001b[0m\u001b[0mlst\u001b[0m\u001b[1;33m)\u001b[0m\u001b[1;33m\u001b[0m\u001b[1;33m\u001b[0m\u001b[0m\n",
      "\u001b[1;31mTypeError\u001b[0m: list.remove() takes exactly one argument (2 given)"
     ]
    }
   ],
   "source": [
    "# remove(): remove the element by its value\n",
    "lst = [0, 1, 2, 0, 0, 3, 1]\n",
    "lst.remove(1)\n",
    "print(lst)"
   ]
  }
 ],
 "metadata": {
  "interpreter": {
   "hash": "ac63e7d2902d829a95718f514f583b39cb52f10e7c5524becb094a341f2ea3ca"
  },
  "kernelspec": {
   "display_name": "Python 3.10.0 64-bit (windows store)",
   "name": "python3"
  },
  "language_info": {
   "codemirror_mode": {
    "name": "ipython",
    "version": 3
   },
   "file_extension": ".py",
   "mimetype": "text/x-python",
   "name": "python",
   "nbconvert_exporter": "python",
   "pygments_lexer": "ipython3",
   "version": "3.10.0"
  },
  "orig_nbformat": 4
 },
 "nbformat": 4,
 "nbformat_minor": 2
}
