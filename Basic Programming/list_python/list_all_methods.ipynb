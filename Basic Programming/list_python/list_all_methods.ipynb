{
 "cells": [
  {
   "cell_type": "code",
   "execution_count": 3,
   "metadata": {},
   "outputs": [
    {
     "name": "stdout",
     "output_type": "stream",
     "text": [
      "[2, 4, 98, 100, 100, 'hello']\n"
     ]
    }
   ],
   "source": [
    "\"methods in a list\"\n",
    "\n",
    "#append\n",
    "\n",
    "lst = [2, 4, 98]\n",
    "lst.append(100)\n",
    "lst.append(100)\n",
    "lst.append('hello')\n",
    "print(lst)\n"
   ]
  },
  {
   "cell_type": "code",
   "execution_count": 11,
   "metadata": {},
   "outputs": [
    {
     "name": "stdout",
     "output_type": "stream",
     "text": [
      "[2, 4, 98, 'h', 'e', 'l', 'l', 'o']\n"
     ]
    }
   ],
   "source": [
    "# extend() : add element of the sequence \n",
    "\n",
    "lst = [2, 4, 98]\n",
    "lst.extend('hello')\n",
    "print(lst)"
   ]
  },
  {
   "cell_type": "code",
   "execution_count": 14,
   "metadata": {},
   "outputs": [
    {
     "name": "stdout",
     "output_type": "stream",
     "text": [
      "[2, 5, 100, 767, 102]\n"
     ]
    }
   ],
   "source": [
    "# insert: insert the element at location \n",
    "lst = [2, 5, 767]\n",
    "lst.insert(2, 100)\n",
    "lst.insert(20, 102)\n",
    "print(lst)"
   ]
  },
  {
   "cell_type": "code",
   "execution_count": 15,
   "metadata": {},
   "outputs": [
    {
     "name": "stdout",
     "output_type": "stream",
     "text": [
      "[]\n"
     ]
    }
   ],
   "source": [
    "# clear(): remove all the elements from list\n",
    "lst = [2, 4, 6, 'hello']\n",
    "lst.clear()\n",
    "print(lst)"
   ]
  },
  {
   "cell_type": "code",
   "execution_count": 19,
   "metadata": {},
   "outputs": [
    {
     "name": "stdout",
     "output_type": "stream",
     "text": [
      "[2, 4, 7, 'hello'] removed  6\n"
     ]
    }
   ],
   "source": [
    "# pop(): remove the element at position\n",
    "\n",
    "lst = [2, 4, 6, 7, 'hello']\n",
    "ele = lst.pop(2)\n",
    "print(lst, 'removed ', ele)"
   ]
  },
  {
   "cell_type": "code",
   "execution_count": 20,
   "metadata": {},
   "outputs": [
    {
     "name": "stdout",
     "output_type": "stream",
     "text": [
      "['amit', 'ravi']\n"
     ]
    }
   ],
   "source": [
    "# remove: remove the elements with value\n",
    "\n",
    "lst = ['divyansh', 'amit', 'ravi']\n",
    "lst.remove('divyansh')\n",
    "print(lst)\n"
   ]
  }
 ],
 "metadata": {
  "interpreter": {
   "hash": "ac63e7d2902d829a95718f514f583b39cb52f10e7c5524becb094a341f2ea3ca"
  },
  "kernelspec": {
   "display_name": "Python 3.10.0 64-bit (windows store)",
   "name": "python3"
  },
  "language_info": {
   "codemirror_mode": {
    "name": "ipython",
    "version": 3
   },
   "file_extension": ".py",
   "mimetype": "text/x-python",
   "name": "python",
   "nbconvert_exporter": "python",
   "pygments_lexer": "ipython3",
   "version": "3.10.0"
  },
  "orig_nbformat": 4
 },
 "nbformat": 4,
 "nbformat_minor": 2
}
