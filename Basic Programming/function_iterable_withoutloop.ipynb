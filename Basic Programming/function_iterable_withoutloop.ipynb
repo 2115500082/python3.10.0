{
 "cells": [
  {
   "cell_type": "code",
   "execution_count": null,
   "metadata": {},
   "outputs": [],
   "source": [
    "\"\"\"\n",
    "map(): built-in function, iterable without loop.\n",
    "transform all the item of iterable into new one \n",
    "\"\"\""
   ]
  },
  {
   "cell_type": "code",
   "execution_count": 2,
   "metadata": {},
   "outputs": [
    {
     "name": "stdout",
     "output_type": "stream",
     "text": [
      "[1, 3, -4, 2.8, -3, 0]\n",
      "[1, 3, 4, 2.8, 3, 0]\n"
     ]
    }
   ],
   "source": [
    "# initialized list \n",
    "lst = [1, 3, -4, 2.8, -3, 0]\n",
    "new_list = []\n",
    "\n",
    "for i in lst:\n",
    "    new_list.append(abs(i))\n",
    "# transformed list\n",
    "print(lst)\n",
    "print(new_list)    "
   ]
  },
  {
   "cell_type": "code",
   "execution_count": 3,
   "metadata": {},
   "outputs": [
    {
     "name": "stdout",
     "output_type": "stream",
     "text": [
      "[1, 3, -4, 2.8, -3, 0]\n",
      "[1, 3, 4, 2.8, 3, 0]\n"
     ]
    }
   ],
   "source": [
    "# initialized list \n",
    "lst = [1, 3, -4, 2.8, -3, 0]\n",
    "new_list = list(map(abs, lst))\n",
    "# transformed list\n",
    "print(lst)\n",
    "print(new_list) "
   ]
  }
 ],
 "metadata": {
  "interpreter": {
   "hash": "ac63e7d2902d829a95718f514f583b39cb52f10e7c5524becb094a341f2ea3ca"
  },
  "kernelspec": {
   "display_name": "Python 3.10.0 64-bit (windows store)",
   "name": "python3"
  },
  "language_info": {
   "codemirror_mode": {
    "name": "ipython",
    "version": 3
   },
   "file_extension": ".py",
   "mimetype": "text/x-python",
   "name": "python",
   "nbconvert_exporter": "python",
   "pygments_lexer": "ipython3",
   "version": "3.10.0"
  },
  "orig_nbformat": 4
 },
 "nbformat": 4,
 "nbformat_minor": 2
}
