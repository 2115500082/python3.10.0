{
 "cells": [
  {
   "cell_type": "code",
   "execution_count": 6,
   "metadata": {},
   "outputs": [
    {
     "name": "stdout",
     "output_type": "stream",
     "text": [
      "Enter the value of n\n",
      "file succesfully opened \n",
      "Enter the name 1\n",
      "Enter the name 2\n",
      "Enter the name 3\n",
      "File succesfully saved \n"
     ]
    }
   ],
   "source": [
    "print('Enter the value of n')\n",
    "n = int(input())\n",
    "f = open(r'E:\\Python39\\batch21-22\\python3.10.0\\file handling\\names.txt', 'a')\n",
    "\n",
    "if not f.closed:\n",
    "    print('file succesfully opened ')\n",
    "else:\n",
    "    print('File not opened ')    \n",
    "ls = []\n",
    "for i in range(n):\n",
    "    print(f'Enter the name {i+1}')\n",
    "    name = input()\n",
    "    # f.write(name+'\\n')\n",
    "    ls.append(name+'\\n')\n",
    "\n",
    "f.writelines(ls)\n",
    "f.close()\n",
    "if f.closed:\n",
    "    print('File succesfully saved ')\n",
    "else:    \n",
    "    print('File not saved ')\n",
    "  "
   ]
  },
  {
   "cell_type": "code",
   "execution_count": 7,
   "metadata": {},
   "outputs": [
    {
     "name": "stdout",
     "output_type": "stream",
     "text": [
      "hello\\nworld\n"
     ]
    }
   ],
   "source": [
    "st = r'hello\\nworld'\n",
    "print(st)"
   ]
  }
 ],
 "metadata": {
  "interpreter": {
   "hash": "ac63e7d2902d829a95718f514f583b39cb52f10e7c5524becb094a341f2ea3ca"
  },
  "kernelspec": {
   "display_name": "Python 3.10.1 64-bit (windows store)",
   "language": "python",
   "name": "python3"
  },
  "language_info": {
   "codemirror_mode": {
    "name": "ipython",
    "version": 3
   },
   "file_extension": ".py",
   "mimetype": "text/x-python",
   "name": "python",
   "nbconvert_exporter": "python",
   "pygments_lexer": "ipython3",
   "version": "3.10.1"
  },
  "orig_nbformat": 4
 },
 "nbformat": 4,
 "nbformat_minor": 2
}
