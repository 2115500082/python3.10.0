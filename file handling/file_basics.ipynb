{
 "cells": [
  {
   "cell_type": "code",
   "execution_count": 12,
   "metadata": {},
   "outputs": [],
   "source": [
    "\n",
    "f = open('E:\\\\Python39\\\\batch21-22\\\\python3.10.0\\\\file handling\\\\info.txt', 'w')\n",
    "x = '''This is my test \n",
    "file for file handling\n",
    "'''\n",
    "f.write(x)\n",
    "f.write('second line')\n",
    "\n",
    "f.close()"
   ]
  },
  {
   "cell_type": "code",
   "execution_count": 26,
   "metadata": {},
   "outputs": [],
   "source": [
    "# file handling \n",
    "path = 'C:\\\\Users\\\\Amirkhan\\\\Desktop\\\\sectionP\\\\info.mudit'\n",
    "f = open(path, 'w')\n",
    "info = '''\n",
    "Name : Shubham\n",
    "Class Roll Number: 34\n",
    "CPI: 8.6\n",
    "Address: GLA University\n",
    "'''\n",
    "f.write(info)\n",
    "\n",
    "f.close()"
   ]
  },
  {
   "cell_type": "code",
   "execution_count": 1,
   "metadata": {},
   "outputs": [],
   "source": [
    "# display the table in local file\n",
    "path = 'C:\\\\Users\\\\Amirkhan\\\\Desktop\\\\sectionP\\\\table.txt'\n",
    "f = open(path, 'w') \n",
    "\n",
    "num = 10\n",
    "for i in range(1, num+1):\n",
    "    for j in range(1, num+1):\n",
    "        f.write(str(i*j)+'\\t')\n",
    "    f.write('\\n')    \n",
    "f.close()    \n"
   ]
  },
  {
   "cell_type": "code",
   "execution_count": 23,
   "metadata": {},
   "outputs": [
    {
     "name": "stdout",
     "output_type": "stream",
     "text": [
      "\tt 2\n"
     ]
    }
   ],
   "source": [
    "st = '\\tt'\n",
    "print(st, len(st))"
   ]
  },
  {
   "cell_type": "code",
   "execution_count": 5,
   "metadata": {},
   "outputs": [
    {
     "name": "stdout",
     "output_type": "stream",
     "text": [
      "Enter the value of n\n",
      "Enter the name 1\n",
      "Enter the name 2\n",
      "Enter the name 3\n"
     ]
    }
   ],
   "source": [
    "# write in a file \n",
    "'''\n",
    "write operation\n",
    "1. method write()\n",
    "2. method writelines()\n",
    "read operation\n",
    "'''\n",
    "# Q1. Read n names from user and write in a file?\n",
    "f = open(r'E:\\Python39\\batch21-22\\python3.10.0\\file handling\\names.txt', 'a')\n",
    "print('Enter the value of n')\n",
    "n = int(input())\n",
    "ls = []\n",
    "for i in range(n):\n",
    "    print(f'Enter the name {i+1}')\n",
    "    name = input()\n",
    "    ls.append(name+'\\n')\n",
    "    \n",
    "f.writelines(ls)\n",
    "f.close()\n",
    "\n",
    "\n",
    "\n"
   ]
  },
  {
   "cell_type": "code",
   "execution_count": 7,
   "metadata": {},
   "outputs": [
    {
     "name": "stdout",
     "output_type": "stream",
     "text": [
      "Tue Dec 21 10:40:47 2021\n"
     ]
    }
   ],
   "source": [
    "import time\n",
    "st = time.asctime()\n",
    "print(st)"
   ]
  },
  {
   "cell_type": "code",
   "execution_count": null,
   "metadata": {},
   "outputs": [],
   "source": []
  }
 ],
 "metadata": {
  "interpreter": {
   "hash": "ac63e7d2902d829a95718f514f583b39cb52f10e7c5524becb094a341f2ea3ca"
  },
  "kernelspec": {
   "display_name": "Python 3.10.1 64-bit (windows store)",
   "language": "python",
   "name": "python3"
  },
  "language_info": {
   "codemirror_mode": {
    "name": "ipython",
    "version": 3
   },
   "file_extension": ".py",
   "mimetype": "text/x-python",
   "name": "python",
   "nbconvert_exporter": "python",
   "pygments_lexer": "ipython3",
   "version": "3.10.1"
  },
  "orig_nbformat": 4
 },
 "nbformat": 4,
 "nbformat_minor": 2
}
