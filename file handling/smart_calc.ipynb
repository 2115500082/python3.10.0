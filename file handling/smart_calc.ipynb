{
 "cells": [
  {
   "cell_type": "code",
   "execution_count": 2,
   "metadata": {},
   "outputs": [
    {
     "data": {
      "text/plain": [
       "\"\\nEnter the first number \\nEnter the second number \\n\\nchoices '\\n1> Add\\n2> Sub\\n3> Mul\\n4> Div\\n\\nEnter the choice 1/2/3/4 : \\n\\n\\n\\n\""
      ]
     },
     "execution_count": 2,
     "metadata": {},
     "output_type": "execute_result"
    }
   ],
   "source": [
    "def Add(a, b):\n",
    "    return a + b\n",
    "\n",
    "def Sub(a, b):\n",
    "    return a - b\n",
    "\n",
    "def Div(a, b):\n",
    "    return a / b\n",
    "\n",
    "def Mul(a, b):\n",
    "    return a * b\n",
    "\n",
    "    \n",
    "\n",
    "'''\n",
    "Enter the first number \n",
    "Enter the second number \n",
    "\n",
    "choices '\n",
    "1> Add\n",
    "2> Sub\n",
    "3> Mul\n",
    "4> Div\n",
    "\n",
    "Enter the choice 1/2/3/4 : \n",
    "\n",
    "\n",
    "\n",
    "'''\n",
    "\n"
   ]
  },
  {
   "cell_type": "code",
   "execution_count": 4,
   "metadata": {},
   "outputs": [
    {
     "name": "stdout",
     "output_type": "stream",
     "text": [
      "Enter the first number \n",
      "Enter the second number \n",
      "Choices\n",
      "1> Add\n",
      "2> Sub\n",
      "3> Div\n",
      "4> Mul\n",
      "Enter the choice 1/2/3/4: \n"
     ]
    }
   ],
   "source": [
    "# main code \n",
    "import time\n",
    "print('Enter the first number ')\n",
    "num1 = float(input())\n",
    "print('Enter the second number ')\n",
    "num2 = float(input())\n",
    "f = open(r'E:\\Python39\\batch21-22\\python3.10.0\\file handling\\calc.txt', 'a')\n",
    "print('''Choices\n",
    "1> Add\n",
    "2> Sub\n",
    "3> Div\n",
    "4> Mul''')\n",
    "\n",
    "print('Enter the choice 1/2/3/4: ')\n",
    "choice = input()\n",
    "op = None\n",
    "re = None\n",
    "if choice == '1':\n",
    "    op = 'Addition'\n",
    "    re = Add(num1, num2)\n",
    "elif choice == '2':\n",
    "    op = 'Subtract'\n",
    "    re = Sub(num1, num2)\n",
    "elif choice == '3':\n",
    "    op = 'Division'\n",
    "    re = Div(num1, num2)\n",
    "elif choice == '4':\n",
    "    op = 'Multiplication'\n",
    "    re = Mul(num1, num2)\n",
    "else:\n",
    "    print('Wrong choice')\n",
    "\n",
    "tmp = f'{num1}\\t{num2}\\t{op}\\t{re}\\t{time.asctime()}\\n'\n",
    "f.write(tmp)\n",
    "f.close()\n"
   ]
  },
  {
   "cell_type": "code",
   "execution_count": 1,
   "metadata": {},
   "outputs": [
    {
     "name": "stdout",
     "output_type": "stream",
     "text": [
      "Tue Dec 21 11:49:05 2021 <class 'str'>\n"
     ]
    }
   ],
   "source": [
    "import time \n",
    "\n",
    "st = time.asctime()\n",
    "print(st, type(st))"
   ]
  }
 ],
 "metadata": {
  "interpreter": {
   "hash": "ac63e7d2902d829a95718f514f583b39cb52f10e7c5524becb094a341f2ea3ca"
  },
  "kernelspec": {
   "display_name": "Python 3.10.1 64-bit (windows store)",
   "language": "python",
   "name": "python3"
  },
  "language_info": {
   "codemirror_mode": {
    "name": "ipython",
    "version": 3
   },
   "file_extension": ".py",
   "mimetype": "text/x-python",
   "name": "python",
   "nbconvert_exporter": "python",
   "pygments_lexer": "ipython3",
   "version": "3.10.1"
  },
  "orig_nbformat": 4
 },
 "nbformat": 4,
 "nbformat_minor": 2
}
