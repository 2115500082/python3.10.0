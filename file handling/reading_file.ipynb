{
 "cells": [
  {
   "cell_type": "code",
   "execution_count": 1,
   "metadata": {},
   "outputs": [
    {
     "data": {
      "text/plain": [
       "'\\n    three methods to read the data from file \\n    1. read(n): read the entire file data if nis not specified \\n    2. readline(): read the current line \\n    3. readlines(): read the entire file in form of list of lines \\n\\n'"
      ]
     },
     "execution_count": 1,
     "metadata": {},
     "output_type": "execute_result"
    }
   ],
   "source": [
    "# writing operation\n",
    "\"\"\"\n",
    "    we have two methods while we perform the writing operation\n",
    "    1. write(): string\n",
    "    2. writelines(): list of strings\n",
    "\n",
    "\"\"\"\n",
    "# reading \n",
    "\"\"\"\n",
    "        three methods for the reading operation with the file \n",
    "        1. read(): read the entire file data in the form of string if n is not specified\n",
    "        2. readline(): read the current line\n",
    "        3. readlines(): read the entire file data in the form of list of lines \n",
    "\"\"\"\n"
   ]
  },
  {
   "cell_type": "code",
   "execution_count": 15,
   "metadata": {},
   "outputs": [
    {
     "name": "stdout",
     "output_type": "stream",
     "text": [
      "Abhishek\n",
      "Sakib\n",
      "divya\n",
      "manali\n",
      "ravi\n",
      "\n",
      "\n",
      "\n"
     ]
    }
   ],
   "source": [
    "# read()\n",
    "f = open(r'E:\\Python39\\batch21-22\\python3.10.0\\file handling\\names.txt', 'r')\n",
    "data = f.read()\n",
    "print(data)\n",
    "f.close()\n"
   ]
  },
  {
   "cell_type": "code",
   "execution_count": 17,
   "metadata": {},
   "outputs": [
    {
     "name": "stdout",
     "output_type": "stream",
     "text": [
      "Sakib\n",
      "\n"
     ]
    }
   ],
   "source": [
    "# readline()\n",
    "f = open(r'E:\\Python39\\batch21-22\\python3.10.0\\file handling\\names.txt', 'r')\n",
    "data = f.readline()\n",
    "data2 = f.readline()\n",
    "print(data2)\n",
    "f.close()"
   ]
  },
  {
   "cell_type": "code",
   "execution_count": null,
   "metadata": {},
   "outputs": [],
   "source": [
    "# readlines()\n",
    "f = open(r'E:\\Python39\\batch21-22\\python3.10.0\\file handling\\names.txt', 'r')\n",
    "data = f.readlines()\n",
    "print(data)\n",
    "f.close()"
   ]
  }
 ],
 "metadata": {
  "interpreter": {
   "hash": "ac63e7d2902d829a95718f514f583b39cb52f10e7c5524becb094a341f2ea3ca"
  },
  "kernelspec": {
   "display_name": "Python 3.10.1 64-bit (windows store)",
   "language": "python",
   "name": "python3"
  },
  "language_info": {
   "codemirror_mode": {
    "name": "ipython",
    "version": 3
   },
   "file_extension": ".py",
   "mimetype": "text/x-python",
   "name": "python",
   "nbconvert_exporter": "python",
   "pygments_lexer": "ipython3",
   "version": "3.10.1"
  },
  "orig_nbformat": 4
 },
 "nbformat": 4,
 "nbformat_minor": 2
}
