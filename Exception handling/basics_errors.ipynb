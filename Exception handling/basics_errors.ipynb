{
 "cells": [
  {
   "cell_type": "code",
   "execution_count": null,
   "metadata": {},
   "outputs": [],
   "source": [
    "# topics for end-term exam \n",
    "'''\n",
    "1. dictionary\n",
    "2. fucntions\n",
    "    udf\n",
    "    built-in\n",
    "3. modules:\n",
    "    random\n",
    "    numpy\n",
    "    math\n",
    "4. file handling : open/write/read/append\n",
    "5. exception handling \n",
    "6. regex(re module in Python)    \n",
    "\n",
    "'''"
   ]
  },
  {
   "cell_type": "code",
   "execution_count": 14,
   "metadata": {},
   "outputs": [
    {
     "data": {
      "text/plain": [
       "'\\n\\n\\n\\n'"
      ]
     },
     "execution_count": 14,
     "metadata": {},
     "output_type": "execute_result"
    }
   ],
   "source": [
    "# Errors in our program \n",
    "'''\n",
    "1. syntax Error: error before run the program/ mistakein coding structure \n",
    "2. Run-time Error(Exceptions):   run-time error\n",
    "\n",
    "    find the error -> take cautions -> fix it\n",
    "\n",
    "3. logic error : when the result is incorrect  \n",
    "\n",
    "'''"
   ]
  },
  {
   "cell_type": "code",
   "execution_count": 29,
   "metadata": {},
   "outputs": [
    {
     "name": "stdout",
     "output_type": "stream",
     "text": [
      "get an error\n",
      "None\n"
     ]
    }
   ],
   "source": [
    "\n",
    "a = 10\n",
    "b = 0\n",
    "# operation\n",
    "c = None\n",
    "try:\n",
    "    c = a / b\n",
    "\n",
    "except:\n",
    "    print('get an error')\n",
    "\n",
    "\n",
    "# result    \n",
    "print(c)\n"
   ]
  },
  {
   "cell_type": "code",
   "execution_count": 34,
   "metadata": {},
   "outputs": [
    {
     "name": "stdout",
     "output_type": "stream",
     "text": [
      "operation succesful\n",
      "5.0\n"
     ]
    }
   ],
   "source": [
    "# try-except-else\n",
    "a = 10\n",
    "b = 2\n",
    "# operation\n",
    "c = None\n",
    "try:\n",
    "    c = a / b\n",
    "except:\n",
    "    b = 1\n",
    "    c = a / b\n",
    "else:\n",
    "    print('operation succesful')\n",
    "\n",
    "# result    \n",
    "print(c)"
   ]
  },
  {
   "cell_type": "code",
   "execution_count": 33,
   "metadata": {},
   "outputs": [
    {
     "name": "stdout",
     "output_type": "stream",
     "text": [
      "45\n"
     ]
    }
   ],
   "source": [
    "try:\n",
    "    num = int(input())\n",
    "    print(num)\n",
    "except:\n",
    "    print('Not the right string')\n",
    "\n"
   ]
  },
  {
   "cell_type": "code",
   "execution_count": 1,
   "metadata": {},
   "outputs": [],
   "source": [
    "\n"
   ]
  },
  {
   "cell_type": "code",
   "execution_count": null,
   "metadata": {},
   "outputs": [],
   "source": [
    "         "
   ]
  },
  {
   "cell_type": "code",
   "execution_count": null,
   "metadata": {},
   "outputs": [],
   "source": []
  }
 ],
 "metadata": {
  "interpreter": {
   "hash": "ac63e7d2902d829a95718f514f583b39cb52f10e7c5524becb094a341f2ea3ca"
  },
  "kernelspec": {
   "display_name": "Python 3.10.1 64-bit (windows store)",
   "language": "python",
   "name": "python3"
  },
  "language_info": {
   "codemirror_mode": {
    "name": "ipython",
    "version": 3
   },
   "file_extension": ".py",
   "mimetype": "text/x-python",
   "name": "python",
   "nbconvert_exporter": "python",
   "pygments_lexer": "ipython3",
   "version": "3.10.1"
  },
  "orig_nbformat": 4
 },
 "nbformat": 4,
 "nbformat_minor": 2
}
