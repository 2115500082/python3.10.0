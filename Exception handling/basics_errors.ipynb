{
 "cells": [
  {
   "cell_type": "code",
   "execution_count": null,
   "metadata": {},
   "outputs": [],
   "source": [
    "# topics for end-term exam \n",
    "'''\n",
    "1. dictionary\n",
    "2. fucntions\n",
    "    udf\n",
    "    built-in\n",
    "3. modules:\n",
    "    random\n",
    "    numpy\n",
    "    math\n",
    "4. file handling : open/write/read/append\n",
    "5. exception handling \n",
    "6. regex(re module in Python)    \n",
    "\n",
    "'''"
   ]
  },
  {
   "cell_type": "code",
   "execution_count": 14,
   "metadata": {},
   "outputs": [
    {
     "data": {
      "text/plain": [
       "'\\n\\n\\n\\n'"
      ]
     },
     "execution_count": 14,
     "metadata": {},
     "output_type": "execute_result"
    }
   ],
   "source": [
    "# Errors in our program \n",
    "'''\n",
    "1. syntax Error: error before run the program/ mistakein coding structure \n",
    "2. Run-time Error(Exceptions):   run-time error\n",
    "\n",
    "    find the error -> take cautions -> fix it\n",
    "\n",
    "3. logic error : when the result is incorrect  \n",
    "\n",
    "'''"
   ]
  },
  {
   "cell_type": "code",
   "execution_count": 29,
   "metadata": {},
   "outputs": [
    {
     "name": "stdout",
     "output_type": "stream",
     "text": [
      "get an error\n",
      "None\n"
     ]
    }
   ],
   "source": [
    "\n",
    "a = 10\n",
    "b = 0\n",
    "# operation\n",
    "c = None\n",
    "try:\n",
    "    c = a / b\n",
    "\n",
    "except:\n",
    "    print('get an error')\n",
    "\n",
    "\n",
    "# result    \n",
    "print(c)\n"
   ]
  },
  {
   "cell_type": "code",
   "execution_count": 34,
   "metadata": {},
   "outputs": [
    {
     "name": "stdout",
     "output_type": "stream",
     "text": [
      "operation succesful\n",
      "5.0\n"
     ]
    }
   ],
   "source": [
    "# try-except-else\n",
    "a = 10\n",
    "b = 2\n",
    "# operation\n",
    "c = None\n",
    "try:\n",
    "    c = a / b\n",
    "except:\n",
    "    b = 1\n",
    "    c = a / b\n",
    "else:\n",
    "    print('operation succesful')\n",
    "\n",
    "# result    \n",
    "print(c)"
   ]
  },
  {
   "cell_type": "code",
   "execution_count": 33,
   "metadata": {},
   "outputs": [
    {
     "name": "stdout",
     "output_type": "stream",
     "text": [
      "45\n"
     ]
    }
   ],
   "source": [
    "try:\n",
    "    num = int(input())\n",
    "    print(num)\n",
    "except:\n",
    "    print('Not the right string')\n",
    "\n"
   ]
  },
  {
   "cell_type": "code",
   "execution_count": 1,
   "metadata": {},
   "outputs": [],
   "source": [
    "\n",
    "'''\n",
    "1. Dictionary\n",
    "2. Function\n",
    "    udf\n",
    "    built-in\n",
    "3. Module \n",
    "    random \n",
    "    math\n",
    "    numpy \n",
    "4. file handling : open/write/read/append\n",
    "5. Exception handling \n",
    "6. regex(re module in python)    \n",
    "\n",
    "'''"
   ]
  },
  {
   "cell_type": "code",
   "execution_count": 3,
   "metadata": {},
   "outputs": [
    {
     "ename": "SyntaxError",
     "evalue": "unterminated string literal (detected at line 3) (Temp/ipykernel_16132/1452308487.py, line 3)",
     "output_type": "error",
     "traceback": [
      "\u001b[1;36m  File \u001b[1;32m\"C:\\Users\\Amirkhan\\AppData\\Local\\Temp/ipykernel_16132/1452308487.py\"\u001b[1;36m, line \u001b[1;32m3\u001b[0m\n\u001b[1;33m    print('hello world)\u001b[0m\n\u001b[1;37m          ^\u001b[0m\n\u001b[1;31mSyntaxError\u001b[0m\u001b[1;31m:\u001b[0m unterminated string literal (detected at line 3)\n"
     ]
    }
   ],
   "source": [
    "# syntax Errors: error before run the program \n",
    "\n",
    "print('hello world)\n"
   ]
  },
  {
   "cell_type": "code",
   "execution_count": 12,
   "metadata": {},
   "outputs": [
    {
     "name": "stdout",
     "output_type": "stream",
     "text": [
      "5.0\n"
     ]
    }
   ],
   "source": [
    "# exceptions \n",
    "a = 10\n",
    "b = 2\n",
    "out = None\n",
    "try:\n",
    "    # operation \n",
    "    out = a / b\n",
    "except:\n",
    "    print('got an error') \n",
    "    \n",
    "print(out)"
   ]
  },
  {
   "cell_type": "code",
   "execution_count": 19,
   "metadata": {},
   "outputs": [
    {
     "name": "stdout",
     "output_type": "stream",
     "text": [
      "start\n",
      "Enter the data\n",
      "Wrong data\n",
      "stop\n"
     ]
    }
   ],
   "source": [
    "# try-except\n",
    "print('start')\n",
    "# operation\n",
    "try:\n",
    "    print('Enter the data')\n",
    "    out = int(input())\n",
    "    print(out)\n",
    "except:\n",
    "    print('Wrong data')    \n",
    "\n",
    "print('stop')\n",
    "\n"
   ]
  },
  {
   "cell_type": "code",
   "execution_count": 20,
   "metadata": {},
   "outputs": [
    {
     "name": "stdout",
     "output_type": "stream",
     "text": [
      "start\n",
      "Enter the data\n",
      "123\n",
      "operation succesful\n",
      "stop\n"
     ]
    }
   ],
   "source": [
    "# try-except-else\n",
    "print('start')\n",
    "# operation\n",
    "try:\n",
    "    print('Enter the data')\n",
    "    out = int('123')\n",
    "    print(out)\n",
    "except:\n",
    "    print('Wrong data')  \n",
    "else:\n",
    "    print('operation succesful')\n",
    "    \n",
    "print('stop')"
   ]
  },
  {
   "cell_type": "code",
   "execution_count": 23,
   "metadata": {},
   "outputs": [
    {
     "name": "stdout",
     "output_type": "stream",
     "text": [
      "start\n",
      "Enter the data\n",
      "16\n",
      "operation succesful\n",
      "stop\n"
     ]
    }
   ],
   "source": [
    "# try-except-else-finally\n",
    "print('start')\n",
    "# operation\n",
    "try:\n",
    "    print('Enter the data')\n",
    "    out = int('16')\n",
    "    print(out)\n",
    "except:\n",
    "    print('Wrong data') \n",
    "    print(2 + 'hello') \n",
    "else:\n",
    "    print('operation succesful')\n",
    "\n",
    "finally:\n",
    "    print('stop')  # \n"
   ]
  },
  {
   "cell_type": "code",
   "execution_count": 31,
   "metadata": {},
   "outputs": [
    {
     "name": "stdout",
     "output_type": "stream",
     "text": [
      "start\n",
      "stop\n"
     ]
    },
    {
     "ename": "ZeroDivisionError",
     "evalue": "division by zero",
     "output_type": "error",
     "traceback": [
      "\u001b[1;31m---------------------------------------------------------------------------\u001b[0m",
      "\u001b[1;31mZeroDivisionError\u001b[0m                         Traceback (most recent call last)",
      "\u001b[1;32m~\\AppData\\Local\\Temp/ipykernel_16132/1498102653.py\u001b[0m in \u001b[0;36m<module>\u001b[1;34m\u001b[0m\n\u001b[0;32m      5\u001b[0m \u001b[1;31m# operation\u001b[0m\u001b[1;33m\u001b[0m\u001b[1;33m\u001b[0m\u001b[0m\n\u001b[0;32m      6\u001b[0m \u001b[1;32mtry\u001b[0m\u001b[1;33m:\u001b[0m\u001b[1;33m\u001b[0m\u001b[1;33m\u001b[0m\u001b[0m\n\u001b[1;32m----> 7\u001b[1;33m     \u001b[0mc\u001b[0m \u001b[1;33m=\u001b[0m \u001b[0ma\u001b[0m \u001b[1;33m/\u001b[0m \u001b[0mb\u001b[0m\u001b[1;33m\u001b[0m\u001b[1;33m\u001b[0m\u001b[0m\n\u001b[0m\u001b[0;32m      8\u001b[0m     \u001b[0mprint\u001b[0m\u001b[1;33m(\u001b[0m\u001b[0mc\u001b[0m\u001b[1;33m)\u001b[0m\u001b[1;33m\u001b[0m\u001b[1;33m\u001b[0m\u001b[0m\n\u001b[0;32m      9\u001b[0m \u001b[1;32mfinally\u001b[0m\u001b[1;33m:\u001b[0m\u001b[1;33m\u001b[0m\u001b[1;33m\u001b[0m\u001b[0m\n",
      "\u001b[1;31mZeroDivisionError\u001b[0m: division by zero"
     ]
    }
   ],
   "source": [
    "print('start')\n",
    "a = 10\n",
    "b = 0\n",
    "\n",
    "# operation\n",
    "try:\n",
    "    c = a / b\n",
    "    print(c)\n",
    "finally:    \n",
    "    print('stop')"
   ]
  },
  {
   "cell_type": "code",
   "execution_count": null,
   "metadata": {},
   "outputs": [],
   "source": []
  },
  {
   "cell_type": "code",
   "execution_count": null,
   "metadata": {},
   "outputs": [],
   "source": []
  },
  {
   "cell_type": "code",
   "execution_count": null,
   "metadata": {},
   "outputs": [],
   "source": [
    "         "
   ]
  },
  {
   "cell_type": "code",
   "execution_count": null,
   "metadata": {},
   "outputs": [],
   "source": []
  }
 ],
 "metadata": {
  "interpreter": {
   "hash": "ac63e7d2902d829a95718f514f583b39cb52f10e7c5524becb094a341f2ea3ca"
  },
  "kernelspec": {
   "display_name": "Python 3.10.1 64-bit (windows store)",
   "language": "python",
   "name": "python3"
  },
  "language_info": {
   "codemirror_mode": {
    "name": "ipython",
    "version": 3
   },
   "file_extension": ".py",
   "mimetype": "text/x-python",
   "name": "python",
   "nbconvert_exporter": "python",
   "pygments_lexer": "ipython3",
   "version": "3.10.1"
  },
  "orig_nbformat": 4
 },
 "nbformat": 4,
 "nbformat_minor": 2
}
