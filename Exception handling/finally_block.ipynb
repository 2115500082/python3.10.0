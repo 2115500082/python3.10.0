{
 "cells": [
  {
   "cell_type": "code",
   "execution_count": 4,
   "metadata": {},
   "outputs": [
    {
     "name": "stdout",
     "output_type": "stream",
     "text": [
      "\n"
     ]
    }
   ],
   "source": [
    "# try-except-finally  or try-except-else-finally\n",
    "'''\n",
    "1. finally block is always executed after leaving the try statement. \n",
    "   In case if some exception was not handled by except block, it is re-raised after execution of finally block.\n",
    "2. finally block is used to deallocate the system resources***.\n",
    "'''\n",
    "# try-finally\n",
    "'''\n",
    "3. One can use finally just after try without using except block, but no exception is handled in that case.\n",
    "'''\n"
   ]
  },
  {
   "cell_type": "code",
   "execution_count": 13,
   "metadata": {},
   "outputs": [
    {
     "name": "stdout",
     "output_type": "stream",
     "text": [
      "start process...\n",
      "5.0\n",
      "Operation is succesful\n",
      "Stop.\n"
     ]
    }
   ],
   "source": [
    "# division of two numbers \n",
    "\n",
    "print('start process...')\n",
    "a = 10\n",
    "b = 2\n",
    "try :\n",
    "    # operation\n",
    "    c = a / b\n",
    "    print(c)\n",
    "except:\n",
    "    print('Got an Error ')\n",
    "    print(msg)\n",
    "else:\n",
    "    print('Operation is succesful')\n",
    "finally:\n",
    "    print('Stop.')\n",
    "\n"
   ]
  }
 ],
 "metadata": {
  "interpreter": {
   "hash": "ac63e7d2902d829a95718f514f583b39cb52f10e7c5524becb094a341f2ea3ca"
  },
  "kernelspec": {
   "display_name": "Python 3.10.1 64-bit (windows store)",
   "language": "python",
   "name": "python3"
  },
  "language_info": {
   "codemirror_mode": {
    "name": "ipython",
    "version": 3
   },
   "file_extension": ".py",
   "mimetype": "text/x-python",
   "name": "python",
   "nbconvert_exporter": "python",
   "pygments_lexer": "ipython3",
   "version": "3.10.1"
  },
  "orig_nbformat": 4
 },
 "nbformat": 4,
 "nbformat_minor": 2
}
