{
 "cells": [
  {
   "cell_type": "code",
   "execution_count": 2,
   "metadata": {},
   "outputs": [
    {
     "name": "stdout",
     "output_type": "stream",
     "text": [
      "[8, -1, 6, 3]\n",
      "[ 8. -1.  6.  3.]\n"
     ]
    }
   ],
   "source": [
    "# read array from user \n",
    "import numpy as np\n",
    "lst = list(map(eval, input().split()))  # ['3', '4', '5', '75', '-56']\n",
    "arr = np.array(lst, dtype='float')\n",
    "lst.reverse()\n",
    "arr = arr[::-1]\n",
    "print(lst)\n",
    "print(arr)"
   ]
  },
  {
   "cell_type": "code",
   "execution_count": null,
   "metadata": {},
   "outputs": [],
   "source": [
    "# You are given a space separated list of nine integers. \n",
    "# Your task is to convert this list into 3x3 numpy array\n",
    "import numpy as np\n",
    "lst = list(map(eval, input().split()))  # ['3', '4', '5', '75', '-56']\n",
    "arr = np.array(lst).reshape(3, 3)\n",
    "print(arr)"
   ]
  },
  {
   "cell_type": "code",
   "execution_count": 6,
   "metadata": {},
   "outputs": [
    {
     "name": "stdout",
     "output_type": "stream",
     "text": [
      "[[3 5]\n",
      " [7 8]]\n"
     ]
    }
   ],
   "source": [
    "# shape and reshape()\n",
    "\n",
    "arr = np.array([3, 5, 7, 8])\n",
    "tre = arr.reshape(2, 2)\n",
    "arr.shape = 2, 2\n",
    "print(arr)"
   ]
  },
  {
   "cell_type": "code",
   "execution_count": 7,
   "metadata": {},
   "outputs": [
    {
     "name": "stdout",
     "output_type": "stream",
     "text": [
      "[[1. 0. 0. 0. 0. 0. 0. 0. 0. 0.]\n",
      " [0. 1. 0. 0. 0. 0. 0. 0. 0. 0.]\n",
      " [0. 0. 1. 0. 0. 0. 0. 0. 0. 0.]\n",
      " [0. 0. 0. 1. 0. 0. 0. 0. 0. 0.]\n",
      " [0. 0. 0. 0. 1. 0. 0. 0. 0. 0.]\n",
      " [0. 0. 0. 0. 0. 1. 0. 0. 0. 0.]\n",
      " [0. 0. 0. 0. 0. 0. 1. 0. 0. 0.]\n",
      " [0. 0. 0. 0. 0. 0. 0. 1. 0. 0.]\n",
      " [0. 0. 0. 0. 0. 0. 0. 0. 1. 0.]\n",
      " [0. 0. 0. 0. 0. 0. 0. 0. 0. 1.]]\n"
     ]
    }
   ],
   "source": [
    "'''Your task is to print an array of size NxM with its main diagonal \n",
    "elements as 1’s and 0’s everywhere else'''\n",
    "M, N = map(int, input().split())  # '3 3'\n",
    "arr = np.eye(M, N)\n",
    "print(arr)\n"
   ]
  },
  {
   "cell_type": "code",
   "execution_count": null,
   "metadata": {},
   "outputs": [],
   "source": [
    "import numpy as np\n",
    "n,m = map(int, input().split())\n",
    "lst1 = list(map(int, input().split()))\n",
    "lst2 = list(map(int, input().split()))\n",
    "arr1 = np.array(lst1).reshape(n,m)\n",
    "arr2 = np.array(lst2).reshape(n,m)\n",
    "multiply = arr1*arr2\n",
    "addition = np.add(arr1,arr2)\n",
    "subtract = np.subtract(arr1,arr2)\n",
    "power = arr1**arr2\n",
    "modulus = arr1%arr2\n",
    "print(multiply)\n",
    "print(addition)\n",
    "print(subtract)\n",
    "print(power)\n",
    "print(modulus)\n"
   ]
  },
  {
   "cell_type": "code",
   "execution_count": 2,
   "metadata": {},
   "outputs": [
    {
     "name": "stdout",
     "output_type": "stream",
     "text": [
      "[ 1  2  3  4  5  6  7  8  9 10 11 12]\n",
      "[[ 1  2  3  4]\n",
      " [ 5  6  7  8]\n",
      " [ 9 10 11 12]]\n"
     ]
    }
   ],
   "source": [
    "import numpy as np\n",
    "arr1 = np.arange(1, 13)\n",
    "print(arr1)\n",
    "arr1.shape= (3, 4)\n",
    "print(arr1)"
   ]
  }
 ],
 "metadata": {
  "interpreter": {
   "hash": "ac63e7d2902d829a95718f514f583b39cb52f10e7c5524becb094a341f2ea3ca"
  },
  "kernelspec": {
   "display_name": "Python 3.10.1 64-bit (windows store)",
   "language": "python",
   "name": "python3"
  },
  "language_info": {
   "codemirror_mode": {
    "name": "ipython",
    "version": 3
   },
   "file_extension": ".py",
   "mimetype": "text/x-python",
   "name": "python",
   "nbconvert_exporter": "python",
   "pygments_lexer": "ipython3",
   "version": "3.10.1"
  },
  "orig_nbformat": 4
 },
 "nbformat": 4,
 "nbformat_minor": 2
}
