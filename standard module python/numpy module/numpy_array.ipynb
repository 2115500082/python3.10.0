{
 "cells": [
  {
   "cell_type": "code",
   "execution_count": 16,
   "metadata": {},
   "outputs": [],
   "source": [
    "# Numerical Python \n",
    "import numpy as np"
   ]
  },
  {
   "cell_type": "code",
   "execution_count": 23,
   "metadata": {},
   "outputs": [
    {
     "name": "stdout",
     "output_type": "stream",
     "text": [
      "[260, 5, 6, 86, -1, 11] <class 'list'>\n",
      "[  4   5   6  86 255  11] <class 'numpy.ndarray'>\n"
     ]
    }
   ],
   "source": [
    "# array(): convert the sequence into numpy ndarray \n",
    "lst = [260, 5, 6, 86, -1, 11]\n",
    "print(lst, type(lst))\n",
    "arr = np.array(lst, dtype='uint8')\n",
    "print(arr, type(arr))\n"
   ]
  },
  {
   "cell_type": "code",
   "execution_count": 24,
   "metadata": {},
   "outputs": [
    {
     "name": "stdout",
     "output_type": "stream",
     "text": [
      "[[ 2  5]\n",
      " [11 67]]\n"
     ]
    }
   ],
   "source": [
    "lst = [[2, 5], [11, 67]]\n",
    "narr = np.array(lst)\n",
    "print(narr)"
   ]
  },
  {
   "cell_type": "code",
   "execution_count": 26,
   "metadata": {},
   "outputs": [
    {
     "data": {
      "text/plain": [
       "(2, 2)"
      ]
     },
     "execution_count": 26,
     "metadata": {},
     "output_type": "execute_result"
    }
   ],
   "source": [
    "narr.shape"
   ]
  },
  {
   "cell_type": "code",
   "execution_count": 6,
   "metadata": {},
   "outputs": [
    {
     "data": {
      "text/plain": [
       "1"
      ]
     },
     "execution_count": 6,
     "metadata": {},
     "output_type": "execute_result"
    }
   ],
   "source": [
    "arr.ndim"
   ]
  },
  {
   "cell_type": "code",
   "execution_count": 11,
   "metadata": {},
   "outputs": [
    {
     "data": {
      "text/plain": [
       "array([[ 1,  3,  4],\n",
       "       [ 5,  7, 40]])"
      ]
     },
     "execution_count": 11,
     "metadata": {},
     "output_type": "execute_result"
    }
   ],
   "source": [
    "arr.shape = 2, 3\n",
    "arr "
   ]
  },
  {
   "cell_type": "code",
   "execution_count": 15,
   "metadata": {},
   "outputs": [
    {
     "name": "stdout",
     "output_type": "stream",
     "text": [
      "[[ 1  3  4]\n",
      " [ 5  7 40]]\n"
     ]
    }
   ],
   "source": [
    "out = arr.reshape(2, 3)\n",
    "print(out)"
   ]
  },
  {
   "cell_type": "code",
   "execution_count": 4,
   "metadata": {},
   "outputs": [
    {
     "name": "stdout",
     "output_type": "stream",
     "text": [
      "2\n"
     ]
    }
   ],
   "source": [
    "lst = [[[1], [2]], [[3], [6]]]\n",
    "ele = lst[0][1]\n",
    "print(ele)"
   ]
  },
  {
   "cell_type": "code",
   "execution_count": 1,
   "metadata": {},
   "outputs": [
    {
     "name": "stdout",
     "output_type": "stream",
     "text": [
      "[255, 257, 7, 4, 43]\n",
      "[255   1   7   4  43]\n"
     ]
    }
   ],
   "source": [
    "import numpy as np\n",
    "lst = [255, 257, 7, 4, 43]\n",
    "print(lst)\n",
    "arr = np.array(lst, dtype='uint8')\n",
    "print(arr)"
   ]
  },
  {
   "cell_type": "code",
   "execution_count": 1,
   "metadata": {},
   "outputs": [],
   "source": [
    "import numpy as np\n",
    "import matplotlib.pyplot as plt\n"
   ]
  },
  {
   "cell_type": "code",
   "execution_count": 3,
   "metadata": {},
   "outputs": [
    {
     "data": {
      "image/png": "[encoded data removed]",
      "text/plain": [
       "<Figure size 432x288 with 1 Axes>"
      ]
     },
     "metadata": {
      "needs_background": "light"
     },
     "output_type": "display_data"
    }
   ],
   "source": [
    "arr = np.arange(1, 10, .5)\n",
    "y_data = np.sin(arr)\n",
    "y_data2 = np.cos(arr)\n",
    "plt.plot(arr, y_data, arr, y_data2)\n",
    "plt.show()\n"
   ]
  },
  {
   "cell_type": "code",
   "execution_count": null,
   "metadata": {},
   "outputs": [],
   "source": []
  },
  {
   "cell_type": "markdown",
   "metadata": {},
   "source": []
  },
  {
   "cell_type": "markdown",
   "metadata": {},
   "source": [
    "import numpy as np\n",
    "\n",
    "arr = np.array([[2, 4, 5], [4, 78, 90]], ndmin=3)\n",
    "print(arr)\n",
    "print(arr.ndim) "
   ]
  },
  {
   "cell_type": "code",
   "execution_count": 10,
   "metadata": {},
   "outputs": [
    {
     "name": "stdout",
     "output_type": "stream",
     "text": [
      "[-1, 4, 6, 65, -100]\n",
      "[  -1    4    6   65 -100]\n"
     ]
    }
   ],
   "source": [
    "import numpy as np\n",
    "\n",
    "lst = [-129, 130, 6, 65, -100]\n",
    "print(lst)\n",
    "arr = np.array(lst, dtype='int8')\n",
    "print(arr)"
   ]
  },
  {
   "cell_type": "code",
   "execution_count": 2,
   "metadata": {},
   "outputs": [
    {
     "name": "stdout",
     "output_type": "stream",
     "text": [
      "{1, 2, 4, 5, 7, 10, 14, 20, 22, 34, 37, 39, 40, 42, 43, 49, 51, 54, 56, 68, 69, 70, 73, 75}\n"
     ]
    }
   ],
   "source": [
    "st = {11,63,57,62,21,76,31,32,48,72,12,53,52,64,65,6,60,16,58,71,67,28,18,35,55,46,9,25,27,17,8,13,19,24,33,47,36,38,59,23,3,61,66,41,26,57,44,13,9,30,29,50,15,45,74}\n",
    "ab = set(range(1, 77)) - st\n",
    "print(ab)"
   ]
  },
  {
   "cell_type": "code",
   "execution_count": 23,
   "metadata": {},
   "outputs": [
    {
     "name": "stdout",
     "output_type": "stream",
     "text": [
      "[[1 3 5]\n",
      " [4 6 7]]\n",
      "[[1 3 5]\n",
      " [4 6 7]]\n",
      "[[ 1  9 25]\n",
      " [16 36 49]]\n"
     ]
    }
   ],
   "source": [
    "# 2D array\n",
    "import numpy as np\n",
    "arr1 = np.array([[1, 3, 5], [4, 6, 7]])\n",
    "print(arr1)\n",
    "arr2 = np.array([[1, 3, 5], [4, 6, 7]])\n",
    "print(arr2)\n",
    "\n",
    "arr = arr1 * arr2\n",
    "print(arr)"
   ]
  },
  {
   "cell_type": "code",
   "execution_count": 25,
   "metadata": {},
   "outputs": [
    {
     "name": "stdout",
     "output_type": "stream",
     "text": [
      "[[1 3 5]\n",
      " [4 6 7]]\n",
      "[[1 3 5]\n",
      " [4 6 7]]\n",
      "[[46 50]\n",
      " [76 85]]\n"
     ]
    }
   ],
   "source": [
    "arr1 = np.array([[1, 3, 5], [4, 6, 7]])\n",
    "print(arr1)\n",
    "arr2 = np.array([[1, 3, 5], [4, 6, 7]])\n",
    "print(arr2)\n",
    "arr2.shape = 3, 2\n",
    "arr = np.dot(arr1, arr2)\n",
    "print(arr)"
   ]
  },
  {
   "cell_type": "code",
   "execution_count": 28,
   "metadata": {},
   "outputs": [
    {
     "name": "stdout",
     "output_type": "stream",
     "text": [
      "[[2, 6, 10], [8, 12, 14]]\n"
     ]
    }
   ],
   "source": [
    "arr1 = [[1, 3, 5], [4, 6, 7]]\n",
    "arr2 = [[1, 3, 5], [4, 6, 7]]\n",
    "\n",
    "c = len(arr1[0])\n",
    "r = len(arr1)\n",
    "\n",
    "arr = []\n",
    "for i in range(r):\n",
    "    tmp = []\n",
    "    for j in range(c):\n",
    "        tmp.append(arr1[i][j] + arr2[i][j])\n",
    "    arr.append(tmp)\n",
    "    \n",
    "print(arr)        \n"
   ]
  },
  {
   "cell_type": "code",
   "execution_count": 36,
   "metadata": {},
   "outputs": [
    {
     "name": "stdout",
     "output_type": "stream",
     "text": [
      "[[1 3 5]\n",
      " [4 6 7]]\n",
      "[ 5  9 12]\n"
     ]
    }
   ],
   "source": [
    "arr1 = np.array([[1, 3, 5], [4, 6, 7]])\n",
    "print(arr1)\n",
    "arr2 = np.array([[1, 3, 5], [4, 6, 7]])\n",
    "# print(arr2)\n",
    "\n",
    "arr = np.sum(arr1, axis=0)\n",
    "print(arr)"
   ]
  },
  {
   "cell_type": "code",
   "execution_count": 50,
   "metadata": {},
   "outputs": [
    {
     "data": {
      "text/plain": [
       "array([1, 3, 2, 4])"
      ]
     },
     "execution_count": 50,
     "metadata": {},
     "output_type": "execute_result"
    }
   ],
   "source": [
    "a = np.array([[[1,2], [3,4]]])\n",
    "a.flatten('F')"
   ]
  },
  {
   "cell_type": "code",
   "execution_count": 73,
   "metadata": {},
   "outputs": [
    {
     "name": "stdout",
     "output_type": "stream",
     "text": [
      "[[2 5 7]\n",
      " [6 8 9]]\n",
      "[[3 5]\n",
      " [7 4]\n",
      " [7 0]]\n",
      "[[ 90  30]\n",
      " [137  62]]\n"
     ]
    }
   ],
   "source": [
    "import numpy as np\n",
    "ls1 = [[2, 5, 7],[6, 8, 9]]\n",
    "ls2 = [[3, 5, 7], [4, 7, 0]]\n",
    "arr1 = np.array(ls1)\n",
    "arr2 = np.array(ls2)\n",
    "print(arr1)\n",
    "arr2.shape = 3, 2\n",
    "print(arr2\n",
    "arr_re = np.dot(arr1, arr2)\n",
    "\n",
    "print(arr_re)"
   ]
  },
  {
   "cell_type": "code",
   "execution_count": 67,
   "metadata": {},
   "outputs": [
    {
     "name": "stdout",
     "output_type": "stream",
     "text": [
      "[[2, 5, 7], [6, 8, 9]]\n",
      "\n",
      "[[3, 5, 7], [4, 7, 0]]\n",
      "\n",
      "[[5, 10, 14], [10, 15, 9]]\n"
     ]
    }
   ],
   "source": [
    "ls1 = [[2, 5, 7],[6, 8, 9]]\n",
    "ls2 = [[3, 5, 7], [4, 7, 0]]\n",
    "print(ls1, end='\\n\\n')\n",
    "print(ls2, end='\\n\\n')\n",
    "r1 = len(ls1)\n",
    "c1 = len(ls1[0])\n",
    "\n",
    "r2 = len(ls2)\n",
    "c2 = len(ls2[0])\n",
    "\n",
    "res_ls = []\n",
    "# logic section\n",
    "if (r1, c1) == (r2, c2):\n",
    "    for i in range(r1):\n",
    "        tmp = []\n",
    "        for j in range(c1):\n",
    "            tmp.append(ls1[i][j] + ls2[i][j])\n",
    "        res_ls.append(tmp)    \n",
    "else:\n",
    "    print('dimensions not valid') \n",
    "\n",
    "print(res_ls)\n"
   ]
  },
  {
   "cell_type": "code",
   "execution_count": 90,
   "metadata": {},
   "outputs": [
    {
     "name": "stdout",
     "output_type": "stream",
     "text": [
      "[[3 6 8]\n",
      " [1 7 0]]\n",
      "[[3 7]\n",
      " [9 0]\n",
      " [4 6]]\n",
      "\n",
      "[[95 69]\n",
      " [66  7]]\n"
     ]
    }
   ],
   "source": [
    "# matrix \n",
    "import numpy as np\n",
    "lst1 = [[3, 6, 8], [1, 7, 0]]\n",
    "lst2 = [[3, 7, 9], [0, 4, 6]]\n",
    "\n",
    "arr1 = np.array(lst1)\n",
    "arr2 = np.array(lst2)\n",
    "print(arr1)\n",
    "arr2.shape = 3, 2\n",
    "print(arr2, end='\\n\\n')\n",
    "# addition of two matrix \n",
    "\n",
    "arr_re = np.dot(arr1, arr2)\n",
    "\n",
    "print(arr_re)"
   ]
  },
  {
   "cell_type": "code",
   "execution_count": 81,
   "metadata": {},
   "outputs": [
    {
     "name": "stdout",
     "output_type": "stream",
     "text": [
      "[[3, 6, 8], [1, 7, 0]]\n",
      "[[3, 7, 9], [0, 4, 6]]\n",
      "[[1, 11, 6], [1, 11, 6]]\n"
     ]
    }
   ],
   "source": [
    "lst1 = [[3, 6, 8], [1, 7, 0]]\n",
    "lst2 = [[3, 7, 9], [0, 4, 6]]\n",
    "print(lst1)\n",
    "print(lst2)\n",
    "r1 = len(lst1)\n",
    "c1 = len(lst1[0])\n",
    "r2 = len(lst2)\n",
    "c2 = len(lst2[0])\n",
    "\n",
    "# main logic for addition of matrix lst1 and lst2 \n",
    "\n",
    "res = [[0]*c1]*r1\n",
    "if (r1, c1) == (r2, c2):\n",
    "    for i in range(r1):\n",
    "        for j in range(c1):\n",
    "            res[i][j] = lst1[i][j] + lst2[i][j]\n",
    "          \n",
    "else:\n",
    "    print('Invalid matrix ')\n",
    "\n",
    "print(res)\n"
   ]
  },
  {
   "cell_type": "code",
   "execution_count": 88,
   "metadata": {},
   "outputs": [
    {
     "name": "stdout",
     "output_type": "stream",
     "text": [
      "[[], [2], [2]]\n"
     ]
    }
   ],
   "source": [
    "k = [[0]*c1 for i in range(r1)]\n",
    "k[0].clear()\n",
    "print(k)"
   ]
  },
  {
   "cell_type": "code",
   "execution_count": null,
   "metadata": {},
   "outputs": [],
   "source": [
    "()"
   ]
  }
 ],
 "metadata": {
  "interpreter": {
   "hash": "ac63e7d2902d829a95718f514f583b39cb52f10e7c5524becb094a341f2ea3ca"
  },
  "kernelspec": {
   "display_name": "Python 3.10.1 64-bit (windows store)",
   "language": "python",
   "name": "python3"
  },
  "language_info": {
   "codemirror_mode": {
    "name": "ipython",
    "version": 3
   },
   "file_extension": ".py",
   "mimetype": "text/x-python",
   "name": "python",
   "nbconvert_exporter": "python",
   "pygments_lexer": "ipython3",
   "version": "3.7.1"
  },
  "orig_nbformat": 4
 },
 "nbformat": 4,
 "nbformat_minor": 2
}
