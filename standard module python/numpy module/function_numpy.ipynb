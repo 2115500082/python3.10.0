{
 "cells": [
  {
   "cell_type": "code",
   "execution_count": 1,
   "metadata": {},
   "outputs": [],
   "source": [
    "# numpy module \n",
    "import numpy as np"
   ]
  },
  {
   "cell_type": "code",
   "execution_count": null,
   "metadata": {},
   "outputs": [],
   "source": [
    "# function array(): use to convert the sequence into ndarray\n",
    "\n",
    "arr = np.array([2, 5, 6, 7])\n",
    "print(arr)"
   ]
  },
  {
   "cell_type": "code",
   "execution_count": 28,
   "metadata": {},
   "outputs": [
    {
     "name": "stdout",
     "output_type": "stream",
     "text": [
      "[2 4 6 7 8 8]\n",
      "[[2 4 6 7 8 8]]\n"
     ]
    }
   ],
   "source": [
    "# reshape(): \n",
    "arr = np.array([2, 4, 6, 7, 8, 8])\n",
    "out = arr.reshape(1, 6)\n",
    "print(arr)\n",
    "print(out)"
   ]
  },
  {
   "cell_type": "code",
   "execution_count": 36,
   "metadata": {},
   "outputs": [
    {
     "name": "stdout",
     "output_type": "stream",
     "text": [
      "[ 0.   2.5  5.   7.5 10. ]\n",
      "[0. 0. 1. 1. 2.]\n"
     ]
    }
   ],
   "source": [
    "# arange()\n",
    "# ls = range(1, 10, 3.5)  # error \n",
    "arr = np.arange(0, 10.5, 2.5)\n",
    "\n",
    "out = arr // 5\n",
    "print(arr)\n",
    "print(out)\n",
    "\n",
    "# ls = [4, 7, 99]\n",
    "# out = ls + 5  # error\n",
    "# print(out)"
   ]
  },
  {
   "cell_type": "code",
   "execution_count": 15,
   "metadata": {},
   "outputs": [
    {
     "name": "stdout",
     "output_type": "stream",
     "text": [
      "[-0.54402111 -0.99999021 -0.53657292  0.42016704  0.99060736  0.65028784\n",
      " -0.28790332 -0.96139749 -0.75098725  0.14987721]\n"
     ]
    }
   ],
   "source": [
    "# sin()\n",
    "arr = np.arange(10, 20)\n",
    "out = np.sin(arr)\n",
    "print(out)"
   ]
  },
  {
   "cell_type": "code",
   "execution_count": 20,
   "metadata": {},
   "outputs": [
    {
     "name": "stdout",
     "output_type": "stream",
     "text": [
      "1\n"
     ]
    }
   ],
   "source": [
    "num = np.random.randint(1, 3)\n",
    "print(num)"
   ]
  },
  {
   "cell_type": "code",
   "execution_count": 18,
   "metadata": {},
   "outputs": [
    {
     "name": "stdout",
     "output_type": "stream",
     "text": [
      "90\n"
     ]
    }
   ],
   "source": [
    "arr = np.array([3, 65, 6, 90])\n",
    "k = arr.max()\n",
    "print(k)"
   ]
  },
  {
   "cell_type": "code",
   "execution_count": 39,
   "metadata": {},
   "outputs": [
    {
     "name": "stdout",
     "output_type": "stream",
     "text": [
      "[[ 1  2  3]\n",
      " [ 4  5  6]\n",
      " [ 7  8  9]\n",
      " [10 11 12]]\n",
      "[ 6 15 24 33]\n"
     ]
    }
   ],
   "source": [
    "# sum\n",
    "arr = np.arange(1, 13).reshape(4, 3)\n",
    "out = np.sum(arr, 1)\n",
    "print(arr)\n",
    "print(out)\n"
   ]
  }
 ],
 "metadata": {
  "interpreter": {
   "hash": "ac63e7d2902d829a95718f514f583b39cb52f10e7c5524becb094a341f2ea3ca"
  },
  "kernelspec": {
   "display_name": "Python 3.10.1 64-bit (windows store)",
   "language": "python",
   "name": "python3"
  },
  "language_info": {
   "codemirror_mode": {
    "name": "ipython",
    "version": 3
   },
   "file_extension": ".py",
   "mimetype": "text/x-python",
   "name": "python",
   "nbconvert_exporter": "python",
   "pygments_lexer": "ipython3",
   "version": "3.10.1"
  },
  "orig_nbformat": 4
 },
 "nbformat": 4,
 "nbformat_minor": 2
}
