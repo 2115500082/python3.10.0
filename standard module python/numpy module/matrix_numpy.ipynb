{
 "cells": [
  {
   "cell_type": "code",
   "execution_count": 2,
   "metadata": {},
   "outputs": [
    {
     "name": "stdout",
     "output_type": "stream",
     "text": [
      "[[1 2 4]\n",
      " [0 1 0]]\n",
      "[[ 2 55  7]\n",
      " [ 1  4  7]]\n",
      "\n",
      "[[ 3 57 11]\n",
      " [ 1  5  7]]\n"
     ]
    }
   ],
   "source": [
    "import numpy as np\n",
    "\n",
    "ls1 = [[1, 2, 4], [0, 1, 0]]\n",
    "ls2 = [[2, 55, 7], [1, 4, 7]]\n",
    "\n",
    "arr1 = np.array(ls1)\n",
    "arr2 = np.array(ls2)\n",
    "\n",
    "# addition of two matrix \n",
    "if arr1.shape == arr2.shape:\n",
    "    # out = arr1 + arr2\n",
    "    out = np.add(arr1, arr2)\n",
    "else:\n",
    "    print('Not Valid Matrix for Addition')    \n",
    "\n",
    "print(arr1)\n",
    "print(arr2, end='\\n\\n')\n",
    "print(out)\n",
    "\n",
    "# ishan - 9179199191\n"
   ]
  },
  {
   "cell_type": "code",
   "execution_count": 8,
   "metadata": {},
   "outputs": [
    {
     "name": "stdout",
     "output_type": "stream",
     "text": [
      "[[1 2 4]\n",
      " [0 1 0]]\n",
      "[[ 2 55]\n",
      " [ 7  1]\n",
      " [ 4  7]]\n",
      "\n",
      "[[32 85]\n",
      " [ 7  1]]\n"
     ]
    }
   ],
   "source": [
    "import numpy as np\n",
    "\n",
    "ls1 = [[1, 2, 4], [0, 1, 0]]\n",
    "ls2 = [[2, 55, 7], [1, 4, 7]]\n",
    "\n",
    "arr1 = np.array(ls1)\n",
    "arr2 = np.array(ls2)\n",
    "arr2.shape = 3, 2\n",
    "# multiplication of two matrix \n",
    "if arr1.shape[-1] == arr2.shape[0]:\n",
    "    # out = arr1 + arr2\n",
    "    out = np.dot(arr1, arr2)\n",
    "else:\n",
    "    print('Not Valid Matrix for Addition')    \n",
    "\n",
    "print(arr1)\n",
    "print(arr2, end='\\n\\n')\n",
    "print(out)"
   ]
  },
  {
   "cell_type": "code",
   "execution_count": 5,
   "metadata": {},
   "outputs": [
    {
     "data": {
      "text/plain": [
       "(2, 3)"
      ]
     },
     "execution_count": 5,
     "metadata": {},
     "output_type": "execute_result"
    }
   ],
   "source": [
    "arr1.shape"
   ]
  },
  {
   "cell_type": "code",
   "execution_count": 4,
   "metadata": {},
   "outputs": [
    {
     "name": "stdout",
     "output_type": "stream",
     "text": [
      "[[1, 2, 4], [0, 1, 0]]\n",
      "[[2, 55, 7], [1, 4, 7]]\n",
      "[[3, 57, 11], [1, 5, 7]]\n"
     ]
    }
   ],
   "source": [
    "ls1 = [[1, 2, 4], [0, 1, 0]]\n",
    "ls2 = [[2, 55, 7], [1, 4, 7]]\n",
    "\n",
    "r1 = len(ls1)\n",
    "c1 = len(ls1[0])\n",
    "r2 = len(ls2)\n",
    "c2 = len(ls2[0])\n",
    "\n",
    "out = []\n",
    "if [r1, c1] == [r2, c2]:\n",
    "    for i in range(r1):\n",
    "        tmp = []\n",
    "        for j in range(c1):\n",
    "            tmp.append(ls1[i][j] + ls2[i][j])\n",
    "        out.append(tmp)    \n",
    "else:\n",
    "    print('Not valid matrix') \n",
    "\n",
    "\n",
    "print(ls1)\n",
    "print(ls2)\n",
    "print(out)"
   ]
  }
 ],
 "metadata": {
  "interpreter": {
   "hash": "ac63e7d2902d829a95718f514f583b39cb52f10e7c5524becb094a341f2ea3ca"
  },
  "kernelspec": {
   "display_name": "Python 3.10.1 64-bit (windows store)",
   "language": "python",
   "name": "python3"
  },
  "language_info": {
   "codemirror_mode": {
    "name": "ipython",
    "version": 3
   },
   "file_extension": ".py",
   "mimetype": "text/x-python",
   "name": "python",
   "nbconvert_exporter": "python",
   "pygments_lexer": "ipython3",
   "version": "3.10.1"
  },
  "orig_nbformat": 4
 },
 "nbformat": 4,
 "nbformat_minor": 2
}
