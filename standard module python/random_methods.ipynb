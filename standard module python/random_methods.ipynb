{
 "cells": [
  {
   "cell_type": "code",
   "execution_count": 11,
   "metadata": {},
   "outputs": [
    {
     "name": "stdout",
     "output_type": "stream",
     "text": [
      "1\n"
     ]
    }
   ],
   "source": [
    "# module random \n",
    "import random \n",
    "num = random.randrange(1, 10, 3)\n",
    "print(num)\n"
   ]
  },
  {
   "cell_type": "code",
   "execution_count": 20,
   "metadata": {},
   "outputs": [
    {
     "name": "stdout",
     "output_type": "stream",
     "text": [
      "2\n"
     ]
    }
   ],
   "source": [
    "# randint()\n",
    "num = random.randint(1, 2)\n",
    "print(num)"
   ]
  },
  {
   "cell_type": "code",
   "execution_count": 32,
   "metadata": {},
   "outputs": [
    {
     "name": "stdout",
     "output_type": "stream",
     "text": [
      "0.43675851436226243\n"
     ]
    }
   ],
   "source": [
    "# random(): \n",
    "num = random.random()\n",
    "print(num)"
   ]
  },
  {
   "cell_type": "code",
   "execution_count": 38,
   "metadata": {},
   "outputs": [
    {
     "name": "stdout",
     "output_type": "stream",
     "text": [
      "7066\n"
     ]
    }
   ],
   "source": [
    "# program to generate the 4 digit otp \n",
    "\n",
    "# method 1\n",
    "otp = random.randint(1000, 9999)\n",
    "print(otp)\n"
   ]
  },
  {
   "cell_type": "code",
   "execution_count": 46,
   "metadata": {},
   "outputs": [
    {
     "name": "stdout",
     "output_type": "stream",
     "text": [
      "0753\n"
     ]
    }
   ],
   "source": [
    "# program to generate the 4 digit otp \n",
    "\n",
    "# method 2\n",
    "num = random.random()\n",
    "otp = str(num)[-4:]\n",
    "print(otp)"
   ]
  },
  {
   "cell_type": "code",
   "execution_count": 49,
   "metadata": {},
   "outputs": [
    {
     "name": "stdout",
     "output_type": "stream",
     "text": [
      "ello\n"
     ]
    }
   ],
   "source": [
    "st = 'hello'\n",
    "k = st[-4:]\n",
    "print(k)"
   ]
  },
  {
   "cell_type": "code",
   "execution_count": 56,
   "metadata": {},
   "outputs": [
    {
     "name": "stdout",
     "output_type": "stream",
     "text": [
      "0\n"
     ]
    }
   ],
   "source": [
    "num = random.getrandbits(16)\n",
    "print(num)"
   ]
  },
  {
   "cell_type": "code",
   "execution_count": 58,
   "metadata": {},
   "outputs": [
    {
     "name": "stdout",
     "output_type": "stream",
     "text": [
      "venky\n"
     ]
    }
   ],
   "source": [
    "# choice()\n",
    "lst = ['latika', 'venky', 'abcd']\n",
    "out = random.choice(lst)\n",
    "print(out)"
   ]
  },
  {
   "cell_type": "code",
   "execution_count": 72,
   "metadata": {},
   "outputs": [
    {
     "name": "stdout",
     "output_type": "stream",
     "text": [
      "['k', 'a', 'a', 'k', 'a']\n"
     ]
    }
   ],
   "source": [
    "# choices()\n",
    "# lst = ['latika', 'venky', 'abcd', 'rakesh']\n",
    "lst = 'rakesh'\n",
    "out = random.choices(lst, [1, 3, 3, 1, 1, 1], k=5)\n",
    "print(out)\n"
   ]
  },
  {
   "cell_type": "code",
   "execution_count": 79,
   "metadata": {},
   "outputs": [
    {
     "name": "stdout",
     "output_type": "stream",
     "text": [
      "[14, 43, 56]\n"
     ]
    }
   ],
   "source": [
    "# sample \n",
    "# lst = ['latika', 'venky', 'abcd', 'rakesh']\n",
    "lst = range(1, 74)\n",
    "# lst = 'rakesh'\n",
    "out = random.sample(lst, k=3)\n",
    "print(out)"
   ]
  },
  {
   "cell_type": "code",
   "execution_count": 84,
   "metadata": {},
   "outputs": [
    {
     "name": "stdout",
     "output_type": "stream",
     "text": [
      "[1, 2, 5, 7, 8]\n",
      "[1, 2, 5, 7, 8]\n"
     ]
    }
   ],
   "source": [
    "# shuffle()\n",
    "lst = [1, 2, 5, 7, 8]\n",
    "print(lst)\n",
    "random.shuffle(lst)\n",
    "print(lst)"
   ]
  },
  {
   "cell_type": "code",
   "execution_count": 99,
   "metadata": {},
   "outputs": [
    {
     "name": "stdout",
     "output_type": "stream",
     "text": [
      "12.082737202971483\n"
     ]
    }
   ],
   "source": [
    "# \n",
    "num = random.triangular(10, 20, 20)\n",
    "print(num)"
   ]
  }
 ],
 "metadata": {
  "interpreter": {
   "hash": "ac63e7d2902d829a95718f514f583b39cb52f10e7c5524becb094a341f2ea3ca"
  },
  "kernelspec": {
   "display_name": "Python 3.10.1 64-bit (windows store)",
   "language": "python",
   "name": "python3"
  },
  "language_info": {
   "codemirror_mode": {
    "name": "ipython",
    "version": 3
   },
   "file_extension": ".py",
   "mimetype": "text/x-python",
   "name": "python",
   "nbconvert_exporter": "python",
   "pygments_lexer": "ipython3",
   "version": "3.10.1"
  },
  "orig_nbformat": 4
 },
 "nbformat": 4,
 "nbformat_minor": 2
}
