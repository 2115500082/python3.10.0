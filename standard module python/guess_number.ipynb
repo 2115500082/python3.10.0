{
 "cells": [
  {
   "cell_type": "code",
   "execution_count": null,
   "metadata": {},
   "outputs": [],
   "source": [
    "import random as r\n",
    "rnum = r.randint(1, 100)\n",
    "count = 0\n",
    "while 1:\n",
    "    num = int(input('Guess the number '))\n",
    "    count += 1\n",
    "    if num > rnum:\n",
    "        print('Number is small')\n",
    "    elif num < rnum:\n",
    "        print('Number is large')\n",
    "    else:\n",
    "        print(f'Right guess you Win with count {count}') \n",
    "        break \n",
    "\n"
   ]
  }
 ],
 "metadata": {
  "interpreter": {
   "hash": "ac63e7d2902d829a95718f514f583b39cb52f10e7c5524becb094a341f2ea3ca"
  },
  "kernelspec": {
   "display_name": "Python 3.10.1 64-bit (windows store)",
   "language": "python",
   "name": "python3"
  },
  "language_info": {
   "codemirror_mode": {
    "name": "ipython",
    "version": 3
   },
   "file_extension": ".py",
   "mimetype": "text/x-python",
   "name": "python",
   "nbconvert_exporter": "python",
   "pygments_lexer": "ipython3",
   "version": "3.10.1"
  },
  "orig_nbformat": 4
 },
 "nbformat": 4,
 "nbformat_minor": 2
}
